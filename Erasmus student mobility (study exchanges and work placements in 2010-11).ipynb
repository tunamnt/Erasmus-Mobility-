{
 "cells": [
  {
   "cell_type": "markdown",
   "id": "d0233431",
   "metadata": {},
   "source": [
    "### Erasmus student mobility (study exchanges and work placements in 2010-11)"
   ]
  },
  {
   "cell_type": "markdown",
   "id": "9bdaea41",
   "metadata": {},
   "source": [
    "#### 1. Dataset information\n",
    "#### Erasmus stands for European Region Action Scheme for the Mobility of University Students\n",
    "#### This dataset contains the statistical overview of Erasmus mobility for students (study exchanges and work placements) in 2010-11. Statistics are presented at country and European level for various criteria, e.g.: age, gender, grant, duration, special needs, subject area, level of study, sending and receiving country, etc.,\n",
    "#### The [Dataset Source](https://data.europa.eu/data/datasets/erasmus-facts-figures-trends-2010-2011?locale=en) is [The official portal for European data](https://data.europa.eu/en).\"\n",
    "   "
   ]
  },
  {
   "cell_type": "code",
   "execution_count": 2031,
   "id": "b2a5b0a0",
   "metadata": {},
   "outputs": [],
   "source": [
    "# import necessary libraries\n",
    "\n",
    "import pandas as pd\n",
    "import numpy as np\n",
    "import matplotlib.pyplot as plt\n",
    "import seaborn as sns\n",
    "from scipy import stats\n",
    "from sklearn.model_selection import train_test_split\n",
    "from sklearn.preprocessing import MinMaxScaler\n",
    "from sklearn.linear_model import LinearRegression\n",
    "from sklearn.metrics import mean_squared_error, mean_absolute_error \n",
    "from sklearn.metrics import r2_score\n",
    "import warnings\n",
    "warnings.filterwarnings('ignore')"
   ]
  },
  {
   "cell_type": "markdown",
   "id": "e91beedd",
   "metadata": {},
   "source": [
    "- Home Institution (Db:HomeInstitution): Erasmus ID code of the Sending Institution of the student\n",
    "- Country Code of Home Institution (Db:CountryCodeofHomeInstitution) : The country of Home Institution where a student studies / is registered\n",
    "- Age (Dd:Age)\n",
    "- Gender (Db: Gender)\n",
    "- Nationality (Db: Nationality)\n",
    "- Subject Area (Db: SubjectArea) The subject studied by the student at Home Institution. Numerical string of a maximum of 4 characters according to ISCED97 codes or Erasmus subject area codes (xx.x). \n",
    "- Years of HE Study Prior to Erasmus Study/Placement period (Db:YearsPrior) Number of (completed) years of higher education study prior to period abroad\n",
    "- Host Institution (Db: HostInstitution): The institution at which the student spend its Erasmus period\n",
    "- Country of Placement (Db: CountryOfWorkPlacement)\n",
    "- Size of the Enterprise  (Db: EnterpriseSize)\n",
    "- Type of Placement Sector (Db: TypeWorkSector) The field describes the type of the placement sector. Sector Code. String of 1 characters in the list of “NACE Sector Codes”\n",
    "- Supplement for disability (Db: SEVSupplement) The total grant awarded for disability for a study period/placement. This grant must be reported entirety in this field\n",
    "- Length of Placement in Months (Db: LengthPlacement)\n",
    "- Number of ECTS Credits Placement (Db: ECTSCreditsWork)\n",
    "- Learning carried out in the national language of Host country (Db: TaughtHostLang): Whether the student has carried out the training in the language of the Host Country\n",
    "- Training Language (Db: LanguageTaught) The language in which the student has  undergone the training\n",
    "- Linguistic Preparation of Student (Db: LingPreparation) Reports whether a student has attended a language course including EILC course in the Host country or other courses in the Home or Host country, which are specifically related to ERASMUS. It is not a general question about their schooling.  \n",
    "- Study Grant (Db: StudyGrant) The amount of grant the student received for study period excluding disability supplement but including EILCs\n",
    "- Placement Grant (Db: PlacementGrant) The amount of grant the student received for placement excluding disability supplement but including EILCs\n",
    "- Previous participation in the ERASMUS programme (Db: PreviousParticipation) The field indicates whether the student has received an ERASMUS grant prior to this one and for which type of mobility. \n",
    "- Qualification received at the Host Country (Db: QualificationAtHost) The field will hold information on whether the student will get a double, joint degree or any other qualification at the Host Institution/ Placement or no.\n",
    "\n",
    "\n",
    "\n",
    "\n",
    "\n",
    "\n",
    "\n",
    "\n",
    "\n",
    "\n",
    "\n",
    "\n",
    "\n",
    "\n"
   ]
  },
  {
   "cell_type": "markdown",
   "id": "6b743d79",
   "metadata": {},
   "source": [
    "# 1. Read dataset and a glance of the head of data"
   ]
  },
  {
   "cell_type": "code",
   "execution_count": 2032,
   "id": "9aa921e4",
   "metadata": {},
   "outputs": [
    {
     "name": "stdout",
     "output_type": "stream",
     "text": [
      "Shape of the data (231408, 32)\n"
     ]
    },
    {
     "data": {
      "text/html": [
       "<div>\n",
       "<style scoped>\n",
       "    .dataframe tbody tr th:only-of-type {\n",
       "        vertical-align: middle;\n",
       "    }\n",
       "\n",
       "    .dataframe tbody tr th {\n",
       "        vertical-align: top;\n",
       "    }\n",
       "\n",
       "    .dataframe thead th {\n",
       "        text-align: right;\n",
       "    }\n",
       "</style>\n",
       "<table border=\"1\" class=\"dataframe\">\n",
       "  <thead>\n",
       "    <tr style=\"text-align: right;\">\n",
       "      <th></th>\n",
       "      <th>HOMEINSTITUTION</th>\n",
       "      <th>COUNTRYCODEOFHOMEINSTITUTION</th>\n",
       "      <th>AGE</th>\n",
       "      <th>GENDER</th>\n",
       "      <th>NATIONALITY</th>\n",
       "      <th>SUBJECTAREA</th>\n",
       "      <th>LEVELSTUDY</th>\n",
       "      <th>YEARSPRIOR</th>\n",
       "      <th>MOBILITYTYPE</th>\n",
       "      <th>HOSTINSTITUTION</th>\n",
       "      <th>...</th>\n",
       "      <th>ECTSCREDITSWORK</th>\n",
       "      <th>TOTALECTSCREDITS</th>\n",
       "      <th>SEVSUPPLEMENT</th>\n",
       "      <th>TAUGHTHOSTLANG</th>\n",
       "      <th>LANGUAGETAUGHT</th>\n",
       "      <th>LINGPREPARATION</th>\n",
       "      <th>STUDYGRANT</th>\n",
       "      <th>PLACEMENTGRANT</th>\n",
       "      <th>PREVIOUSPARTICIPATION</th>\n",
       "      <th>QUALIFICATIONATHOST</th>\n",
       "    </tr>\n",
       "  </thead>\n",
       "  <tbody>\n",
       "    <tr>\n",
       "      <th>0</th>\n",
       "      <td>HU BUDAPES02</td>\n",
       "      <td>HU</td>\n",
       "      <td>25</td>\n",
       "      <td>M</td>\n",
       "      <td>HU</td>\n",
       "      <td>521</td>\n",
       "      <td>3</td>\n",
       "      <td>1</td>\n",
       "      <td>P</td>\n",
       "      <td>NaN</td>\n",
       "      <td>...</td>\n",
       "      <td>0</td>\n",
       "      <td>0</td>\n",
       "      <td>0</td>\n",
       "      <td>N</td>\n",
       "      <td>DE</td>\n",
       "      <td>NN</td>\n",
       "      <td>0.0</td>\n",
       "      <td>900.0</td>\n",
       "      <td>N</td>\n",
       "      <td>N</td>\n",
       "    </tr>\n",
       "    <tr>\n",
       "      <th>1</th>\n",
       "      <td>HU BUDAPES02</td>\n",
       "      <td>HU</td>\n",
       "      <td>28</td>\n",
       "      <td>M</td>\n",
       "      <td>HU</td>\n",
       "      <td>522</td>\n",
       "      <td>3</td>\n",
       "      <td>4</td>\n",
       "      <td>P</td>\n",
       "      <td>NaN</td>\n",
       "      <td>...</td>\n",
       "      <td>0</td>\n",
       "      <td>0</td>\n",
       "      <td>0</td>\n",
       "      <td>N</td>\n",
       "      <td>DE</td>\n",
       "      <td>NN</td>\n",
       "      <td>0.0</td>\n",
       "      <td>3600.0</td>\n",
       "      <td>N</td>\n",
       "      <td>N</td>\n",
       "    </tr>\n",
       "    <tr>\n",
       "      <th>2</th>\n",
       "      <td>HU BUDAPES02</td>\n",
       "      <td>HU</td>\n",
       "      <td>25</td>\n",
       "      <td>F</td>\n",
       "      <td>HU</td>\n",
       "      <td>581</td>\n",
       "      <td>2</td>\n",
       "      <td>5</td>\n",
       "      <td>P</td>\n",
       "      <td>NaN</td>\n",
       "      <td>...</td>\n",
       "      <td>0</td>\n",
       "      <td>0</td>\n",
       "      <td>0</td>\n",
       "      <td>N</td>\n",
       "      <td>EN</td>\n",
       "      <td>NN</td>\n",
       "      <td>0.0</td>\n",
       "      <td>1500.0</td>\n",
       "      <td>N</td>\n",
       "      <td>N</td>\n",
       "    </tr>\n",
       "    <tr>\n",
       "      <th>3</th>\n",
       "      <td>HU BUDAPES02</td>\n",
       "      <td>HU</td>\n",
       "      <td>23</td>\n",
       "      <td>M</td>\n",
       "      <td>SK</td>\n",
       "      <td>582</td>\n",
       "      <td>2</td>\n",
       "      <td>4</td>\n",
       "      <td>P</td>\n",
       "      <td>NaN</td>\n",
       "      <td>...</td>\n",
       "      <td>0</td>\n",
       "      <td>0</td>\n",
       "      <td>0</td>\n",
       "      <td>N</td>\n",
       "      <td>DE</td>\n",
       "      <td>NN</td>\n",
       "      <td>0.0</td>\n",
       "      <td>900.0</td>\n",
       "      <td>N</td>\n",
       "      <td>N</td>\n",
       "    </tr>\n",
       "    <tr>\n",
       "      <th>4</th>\n",
       "      <td>HU BUDAPES02</td>\n",
       "      <td>HU</td>\n",
       "      <td>24</td>\n",
       "      <td>F</td>\n",
       "      <td>HU</td>\n",
       "      <td>581</td>\n",
       "      <td>2</td>\n",
       "      <td>5</td>\n",
       "      <td>P</td>\n",
       "      <td>NaN</td>\n",
       "      <td>...</td>\n",
       "      <td>0</td>\n",
       "      <td>0</td>\n",
       "      <td>0</td>\n",
       "      <td>N</td>\n",
       "      <td>DE</td>\n",
       "      <td>NN</td>\n",
       "      <td>0.0</td>\n",
       "      <td>1800.0</td>\n",
       "      <td>N</td>\n",
       "      <td>N</td>\n",
       "    </tr>\n",
       "  </tbody>\n",
       "</table>\n",
       "<p>5 rows × 32 columns</p>\n",
       "</div>"
      ],
      "text/plain": [
       "  HOMEINSTITUTION COUNTRYCODEOFHOMEINSTITUTION  AGE GENDER NATIONALITY  \\\n",
       "0    HU BUDAPES02                           HU   25      M          HU   \n",
       "1    HU BUDAPES02                           HU   28      M          HU   \n",
       "2    HU BUDAPES02                           HU   25      F          HU   \n",
       "3    HU BUDAPES02                           HU   23      M          SK   \n",
       "4    HU BUDAPES02                           HU   24      F          HU   \n",
       "\n",
       "   SUBJECTAREA LEVELSTUDY  YEARSPRIOR MOBILITYTYPE HOSTINSTITUTION  ...  \\\n",
       "0          521          3           1            P             NaN  ...   \n",
       "1          522          3           4            P             NaN  ...   \n",
       "2          581          2           5            P             NaN  ...   \n",
       "3          582          2           4            P             NaN  ...   \n",
       "4          581          2           5            P             NaN  ...   \n",
       "\n",
       "  ECTSCREDITSWORK TOTALECTSCREDITS SEVSUPPLEMENT TAUGHTHOSTLANG  \\\n",
       "0               0                0             0              N   \n",
       "1               0                0             0              N   \n",
       "2               0                0             0              N   \n",
       "3               0                0             0              N   \n",
       "4               0                0             0              N   \n",
       "\n",
       "  LANGUAGETAUGHT  LINGPREPARATION  STUDYGRANT PLACEMENTGRANT  \\\n",
       "0             DE               NN         0.0          900.0   \n",
       "1             DE               NN         0.0         3600.0   \n",
       "2             EN               NN         0.0         1500.0   \n",
       "3             DE               NN         0.0          900.0   \n",
       "4             DE               NN         0.0         1800.0   \n",
       "\n",
       "  PREVIOUSPARTICIPATION QUALIFICATIONATHOST  \n",
       "0                     N                   N  \n",
       "1                     N                   N  \n",
       "2                     N                   N  \n",
       "3                     N                   N  \n",
       "4                     N                   N  \n",
       "\n",
       "[5 rows x 32 columns]"
      ]
     },
     "execution_count": 2032,
     "metadata": {},
     "output_type": "execute_result"
    }
   ],
   "source": [
    "data=pd.read_csv(\"student_data_2010.csv\",error_bad_lines=False,sep=\";\")\n",
    "print(f'Shape of the data {data.shape}')\n",
    "data.head()"
   ]
  },
  {
   "cell_type": "code",
   "execution_count": null,
   "id": "fd906f26",
   "metadata": {},
   "outputs": [],
   "source": []
  },
  {
   "cell_type": "markdown",
   "id": "030a4906",
   "metadata": {},
   "source": [
    "# 2. Data cleaning and wrangling"
   ]
  },
  {
   "cell_type": "code",
   "execution_count": 2033,
   "id": "220139b0",
   "metadata": {},
   "outputs": [],
   "source": [
    "# Drop Nan values:\n",
    "data.dropna(how=\"all\",inplace=True)"
   ]
  },
  {
   "cell_type": "code",
   "execution_count": 2034,
   "id": "7ce0e907",
   "metadata": {
    "scrolled": true
   },
   "outputs": [
    {
     "name": "stdout",
     "output_type": "stream",
     "text": [
      "<class 'pandas.core.frame.DataFrame'>\n",
      "Int64Index: 231408 entries, 0 to 231407\n",
      "Data columns (total 32 columns):\n",
      " #   Column                        Non-Null Count   Dtype  \n",
      "---  ------                        --------------   -----  \n",
      " 0   HOMEINSTITUTION               231408 non-null  object \n",
      " 1   COUNTRYCODEOFHOMEINSTITUTION  231408 non-null  object \n",
      " 2   AGE                           231408 non-null  int64  \n",
      " 3   GENDER                        231408 non-null  object \n",
      " 4   NATIONALITY                   231408 non-null  object \n",
      " 5   SUBJECTAREA                   231408 non-null  int64  \n",
      " 6   LEVELSTUDY                    231408 non-null  object \n",
      " 7   YEARSPRIOR                    231408 non-null  int64  \n",
      " 8   MOBILITYTYPE                  231408 non-null  object \n",
      " 9   HOSTINSTITUTION               190499 non-null  object \n",
      " 10  COUNTRYCODEOFHOSTINSTITUTION  190499 non-null  object \n",
      " 11  WORKPLACEMENT                 40964 non-null   object \n",
      " 12  COUNTRYOFWORKPLACEMENT        40964 non-null   object \n",
      " 13  ENTERPRISESIZE                40964 non-null   object \n",
      " 14  TYPEWORKSECTOR                40964 non-null   object \n",
      " 15  LENGTHSTUDYPERIOD             231408 non-null  float64\n",
      " 16  LENGTHPLACEMENT               231408 non-null  float64\n",
      " 17  SHORTDURATION                 1373 non-null    object \n",
      " 18  STUDYSTARTDATE                190501 non-null  object \n",
      " 19  PLACEMENTSTARTDATE            40983 non-null   object \n",
      " 20  CONSORTIUMAGREEMENTNUMBER     5909 non-null    object \n",
      " 21  ECTSCREDITSSTUDY              231408 non-null  int64  \n",
      " 22  ECTSCREDITSWORK               231408 non-null  int64  \n",
      " 23  TOTALECTSCREDITS              231408 non-null  int64  \n",
      " 24  SEVSUPPLEMENT                 231408 non-null  int64  \n",
      " 25  TAUGHTHOSTLANG                231408 non-null  object \n",
      " 26  LANGUAGETAUGHT                231408 non-null  object \n",
      " 27  LINGPREPARATION               231408 non-null  object \n",
      " 28  STUDYGRANT                    231408 non-null  float64\n",
      " 29  PLACEMENTGRANT                231408 non-null  float64\n",
      " 30  PREVIOUSPARTICIPATION         231408 non-null  object \n",
      " 31  QUALIFICATIONATHOST           231408 non-null  object \n",
      "dtypes: float64(4), int64(7), object(21)\n",
      "memory usage: 58.3+ MB\n"
     ]
    }
   ],
   "source": [
    "data.info()"
   ]
  },
  {
   "cell_type": "markdown",
   "id": "5a4a5ba9",
   "metadata": {},
   "source": [
    "#### Comment: From the Dataset info, there are 2 kinds of Erasmus exchange: work placement and study."
   ]
  },
  {
   "cell_type": "code",
   "execution_count": 2035,
   "id": "23d706da",
   "metadata": {
    "scrolled": true
   },
   "outputs": [],
   "source": [
    "student_with_workplacement=data[data.WORKPLACEMENT.notnull()]\n",
    "df = student_with_workplacement"
   ]
  },
  {
   "cell_type": "code",
   "execution_count": 2036,
   "id": "06ebc33c",
   "metadata": {},
   "outputs": [
    {
     "data": {
      "text/plain": [
       "40964"
      ]
     },
     "execution_count": 2036,
     "metadata": {},
     "output_type": "execute_result"
    }
   ],
   "source": [
    "len(df)"
   ]
  },
  {
   "cell_type": "code",
   "execution_count": 2037,
   "id": "fd74c60e",
   "metadata": {},
   "outputs": [],
   "source": [
    "student_without_workplacement=data[~data.WORKPLACEMENT.notnull()]"
   ]
  },
  {
   "cell_type": "code",
   "execution_count": 2038,
   "id": "35ec765e",
   "metadata": {},
   "outputs": [
    {
     "data": {
      "text/plain": [
       "190444"
      ]
     },
     "execution_count": 2038,
     "metadata": {},
     "output_type": "execute_result"
    }
   ],
   "source": [
    "len(student_without_workplacement)"
   ]
  },
  {
   "cell_type": "code",
   "execution_count": 2039,
   "id": "51d20830",
   "metadata": {},
   "outputs": [
    {
     "data": {
      "text/plain": [
       "Index(['HOMEINSTITUTION', 'COUNTRYCODEOFHOMEINSTITUTION', 'AGE', 'GENDER',\n",
       "       'NATIONALITY', 'SUBJECTAREA', 'LEVELSTUDY', 'YEARSPRIOR',\n",
       "       'MOBILITYTYPE', 'HOSTINSTITUTION', 'COUNTRYCODEOFHOSTINSTITUTION',\n",
       "       'WORKPLACEMENT', 'COUNTRYOFWORKPLACEMENT', 'ENTERPRISESIZE',\n",
       "       'TYPEWORKSECTOR', 'LENGTHSTUDYPERIOD', 'LENGTHPLACEMENT',\n",
       "       'SHORTDURATION', 'STUDYSTARTDATE', 'PLACEMENTSTARTDATE',\n",
       "       'CONSORTIUMAGREEMENTNUMBER', 'ECTSCREDITSSTUDY', 'ECTSCREDITSWORK',\n",
       "       'TOTALECTSCREDITS', 'SEVSUPPLEMENT', 'TAUGHTHOSTLANG', 'LANGUAGETAUGHT',\n",
       "       'LINGPREPARATION', 'STUDYGRANT', 'PLACEMENTGRANT',\n",
       "       'PREVIOUSPARTICIPATION', 'QUALIFICATIONATHOST'],\n",
       "      dtype='object')"
      ]
     },
     "execution_count": 2039,
     "metadata": {},
     "output_type": "execute_result"
    }
   ],
   "source": [
    "# Columns in student with workplacement dataset\n",
    "\n",
    "df.columns"
   ]
  },
  {
   "cell_type": "code",
   "execution_count": 2040,
   "id": "de81e82b",
   "metadata": {},
   "outputs": [],
   "source": [
    "binary_cols  = ['GENDER', 'MOBILITYTYPE', 'TAUGHTHOSTLANG']\n",
    "ordinal_cols = ['ENTERPRISESIZE']\n",
    "nominal_cols = ['PREVIOUSPARTICIPATION', 'QUALIFICATIONATHOST', 'SUBJECTAREA', 'NATIONALITY', 'LEVELSTUDY', \n",
    "                'COUNTRYOFWORKPLACEMENT', 'TYPEWORKSECTOR', 'LINGPREPARATION', 'LANGUAGETAUGHT']\n",
    "numeric_cols = ['AGE', 'YEARSPRIOR', 'LENGTHPLACEMENT', 'ECTSCREDITSWORK']"
   ]
  },
  {
   "cell_type": "code",
   "execution_count": null,
   "id": "3e3ea3a1",
   "metadata": {},
   "outputs": [],
   "source": []
  },
  {
   "cell_type": "markdown",
   "id": "a9668235",
   "metadata": {},
   "source": [
    "# 3. Analyzing Dataset of workplacement group\n",
    "Placement Enterprise\n",
    "Db: WorkPlacement\n",
    "- The name of the company/organisation at which the student undertook a  placement\n",
    "(in latin characters).\n",
    "\n",
    "    + C19.1 If \" Type of mobility \" = 'P', then \"Placement Enterprise\" cannot be empty\n",
    "    + C19.2 If \" Type of mobility \" is not P, then \"Placement Enterprise\" must be empty\n",
    "    + C19.2 Length ≤ 255\n"
   ]
  },
  {
   "cell_type": "markdown",
   "id": "d75c06f1",
   "metadata": {},
   "source": [
    "## 3.1 Preview"
   ]
  },
  {
   "cell_type": "code",
   "execution_count": 2041,
   "id": "7ae7caf7",
   "metadata": {},
   "outputs": [
    {
     "name": "stdout",
     "output_type": "stream",
     "text": [
      "Shape of workplacement Erasmus student data: (40964, 32)\n"
     ]
    }
   ],
   "source": [
    "# Shape of this subdataset:\n",
    "\n",
    "print(f'Shape of workplacement Erasmus student data: {df.shape}')"
   ]
  },
  {
   "cell_type": "code",
   "execution_count": 2042,
   "id": "7f435e91",
   "metadata": {},
   "outputs": [
    {
     "data": {
      "text/html": [
       "<div>\n",
       "<style scoped>\n",
       "    .dataframe tbody tr th:only-of-type {\n",
       "        vertical-align: middle;\n",
       "    }\n",
       "\n",
       "    .dataframe tbody tr th {\n",
       "        vertical-align: top;\n",
       "    }\n",
       "\n",
       "    .dataframe thead th {\n",
       "        text-align: right;\n",
       "    }\n",
       "</style>\n",
       "<table border=\"1\" class=\"dataframe\">\n",
       "  <thead>\n",
       "    <tr style=\"text-align: right;\">\n",
       "      <th></th>\n",
       "      <th>AGE</th>\n",
       "      <th>SUBJECTAREA</th>\n",
       "      <th>YEARSPRIOR</th>\n",
       "      <th>LENGTHSTUDYPERIOD</th>\n",
       "      <th>LENGTHPLACEMENT</th>\n",
       "      <th>ECTSCREDITSSTUDY</th>\n",
       "      <th>ECTSCREDITSWORK</th>\n",
       "      <th>TOTALECTSCREDITS</th>\n",
       "      <th>SEVSUPPLEMENT</th>\n",
       "      <th>STUDYGRANT</th>\n",
       "      <th>PLACEMENTGRANT</th>\n",
       "    </tr>\n",
       "  </thead>\n",
       "  <tbody>\n",
       "    <tr>\n",
       "      <th>count</th>\n",
       "      <td>40964.000000</td>\n",
       "      <td>40964.000000</td>\n",
       "      <td>40964.000000</td>\n",
       "      <td>40964.000000</td>\n",
       "      <td>40964.000000</td>\n",
       "      <td>40964.000000</td>\n",
       "      <td>40964.000000</td>\n",
       "      <td>40964.000000</td>\n",
       "      <td>40964.000000</td>\n",
       "      <td>40964.000000</td>\n",
       "      <td>40964.000000</td>\n",
       "    </tr>\n",
       "    <tr>\n",
       "      <th>mean</th>\n",
       "      <td>22.764134</td>\n",
       "      <td>321.356362</td>\n",
       "      <td>2.666951</td>\n",
       "      <td>0.012340</td>\n",
       "      <td>4.334342</td>\n",
       "      <td>0.060175</td>\n",
       "      <td>14.619398</td>\n",
       "      <td>14.679572</td>\n",
       "      <td>0.938238</td>\n",
       "      <td>4.667954</td>\n",
       "      <td>1586.466603</td>\n",
       "    </tr>\n",
       "    <tr>\n",
       "      <th>std</th>\n",
       "      <td>3.297802</td>\n",
       "      <td>242.620397</td>\n",
       "      <td>1.429505</td>\n",
       "      <td>0.351672</td>\n",
       "      <td>2.028988</td>\n",
       "      <td>1.896413</td>\n",
       "      <td>15.762616</td>\n",
       "      <td>15.820776</td>\n",
       "      <td>58.143035</td>\n",
       "      <td>133.016147</td>\n",
       "      <td>840.113655</td>\n",
       "    </tr>\n",
       "    <tr>\n",
       "      <th>min</th>\n",
       "      <td>17.000000</td>\n",
       "      <td>0.000000</td>\n",
       "      <td>0.000000</td>\n",
       "      <td>0.000000</td>\n",
       "      <td>0.000000</td>\n",
       "      <td>0.000000</td>\n",
       "      <td>0.000000</td>\n",
       "      <td>0.000000</td>\n",
       "      <td>0.000000</td>\n",
       "      <td>0.000000</td>\n",
       "      <td>0.000000</td>\n",
       "    </tr>\n",
       "    <tr>\n",
       "      <th>25%</th>\n",
       "      <td>21.000000</td>\n",
       "      <td>64.000000</td>\n",
       "      <td>2.000000</td>\n",
       "      <td>0.000000</td>\n",
       "      <td>3.000000</td>\n",
       "      <td>0.000000</td>\n",
       "      <td>0.000000</td>\n",
       "      <td>0.000000</td>\n",
       "      <td>0.000000</td>\n",
       "      <td>0.000000</td>\n",
       "      <td>1034.090000</td>\n",
       "    </tr>\n",
       "    <tr>\n",
       "      <th>50%</th>\n",
       "      <td>22.000000</td>\n",
       "      <td>313.000000</td>\n",
       "      <td>2.000000</td>\n",
       "      <td>0.000000</td>\n",
       "      <td>3.500000</td>\n",
       "      <td>0.000000</td>\n",
       "      <td>11.000000</td>\n",
       "      <td>11.000000</td>\n",
       "      <td>0.000000</td>\n",
       "      <td>0.000000</td>\n",
       "      <td>1400.000000</td>\n",
       "    </tr>\n",
       "    <tr>\n",
       "      <th>75%</th>\n",
       "      <td>24.000000</td>\n",
       "      <td>520.000000</td>\n",
       "      <td>4.000000</td>\n",
       "      <td>0.000000</td>\n",
       "      <td>5.000000</td>\n",
       "      <td>0.000000</td>\n",
       "      <td>26.000000</td>\n",
       "      <td>26.000000</td>\n",
       "      <td>0.000000</td>\n",
       "      <td>0.000000</td>\n",
       "      <td>1950.000000</td>\n",
       "    </tr>\n",
       "    <tr>\n",
       "      <th>max</th>\n",
       "      <td>68.000000</td>\n",
       "      <td>869.000000</td>\n",
       "      <td>16.000000</td>\n",
       "      <td>12.000000</td>\n",
       "      <td>12.000000</td>\n",
       "      <td>90.000000</td>\n",
       "      <td>90.000000</td>\n",
       "      <td>90.000000</td>\n",
       "      <td>8708.000000</td>\n",
       "      <td>4536.000000</td>\n",
       "      <td>9600.000000</td>\n",
       "    </tr>\n",
       "  </tbody>\n",
       "</table>\n",
       "</div>"
      ],
      "text/plain": [
       "                AGE   SUBJECTAREA    YEARSPRIOR  LENGTHSTUDYPERIOD  \\\n",
       "count  40964.000000  40964.000000  40964.000000       40964.000000   \n",
       "mean      22.764134    321.356362      2.666951           0.012340   \n",
       "std        3.297802    242.620397      1.429505           0.351672   \n",
       "min       17.000000      0.000000      0.000000           0.000000   \n",
       "25%       21.000000     64.000000      2.000000           0.000000   \n",
       "50%       22.000000    313.000000      2.000000           0.000000   \n",
       "75%       24.000000    520.000000      4.000000           0.000000   \n",
       "max       68.000000    869.000000     16.000000          12.000000   \n",
       "\n",
       "       LENGTHPLACEMENT  ECTSCREDITSSTUDY  ECTSCREDITSWORK  TOTALECTSCREDITS  \\\n",
       "count     40964.000000      40964.000000     40964.000000      40964.000000   \n",
       "mean          4.334342          0.060175        14.619398         14.679572   \n",
       "std           2.028988          1.896413        15.762616         15.820776   \n",
       "min           0.000000          0.000000         0.000000          0.000000   \n",
       "25%           3.000000          0.000000         0.000000          0.000000   \n",
       "50%           3.500000          0.000000        11.000000         11.000000   \n",
       "75%           5.000000          0.000000        26.000000         26.000000   \n",
       "max          12.000000         90.000000        90.000000         90.000000   \n",
       "\n",
       "       SEVSUPPLEMENT    STUDYGRANT  PLACEMENTGRANT  \n",
       "count   40964.000000  40964.000000    40964.000000  \n",
       "mean        0.938238      4.667954     1586.466603  \n",
       "std        58.143035    133.016147      840.113655  \n",
       "min         0.000000      0.000000        0.000000  \n",
       "25%         0.000000      0.000000     1034.090000  \n",
       "50%         0.000000      0.000000     1400.000000  \n",
       "75%         0.000000      0.000000     1950.000000  \n",
       "max      8708.000000   4536.000000     9600.000000  "
      ]
     },
     "execution_count": 2042,
     "metadata": {},
     "output_type": "execute_result"
    }
   ],
   "source": [
    "# Dataset description:\n",
    "\n",
    "df.describe()"
   ]
  },
  {
   "cell_type": "markdown",
   "id": "12b1131c",
   "metadata": {},
   "source": [
    "#### Note:"
   ]
  },
  {
   "cell_type": "markdown",
   "id": "ba1896d7",
   "metadata": {},
   "source": [
    "- Average age of student is around 22 y.o, with a max of 68 y.o\n",
    "- Average length of Placement is about 4 months, with a max of 12 months\n",
    "- On average students earn 15 credits, with a max of 90 credits\n",
    "- The average amount of placement grant is 1586 euros, with a max of 9600 euros for the whole exchange period"
   ]
  },
  {
   "cell_type": "code",
   "execution_count": 2043,
   "id": "bdf8df55",
   "metadata": {},
   "outputs": [
    {
     "data": {
      "image/png": "[encoded data removed]",
      "text/plain": [
       "<Figure size 1008x360 with 4 Axes>"
      ]
     },
     "metadata": {
      "needs_background": "light"
     },
     "output_type": "display_data"
    }
   ],
   "source": [
    "# use boxplot to describe data\n",
    "\n",
    "%matplotlib inline\n",
    "fig,ax=plt.subplots(1,4,figsize=(14,5))\n",
    "list1 = ['AGE','LENGTHPLACEMENT','ECTSCREDITSWORK','PLACEMENTGRANT']\n",
    "\n",
    "for i in range(len(list1)):\n",
    "    df[list1[i]].plot.box(ax = ax[i])\n",
    "\n",
    "fig.tight_layout()\n",
    "plt.show()"
   ]
  },
  {
   "cell_type": "code",
   "execution_count": null,
   "id": "8876f3f8",
   "metadata": {},
   "outputs": [],
   "source": []
  },
  {
   "cell_type": "markdown",
   "id": "b9590bce",
   "metadata": {},
   "source": [
    "## 3.2 Drop irrelevant columns "
   ]
  },
  {
   "cell_type": "code",
   "execution_count": 2044,
   "id": "1ad6ceba",
   "metadata": {
    "scrolled": false
   },
   "outputs": [],
   "source": [
    "df.drop(columns=[\"COUNTRYCODEOFHOSTINSTITUTION\",\"STUDYSTARTDATE\",\"ECTSCREDITSSTUDY\", \"LENGTHSTUDYPERIOD\"], axis=1,inplace=True)"
   ]
  },
  {
   "cell_type": "code",
   "execution_count": 2045,
   "id": "345854a1",
   "metadata": {},
   "outputs": [
    {
     "name": "stdout",
     "output_type": "stream",
     "text": [
      "<class 'pandas.core.frame.DataFrame'>\n",
      "Int64Index: 40964 entries, 0 to 231407\n",
      "Data columns (total 28 columns):\n",
      " #   Column                        Non-Null Count  Dtype  \n",
      "---  ------                        --------------  -----  \n",
      " 0   HOMEINSTITUTION               40964 non-null  object \n",
      " 1   COUNTRYCODEOFHOMEINSTITUTION  40964 non-null  object \n",
      " 2   AGE                           40964 non-null  int64  \n",
      " 3   GENDER                        40964 non-null  object \n",
      " 4   NATIONALITY                   40964 non-null  object \n",
      " 5   SUBJECTAREA                   40964 non-null  int64  \n",
      " 6   LEVELSTUDY                    40964 non-null  object \n",
      " 7   YEARSPRIOR                    40964 non-null  int64  \n",
      " 8   MOBILITYTYPE                  40964 non-null  object \n",
      " 9   HOSTINSTITUTION               55 non-null     object \n",
      " 10  WORKPLACEMENT                 40964 non-null  object \n",
      " 11  COUNTRYOFWORKPLACEMENT        40964 non-null  object \n",
      " 12  ENTERPRISESIZE                40964 non-null  object \n",
      " 13  TYPEWORKSECTOR                40964 non-null  object \n",
      " 14  LENGTHPLACEMENT               40964 non-null  float64\n",
      " 15  SHORTDURATION                 327 non-null    object \n",
      " 16  PLACEMENTSTARTDATE            40964 non-null  object \n",
      " 17  CONSORTIUMAGREEMENTNUMBER     5736 non-null   object \n",
      " 18  ECTSCREDITSWORK               40964 non-null  int64  \n",
      " 19  TOTALECTSCREDITS              40964 non-null  int64  \n",
      " 20  SEVSUPPLEMENT                 40964 non-null  int64  \n",
      " 21  TAUGHTHOSTLANG                40964 non-null  object \n",
      " 22  LANGUAGETAUGHT                40964 non-null  object \n",
      " 23  LINGPREPARATION               40964 non-null  object \n",
      " 24  STUDYGRANT                    40964 non-null  float64\n",
      " 25  PLACEMENTGRANT                40964 non-null  float64\n",
      " 26  PREVIOUSPARTICIPATION         40964 non-null  object \n",
      " 27  QUALIFICATIONATHOST           40964 non-null  object \n",
      "dtypes: float64(3), int64(6), object(19)\n",
      "memory usage: 9.1+ MB\n"
     ]
    }
   ],
   "source": [
    "# info\n",
    "\n",
    "df.info()"
   ]
  },
  {
   "cell_type": "markdown",
   "id": "2fac4f8c",
   "metadata": {},
   "source": [
    "## 3.3 Drop duplicated columns"
   ]
  },
  {
   "cell_type": "code",
   "execution_count": 2046,
   "id": "df1792c4",
   "metadata": {},
   "outputs": [
    {
     "data": {
      "text/plain": [
       "1272"
      ]
     },
     "execution_count": 2046,
     "metadata": {},
     "output_type": "execute_result"
    }
   ],
   "source": [
    "# Check for duplication\n",
    "\n",
    "df.duplicated().sum()"
   ]
  },
  {
   "cell_type": "code",
   "execution_count": 2047,
   "id": "3fa077cd",
   "metadata": {},
   "outputs": [],
   "source": [
    "# filter duplication\n",
    "\n",
    "df=df[~df.duplicated()]"
   ]
  },
  {
   "cell_type": "code",
   "execution_count": 2048,
   "id": "9529fc95",
   "metadata": {},
   "outputs": [
    {
     "data": {
      "text/plain": [
       "39692"
      ]
     },
     "execution_count": 2048,
     "metadata": {},
     "output_type": "execute_result"
    }
   ],
   "source": [
    "# length of new data\n",
    "\n",
    "len(df)"
   ]
  },
  {
   "cell_type": "code",
   "execution_count": 2049,
   "id": "bd53ff19",
   "metadata": {
    "scrolled": true
   },
   "outputs": [
    {
     "data": {
      "text/html": [
       "<div>\n",
       "<style scoped>\n",
       "    .dataframe tbody tr th:only-of-type {\n",
       "        vertical-align: middle;\n",
       "    }\n",
       "\n",
       "    .dataframe tbody tr th {\n",
       "        vertical-align: top;\n",
       "    }\n",
       "\n",
       "    .dataframe thead th {\n",
       "        text-align: right;\n",
       "    }\n",
       "</style>\n",
       "<table border=\"1\" class=\"dataframe\">\n",
       "  <thead>\n",
       "    <tr style=\"text-align: right;\">\n",
       "      <th></th>\n",
       "      <th>AGE</th>\n",
       "      <th>SUBJECTAREA</th>\n",
       "      <th>YEARSPRIOR</th>\n",
       "      <th>LENGTHPLACEMENT</th>\n",
       "      <th>ECTSCREDITSWORK</th>\n",
       "      <th>TOTALECTSCREDITS</th>\n",
       "      <th>SEVSUPPLEMENT</th>\n",
       "      <th>STUDYGRANT</th>\n",
       "      <th>PLACEMENTGRANT</th>\n",
       "    </tr>\n",
       "  </thead>\n",
       "  <tbody>\n",
       "    <tr>\n",
       "      <th>AGE</th>\n",
       "      <td>1.000000</td>\n",
       "      <td>0.097224</td>\n",
       "      <td>0.306283</td>\n",
       "      <td>0.007623</td>\n",
       "      <td>-0.101139</td>\n",
       "      <td>-0.102050</td>\n",
       "      <td>0.003963</td>\n",
       "      <td>-0.012188</td>\n",
       "      <td>0.019071</td>\n",
       "    </tr>\n",
       "    <tr>\n",
       "      <th>SUBJECTAREA</th>\n",
       "      <td>0.097224</td>\n",
       "      <td>1.000000</td>\n",
       "      <td>0.046106</td>\n",
       "      <td>-0.028010</td>\n",
       "      <td>0.022705</td>\n",
       "      <td>0.020834</td>\n",
       "      <td>-0.003557</td>\n",
       "      <td>-0.012000</td>\n",
       "      <td>-0.039471</td>\n",
       "    </tr>\n",
       "    <tr>\n",
       "      <th>YEARSPRIOR</th>\n",
       "      <td>0.306283</td>\n",
       "      <td>0.046106</td>\n",
       "      <td>1.000000</td>\n",
       "      <td>0.092399</td>\n",
       "      <td>-0.080503</td>\n",
       "      <td>-0.082086</td>\n",
       "      <td>0.000611</td>\n",
       "      <td>-0.017329</td>\n",
       "      <td>0.080890</td>\n",
       "    </tr>\n",
       "    <tr>\n",
       "      <th>LENGTHPLACEMENT</th>\n",
       "      <td>0.007623</td>\n",
       "      <td>-0.028010</td>\n",
       "      <td>0.092399</td>\n",
       "      <td>1.000000</td>\n",
       "      <td>0.417290</td>\n",
       "      <td>0.407597</td>\n",
       "      <td>0.004753</td>\n",
       "      <td>-0.075458</td>\n",
       "      <td>0.800821</td>\n",
       "    </tr>\n",
       "    <tr>\n",
       "      <th>ECTSCREDITSWORK</th>\n",
       "      <td>-0.101139</td>\n",
       "      <td>0.022705</td>\n",
       "      <td>-0.080503</td>\n",
       "      <td>0.417290</td>\n",
       "      <td>1.000000</td>\n",
       "      <td>0.992791</td>\n",
       "      <td>0.003001</td>\n",
       "      <td>-0.032735</td>\n",
       "      <td>0.257351</td>\n",
       "    </tr>\n",
       "    <tr>\n",
       "      <th>TOTALECTSCREDITS</th>\n",
       "      <td>-0.102050</td>\n",
       "      <td>0.020834</td>\n",
       "      <td>-0.082086</td>\n",
       "      <td>0.407597</td>\n",
       "      <td>0.992791</td>\n",
       "      <td>1.000000</td>\n",
       "      <td>0.002928</td>\n",
       "      <td>0.076903</td>\n",
       "      <td>0.249201</td>\n",
       "    </tr>\n",
       "    <tr>\n",
       "      <th>SEVSUPPLEMENT</th>\n",
       "      <td>0.003963</td>\n",
       "      <td>-0.003557</td>\n",
       "      <td>0.000611</td>\n",
       "      <td>0.004753</td>\n",
       "      <td>0.003001</td>\n",
       "      <td>0.002928</td>\n",
       "      <td>1.000000</td>\n",
       "      <td>-0.000567</td>\n",
       "      <td>0.008594</td>\n",
       "    </tr>\n",
       "    <tr>\n",
       "      <th>STUDYGRANT</th>\n",
       "      <td>-0.012188</td>\n",
       "      <td>-0.012000</td>\n",
       "      <td>-0.017329</td>\n",
       "      <td>-0.075458</td>\n",
       "      <td>-0.032735</td>\n",
       "      <td>0.076903</td>\n",
       "      <td>-0.000567</td>\n",
       "      <td>1.000000</td>\n",
       "      <td>-0.066613</td>\n",
       "    </tr>\n",
       "    <tr>\n",
       "      <th>PLACEMENTGRANT</th>\n",
       "      <td>0.019071</td>\n",
       "      <td>-0.039471</td>\n",
       "      <td>0.080890</td>\n",
       "      <td>0.800821</td>\n",
       "      <td>0.257351</td>\n",
       "      <td>0.249201</td>\n",
       "      <td>0.008594</td>\n",
       "      <td>-0.066613</td>\n",
       "      <td>1.000000</td>\n",
       "    </tr>\n",
       "  </tbody>\n",
       "</table>\n",
       "</div>"
      ],
      "text/plain": [
       "                       AGE  SUBJECTAREA  YEARSPRIOR  LENGTHPLACEMENT  \\\n",
       "AGE               1.000000     0.097224    0.306283         0.007623   \n",
       "SUBJECTAREA       0.097224     1.000000    0.046106        -0.028010   \n",
       "YEARSPRIOR        0.306283     0.046106    1.000000         0.092399   \n",
       "LENGTHPLACEMENT   0.007623    -0.028010    0.092399         1.000000   \n",
       "ECTSCREDITSWORK  -0.101139     0.022705   -0.080503         0.417290   \n",
       "TOTALECTSCREDITS -0.102050     0.020834   -0.082086         0.407597   \n",
       "SEVSUPPLEMENT     0.003963    -0.003557    0.000611         0.004753   \n",
       "STUDYGRANT       -0.012188    -0.012000   -0.017329        -0.075458   \n",
       "PLACEMENTGRANT    0.019071    -0.039471    0.080890         0.800821   \n",
       "\n",
       "                  ECTSCREDITSWORK  TOTALECTSCREDITS  SEVSUPPLEMENT  \\\n",
       "AGE                     -0.101139         -0.102050       0.003963   \n",
       "SUBJECTAREA              0.022705          0.020834      -0.003557   \n",
       "YEARSPRIOR              -0.080503         -0.082086       0.000611   \n",
       "LENGTHPLACEMENT          0.417290          0.407597       0.004753   \n",
       "ECTSCREDITSWORK          1.000000          0.992791       0.003001   \n",
       "TOTALECTSCREDITS         0.992791          1.000000       0.002928   \n",
       "SEVSUPPLEMENT            0.003001          0.002928       1.000000   \n",
       "STUDYGRANT              -0.032735          0.076903      -0.000567   \n",
       "PLACEMENTGRANT           0.257351          0.249201       0.008594   \n",
       "\n",
       "                  STUDYGRANT  PLACEMENTGRANT  \n",
       "AGE                -0.012188        0.019071  \n",
       "SUBJECTAREA        -0.012000       -0.039471  \n",
       "YEARSPRIOR         -0.017329        0.080890  \n",
       "LENGTHPLACEMENT    -0.075458        0.800821  \n",
       "ECTSCREDITSWORK    -0.032735        0.257351  \n",
       "TOTALECTSCREDITS    0.076903        0.249201  \n",
       "SEVSUPPLEMENT      -0.000567        0.008594  \n",
       "STUDYGRANT          1.000000       -0.066613  \n",
       "PLACEMENTGRANT     -0.066613        1.000000  "
      ]
     },
     "execution_count": 2049,
     "metadata": {},
     "output_type": "execute_result"
    }
   ],
   "source": [
    "# check for correlation\n",
    "\n",
    "df.corr()"
   ]
  },
  {
   "cell_type": "code",
   "execution_count": 2050,
   "id": "421eaba7",
   "metadata": {},
   "outputs": [
    {
     "data": {
      "image/png": "[encoded data removed]",
      "text/plain": [
       "<Figure size 720x720 with 2 Axes>"
      ]
     },
     "metadata": {
      "needs_background": "light"
     },
     "output_type": "display_data"
    }
   ],
   "source": [
    "# plotting heatmap to show the correlation\n",
    "\n",
    "plt.figure(figsize=(10,10))\n",
    "sns.heatmap(df.corr(),annot=True)\n",
    "plt.show()"
   ]
  },
  {
   "cell_type": "markdown",
   "id": "9a8527dd",
   "metadata": {},
   "source": [
    "- Placement grant has a strong positive correlation with the length of work placement and a weak positive correlation with ECTS credit earned from work placement. \n",
    "- ECTS Credits earned from work placement have a weak correlation with length of placement.\n",
    "- Years of HE studey prior to Erasmus placement have a weak positive correlation with age"
   ]
  },
  {
   "cell_type": "code",
   "execution_count": null,
   "id": "3f3b47e1",
   "metadata": {},
   "outputs": [],
   "source": []
  },
  {
   "cell_type": "code",
   "execution_count": 2051,
   "id": "fcc5be1e",
   "metadata": {},
   "outputs": [
    {
     "data": {
      "image/png": "[encoded data removed]",
      "text/plain": [
       "<Figure size 1080x504 with 4 Axes>"
      ]
     },
     "metadata": {
      "needs_background": "light"
     },
     "output_type": "display_data"
    }
   ],
   "source": [
    "# scattering plot between carat vs price, depth vs price, table vs price\n",
    "%matplotlib inline\n",
    "fig,ax = plt.subplots(1, 4, figsize=(15,7))\n",
    "\n",
    "df.plot.scatter('LENGTHPLACEMENT','PLACEMENTGRANT',ax=ax[0])\n",
    "df.plot.scatter('ECTSCREDITSWORK','PLACEMENTGRANT',ax=ax[1])\n",
    "df.plot.scatter('ECTSCREDITSWORK','LENGTHPLACEMENT',ax=ax[2])\n",
    "df.plot.scatter('YEARSPRIOR','AGE',ax=ax[3])\n",
    "\n",
    "fig.tight_layout()\n",
    "plt.show()"
   ]
  },
  {
   "cell_type": "markdown",
   "id": "f28edb90",
   "metadata": {},
   "source": [
    "## 3.4 Analysing the connection between Gender and Placement grant"
   ]
  },
  {
   "cell_type": "code",
   "execution_count": 2052,
   "id": "57bfc21b",
   "metadata": {
    "scrolled": true
   },
   "outputs": [],
   "source": [
    "# Analysing the gender data\n",
    "\n",
    "gender=pd.DataFrame(df.GENDER.value_counts())\n",
    "gender.reset_index()\n",
    "gender.rename(columns={\"index\": \"Female/Male\", \"GENDER\": \"Number of student\"},inplace=True)"
   ]
  },
  {
   "cell_type": "code",
   "execution_count": 2053,
   "id": "a39b0159",
   "metadata": {},
   "outputs": [
    {
     "data": {
      "image/png": "[encoded data removed]",
      "text/plain": [
       "<Figure size 720x720 with 1 Axes>"
      ]
     },
     "metadata": {},
     "output_type": "display_data"
    }
   ],
   "source": [
    "%matplotlib inline\n",
    "\n",
    "plt.rcParams['font.size'] = '10'\n",
    "gender.plot.pie(y='Number of student', figsize=(10, 10)).legend([\"Female\",\"Male\"])\n",
    "plt.show()"
   ]
  },
  {
   "cell_type": "code",
   "execution_count": 2054,
   "id": "90f71b2f",
   "metadata": {},
   "outputs": [
    {
     "data": {
      "text/html": [
       "<div>\n",
       "<style scoped>\n",
       "    .dataframe tbody tr th:only-of-type {\n",
       "        vertical-align: middle;\n",
       "    }\n",
       "\n",
       "    .dataframe tbody tr th {\n",
       "        vertical-align: top;\n",
       "    }\n",
       "\n",
       "    .dataframe thead th {\n",
       "        text-align: right;\n",
       "    }\n",
       "</style>\n",
       "<table border=\"1\" class=\"dataframe\">\n",
       "  <thead>\n",
       "    <tr style=\"text-align: right;\">\n",
       "      <th></th>\n",
       "      <th>GENDER</th>\n",
       "      <th>PLACEMENTGRANT</th>\n",
       "    </tr>\n",
       "  </thead>\n",
       "  <tbody>\n",
       "    <tr>\n",
       "      <th>0</th>\n",
       "      <td>M</td>\n",
       "      <td>900.00</td>\n",
       "    </tr>\n",
       "    <tr>\n",
       "      <th>1</th>\n",
       "      <td>M</td>\n",
       "      <td>3600.00</td>\n",
       "    </tr>\n",
       "    <tr>\n",
       "      <th>2</th>\n",
       "      <td>F</td>\n",
       "      <td>1500.00</td>\n",
       "    </tr>\n",
       "    <tr>\n",
       "      <th>3</th>\n",
       "      <td>M</td>\n",
       "      <td>900.00</td>\n",
       "    </tr>\n",
       "    <tr>\n",
       "      <th>4</th>\n",
       "      <td>F</td>\n",
       "      <td>1800.00</td>\n",
       "    </tr>\n",
       "    <tr>\n",
       "      <th>...</th>\n",
       "      <td>...</td>\n",
       "      <td>...</td>\n",
       "    </tr>\n",
       "    <tr>\n",
       "      <th>231401</th>\n",
       "      <td>F</td>\n",
       "      <td>0.00</td>\n",
       "    </tr>\n",
       "    <tr>\n",
       "      <th>231403</th>\n",
       "      <td>M</td>\n",
       "      <td>0.00</td>\n",
       "    </tr>\n",
       "    <tr>\n",
       "      <th>231404</th>\n",
       "      <td>M</td>\n",
       "      <td>0.00</td>\n",
       "    </tr>\n",
       "    <tr>\n",
       "      <th>231405</th>\n",
       "      <td>M</td>\n",
       "      <td>1101.48</td>\n",
       "    </tr>\n",
       "    <tr>\n",
       "      <th>231406</th>\n",
       "      <td>M</td>\n",
       "      <td>2100.00</td>\n",
       "    </tr>\n",
       "  </tbody>\n",
       "</table>\n",
       "<p>39692 rows × 2 columns</p>\n",
       "</div>"
      ],
      "text/plain": [
       "       GENDER  PLACEMENTGRANT\n",
       "0           M          900.00\n",
       "1           M         3600.00\n",
       "2           F         1500.00\n",
       "3           M          900.00\n",
       "4           F         1800.00\n",
       "...       ...             ...\n",
       "231401      F            0.00\n",
       "231403      M            0.00\n",
       "231404      M            0.00\n",
       "231405      M         1101.48\n",
       "231406      M         2100.00\n",
       "\n",
       "[39692 rows x 2 columns]"
      ]
     },
     "execution_count": 2054,
     "metadata": {},
     "output_type": "execute_result"
    }
   ],
   "source": [
    "# Analysing the relationship between gender and placement grant\n",
    "# Filter the data of gender and placement grant\n",
    "\n",
    "gender_grant=df[[\"GENDER\",\"PLACEMENTGRANT\"]]\n",
    "gender_grant"
   ]
  },
  {
   "cell_type": "code",
   "execution_count": 2055,
   "id": "c8064ac9",
   "metadata": {},
   "outputs": [
    {
     "data": {
      "text/html": [
       "<div>\n",
       "<style scoped>\n",
       "    .dataframe tbody tr th:only-of-type {\n",
       "        vertical-align: middle;\n",
       "    }\n",
       "\n",
       "    .dataframe tbody tr th {\n",
       "        vertical-align: top;\n",
       "    }\n",
       "\n",
       "    .dataframe thead th {\n",
       "        text-align: right;\n",
       "    }\n",
       "</style>\n",
       "<table border=\"1\" class=\"dataframe\">\n",
       "  <thead>\n",
       "    <tr style=\"text-align: right;\">\n",
       "      <th></th>\n",
       "      <th>GENDER</th>\n",
       "      <th>PLACEMENTGRANT</th>\n",
       "    </tr>\n",
       "  </thead>\n",
       "  <tbody>\n",
       "    <tr>\n",
       "      <th>0</th>\n",
       "      <td>F</td>\n",
       "      <td>1582.060245</td>\n",
       "    </tr>\n",
       "    <tr>\n",
       "      <th>1</th>\n",
       "      <td>M</td>\n",
       "      <td>1600.370493</td>\n",
       "    </tr>\n",
       "  </tbody>\n",
       "</table>\n",
       "</div>"
      ],
      "text/plain": [
       "  GENDER  PLACEMENTGRANT\n",
       "0      F     1582.060245\n",
       "1      M     1600.370493"
      ]
     },
     "execution_count": 2055,
     "metadata": {},
     "output_type": "execute_result"
    }
   ],
   "source": [
    "# Aggregate the data\n",
    "\n",
    "gender_grant_df=pd.pivot_table(gender_grant, values='PLACEMENTGRANT', index=['GENDER'],  aggfunc=np.average)\n",
    "gender_grant_df.reset_index()"
   ]
  },
  {
   "cell_type": "code",
   "execution_count": 2136,
   "id": "dc186464",
   "metadata": {},
   "outputs": [
    {
     "data": {
      "image/png": "[encoded data removed]",
      "text/plain": [
       "<Figure size 720x720 with 1 Axes>"
      ]
     },
     "metadata": {},
     "output_type": "display_data"
    }
   ],
   "source": [
    "# Plotting the data\n",
    "%matplotlib inline\n",
    "\n",
    "plt.rcParams['font.size'] = '12'\n",
    "gender_grant_df.rename(columns={\"GENDER\": \"Gender\", \"PLACEMENTGRANT\": \"Amount of placement grant\"},inplace=True)\n",
    "gender_grant_df.plot.pie(y='Amount of placement grant', figsize=(10, 10)).legend([\"Female\",\"Male\"])\n",
    "plt.show()"
   ]
  },
  {
   "cell_type": "markdown",
   "id": "95c1f271",
   "metadata": {},
   "source": [
    "#### Conclusion: Although female students accounted for the greater percentage of participants, they received a bit lower placement grant compared with that of the couterpart."
   ]
  },
  {
   "cell_type": "markdown",
   "id": "cfe21b21",
   "metadata": {},
   "source": [
    "### Apply statistics to compare the average placement grant between 2 genders\n",
    "\n",
    "Perform a t-test to examine a hypothesis that says: the average placement grant is different between 2 genders, with a 95% confidence level."
   ]
  },
  {
   "cell_type": "code",
   "execution_count": 2057,
   "id": "34550e03",
   "metadata": {},
   "outputs": [
    {
     "name": "stdout",
     "output_type": "stream",
     "text": [
      "p-value 0.035001449079720214\n",
      "We reject the null hypothesis\n"
     ]
    }
   ],
   "source": [
    "A = df[df[\"GENDER\"]=='F'][\"PLACEMENTGRANT\"]\n",
    "B = df[df[\"GENDER\"]=='M'][\"PLACEMENTGRANT\"]\n",
    "\n",
    "alpha=0.05\n",
    "\n",
    "tstat, pval = stats.ttest_ind(a=A, b=B, alternative='two-sided')\n",
    "print(\"p-value\", pval)\n",
    "\n",
    "if pval < alpha: \n",
    "    print(\"We reject the null hypothesis\")\n",
    "else:\n",
    "    print(\"We fail to reject the null hypothesis\")"
   ]
  },
  {
   "cell_type": "code",
   "execution_count": null,
   "id": "d8c5edf5",
   "metadata": {},
   "outputs": [],
   "source": []
  },
  {
   "cell_type": "markdown",
   "id": "74b75caf",
   "metadata": {},
   "source": [
    "## 3.5 Analysing the connection between Nationality and Placement grant\n",
    "\n",
    "###### Db: Nationality\n",
    "- Nationality of student\n",
    "- String of 2 characters in the set “ISO Country Codes” "
   ]
  },
  {
   "cell_type": "code",
   "execution_count": 2058,
   "id": "ffe0a21f",
   "metadata": {
    "scrolled": true
   },
   "outputs": [
    {
     "data": {
      "text/plain": [
       "FR    0.145949\n",
       "DE    0.135947\n",
       "ES    0.112264\n",
       "UK    0.092311\n",
       "PL    0.064018\n",
       "IT    0.057115\n",
       "NL    0.054545\n",
       "TR    0.028469\n",
       "BE    0.027739\n",
       "RO    0.027210\n",
       "FI    0.025950\n",
       "XX    0.022196\n",
       "PT    0.021944\n",
       "HU    0.021390\n",
       "LT    0.020609\n",
       "CZ    0.020281\n",
       "AT    0.020130\n",
       "IE    0.014713\n",
       "LV    0.013857\n",
       "GR    0.013832\n",
       "SK    0.011967\n",
       "BG    0.011614\n",
       "DK    0.010934\n",
       "SE    0.007130\n",
       "SI    0.006727\n",
       "EE    0.005215\n",
       "NO    0.003250\n",
       "CY    0.001386\n",
       "IS    0.000731\n",
       "LU    0.000453\n",
       "LI    0.000126\n",
       "Name: NATIONALITY, dtype: float64"
      ]
     },
     "execution_count": 2058,
     "metadata": {},
     "output_type": "execute_result"
    }
   ],
   "source": [
    "df.NATIONALITY.value_counts(normalize = True).sort_values(ascending = False)"
   ]
  },
  {
   "cell_type": "markdown",
   "id": "e916a8d1",
   "metadata": {},
   "source": [
    "- From the dataset, we can see that students from France, Germany, Spain, UK, Poland, Italia made up the majority of exchange student, but is it correlated with the amount of placement they received?"
   ]
  },
  {
   "cell_type": "code",
   "execution_count": 2059,
   "id": "2148318d",
   "metadata": {},
   "outputs": [
    {
     "data": {
      "text/html": [
       "<div>\n",
       "<style scoped>\n",
       "    .dataframe tbody tr th:only-of-type {\n",
       "        vertical-align: middle;\n",
       "    }\n",
       "\n",
       "    .dataframe tbody tr th {\n",
       "        vertical-align: top;\n",
       "    }\n",
       "\n",
       "    .dataframe thead th {\n",
       "        text-align: right;\n",
       "    }\n",
       "</style>\n",
       "<table border=\"1\" class=\"dataframe\">\n",
       "  <thead>\n",
       "    <tr style=\"text-align: right;\">\n",
       "      <th></th>\n",
       "      <th>NATIONALITY</th>\n",
       "      <th>PLACEMENTGRANT</th>\n",
       "    </tr>\n",
       "  </thead>\n",
       "  <tbody>\n",
       "    <tr>\n",
       "      <th>0</th>\n",
       "      <td>HU</td>\n",
       "      <td>900.00</td>\n",
       "    </tr>\n",
       "    <tr>\n",
       "      <th>1</th>\n",
       "      <td>HU</td>\n",
       "      <td>3600.00</td>\n",
       "    </tr>\n",
       "    <tr>\n",
       "      <th>2</th>\n",
       "      <td>HU</td>\n",
       "      <td>1500.00</td>\n",
       "    </tr>\n",
       "    <tr>\n",
       "      <th>3</th>\n",
       "      <td>SK</td>\n",
       "      <td>900.00</td>\n",
       "    </tr>\n",
       "    <tr>\n",
       "      <th>4</th>\n",
       "      <td>HU</td>\n",
       "      <td>1800.00</td>\n",
       "    </tr>\n",
       "    <tr>\n",
       "      <th>...</th>\n",
       "      <td>...</td>\n",
       "      <td>...</td>\n",
       "    </tr>\n",
       "    <tr>\n",
       "      <th>231401</th>\n",
       "      <td>LT</td>\n",
       "      <td>0.00</td>\n",
       "    </tr>\n",
       "    <tr>\n",
       "      <th>231403</th>\n",
       "      <td>LT</td>\n",
       "      <td>0.00</td>\n",
       "    </tr>\n",
       "    <tr>\n",
       "      <th>231404</th>\n",
       "      <td>LT</td>\n",
       "      <td>0.00</td>\n",
       "    </tr>\n",
       "    <tr>\n",
       "      <th>231405</th>\n",
       "      <td>LT</td>\n",
       "      <td>1101.48</td>\n",
       "    </tr>\n",
       "    <tr>\n",
       "      <th>231406</th>\n",
       "      <td>LT</td>\n",
       "      <td>2100.00</td>\n",
       "    </tr>\n",
       "  </tbody>\n",
       "</table>\n",
       "<p>39692 rows × 2 columns</p>\n",
       "</div>"
      ],
      "text/plain": [
       "       NATIONALITY  PLACEMENTGRANT\n",
       "0               HU          900.00\n",
       "1               HU         3600.00\n",
       "2               HU         1500.00\n",
       "3               SK          900.00\n",
       "4               HU         1800.00\n",
       "...            ...             ...\n",
       "231401          LT            0.00\n",
       "231403          LT            0.00\n",
       "231404          LT            0.00\n",
       "231405          LT         1101.48\n",
       "231406          LT         2100.00\n",
       "\n",
       "[39692 rows x 2 columns]"
      ]
     },
     "execution_count": 2059,
     "metadata": {},
     "output_type": "execute_result"
    }
   ],
   "source": [
    "# Filter data of nationality and placement grant\n",
    "\n",
    "nationality_grant=df[[\"NATIONALITY\",\"PLACEMENTGRANT\"]]\n",
    "nationality_grant"
   ]
  },
  {
   "cell_type": "code",
   "execution_count": 2060,
   "id": "d7723d1a",
   "metadata": {},
   "outputs": [
    {
     "data": {
      "text/html": [
       "<div>\n",
       "<style scoped>\n",
       "    .dataframe tbody tr th:only-of-type {\n",
       "        vertical-align: middle;\n",
       "    }\n",
       "\n",
       "    .dataframe tbody tr th {\n",
       "        vertical-align: top;\n",
       "    }\n",
       "\n",
       "    .dataframe thead th {\n",
       "        text-align: right;\n",
       "    }\n",
       "</style>\n",
       "<table border=\"1\" class=\"dataframe\">\n",
       "  <thead>\n",
       "    <tr style=\"text-align: right;\">\n",
       "      <th></th>\n",
       "      <th>PLACEMENTGRANT</th>\n",
       "    </tr>\n",
       "    <tr>\n",
       "      <th>NATIONALITY</th>\n",
       "      <th></th>\n",
       "    </tr>\n",
       "  </thead>\n",
       "  <tbody>\n",
       "    <tr>\n",
       "      <th>CY</th>\n",
       "      <td>2709.344909</td>\n",
       "    </tr>\n",
       "    <tr>\n",
       "      <th>UK</th>\n",
       "      <td>2699.632522</td>\n",
       "    </tr>\n",
       "    <tr>\n",
       "      <th>GR</th>\n",
       "      <td>2586.552732</td>\n",
       "    </tr>\n",
       "    <tr>\n",
       "      <th>IE</th>\n",
       "      <td>2183.634949</td>\n",
       "    </tr>\n",
       "    <tr>\n",
       "      <th>IS</th>\n",
       "      <td>1976.034483</td>\n",
       "    </tr>\n",
       "    <tr>\n",
       "      <th>RO</th>\n",
       "      <td>1972.615315</td>\n",
       "    </tr>\n",
       "    <tr>\n",
       "      <th>TR</th>\n",
       "      <td>1960.536274</td>\n",
       "    </tr>\n",
       "    <tr>\n",
       "      <th>BG</th>\n",
       "      <td>1941.630477</td>\n",
       "    </tr>\n",
       "    <tr>\n",
       "      <th>SE</th>\n",
       "      <td>1900.758304</td>\n",
       "    </tr>\n",
       "    <tr>\n",
       "      <th>IT</th>\n",
       "      <td>1892.834760</td>\n",
       "    </tr>\n",
       "  </tbody>\n",
       "</table>\n",
       "</div>"
      ],
      "text/plain": [
       "             PLACEMENTGRANT\n",
       "NATIONALITY                \n",
       "CY              2709.344909\n",
       "UK              2699.632522\n",
       "GR              2586.552732\n",
       "IE              2183.634949\n",
       "IS              1976.034483\n",
       "RO              1972.615315\n",
       "TR              1960.536274\n",
       "BG              1941.630477\n",
       "SE              1900.758304\n",
       "IT              1892.834760"
      ]
     },
     "execution_count": 2060,
     "metadata": {},
     "output_type": "execute_result"
    }
   ],
   "source": [
    "# Aggregate the data based on nationality to calculate the mean amount of placement grant\n",
    "\n",
    "nationality_grant_agg=pd.pivot_table(nationality_grant, values='PLACEMENTGRANT', index=['NATIONALITY'],  \n",
    "               aggfunc=np.mean).sort_values(by=\"PLACEMENTGRANT\",ascending=False)[:10]\n",
    "nationality_grant_agg"
   ]
  },
  {
   "cell_type": "code",
   "execution_count": 2061,
   "id": "c698f721",
   "metadata": {},
   "outputs": [
    {
     "data": {
      "text/html": [
       "<div>\n",
       "<style scoped>\n",
       "    .dataframe tbody tr th:only-of-type {\n",
       "        vertical-align: middle;\n",
       "    }\n",
       "\n",
       "    .dataframe tbody tr th {\n",
       "        vertical-align: top;\n",
       "    }\n",
       "\n",
       "    .dataframe thead th {\n",
       "        text-align: right;\n",
       "    }\n",
       "</style>\n",
       "<table border=\"1\" class=\"dataframe\">\n",
       "  <thead>\n",
       "    <tr style=\"text-align: right;\">\n",
       "      <th></th>\n",
       "      <th>index</th>\n",
       "      <th>PLACEMENTGRANT</th>\n",
       "    </tr>\n",
       "  </thead>\n",
       "  <tbody>\n",
       "    <tr>\n",
       "      <th>0</th>\n",
       "      <td>Cyprus</td>\n",
       "      <td>2709.344909</td>\n",
       "    </tr>\n",
       "    <tr>\n",
       "      <th>1</th>\n",
       "      <td>United Kingdom</td>\n",
       "      <td>2699.632522</td>\n",
       "    </tr>\n",
       "    <tr>\n",
       "      <th>2</th>\n",
       "      <td>Greece</td>\n",
       "      <td>2586.552732</td>\n",
       "    </tr>\n",
       "    <tr>\n",
       "      <th>3</th>\n",
       "      <td>Ireland</td>\n",
       "      <td>2183.634949</td>\n",
       "    </tr>\n",
       "    <tr>\n",
       "      <th>4</th>\n",
       "      <td>Iceland</td>\n",
       "      <td>1976.034483</td>\n",
       "    </tr>\n",
       "    <tr>\n",
       "      <th>5</th>\n",
       "      <td>Romania</td>\n",
       "      <td>1972.615315</td>\n",
       "    </tr>\n",
       "    <tr>\n",
       "      <th>6</th>\n",
       "      <td>Turkey</td>\n",
       "      <td>1960.536274</td>\n",
       "    </tr>\n",
       "    <tr>\n",
       "      <th>7</th>\n",
       "      <td>Bulgaria</td>\n",
       "      <td>1941.630477</td>\n",
       "    </tr>\n",
       "    <tr>\n",
       "      <th>8</th>\n",
       "      <td>Sweden</td>\n",
       "      <td>1900.758304</td>\n",
       "    </tr>\n",
       "    <tr>\n",
       "      <th>9</th>\n",
       "      <td>Italy</td>\n",
       "      <td>1892.834760</td>\n",
       "    </tr>\n",
       "  </tbody>\n",
       "</table>\n",
       "</div>"
      ],
      "text/plain": [
       "            index  PLACEMENTGRANT\n",
       "0          Cyprus     2709.344909\n",
       "1  United Kingdom     2699.632522\n",
       "2          Greece     2586.552732\n",
       "3         Ireland     2183.634949\n",
       "4         Iceland     1976.034483\n",
       "5         Romania     1972.615315\n",
       "6          Turkey     1960.536274\n",
       "7        Bulgaria     1941.630477\n",
       "8          Sweden     1900.758304\n",
       "9           Italy     1892.834760"
      ]
     },
     "execution_count": 2061,
     "metadata": {},
     "output_type": "execute_result"
    }
   ],
   "source": [
    "# create a dictionary for the top ten country\n",
    "\n",
    "dict_={\"CY\":\"Cyprus\", \"UK\": \"United Kingdom\", \"GR\":\"Greece\", \"IE\":\"Ireland\", \"IS\":\"Iceland\", \"RO\":\"Romania\", \"TR\":\"Turkey\",\"BG\":\" Bulgaria\",\"SE\":\"Sweden\",\"IT\":\"Italy\"}\n",
    "\n",
    "# map the dictionary of countries with the aggregated data\n",
    "\n",
    "nationality_grant_agg.index\n",
    "s = nationality_grant_agg.index.to_series()\n",
    "nationality_grant_agg.index = np.array(s.map(dict_).fillna(s),ndmin =1)\n",
    "nationality_grant_agg.reset_index(inplace=True)\n",
    "nationality_grant_agg"
   ]
  },
  {
   "cell_type": "markdown",
   "id": "9a4277c7",
   "metadata": {},
   "source": [
    "#### Conclusion: A glance from the table of top 10 placement grants shows that there is a difference between grants of diffirent nationalities. People from Cyprus the biggest grant of 2709 Euros on average while on average Italian students received 1892 Euros. The difference in grant between those two nationalities is 1.5 times"
   ]
  },
  {
   "cell_type": "code",
   "execution_count": null,
   "id": "c5fa4723",
   "metadata": {},
   "outputs": [],
   "source": []
  },
  {
   "cell_type": "markdown",
   "id": "8467eb88",
   "metadata": {},
   "source": [
    "## 3.6 Analysing the connection between Subject area and Placement grant\n",
    " "
   ]
  },
  {
   "cell_type": "code",
   "execution_count": 2062,
   "id": "fae01465",
   "metadata": {},
   "outputs": [],
   "source": [
    "# Filter unique value of subject area and create a data frame\n",
    "\n",
    "df.SUBJECTAREA.unique()\n",
    "subject_area=pd.DataFrame(df.SUBJECTAREA.value_counts())"
   ]
  },
  {
   "cell_type": "code",
   "execution_count": 2063,
   "id": "8efde59e",
   "metadata": {},
   "outputs": [
    {
     "data": {
      "text/html": [
       "<div>\n",
       "<style scoped>\n",
       "    .dataframe tbody tr th:only-of-type {\n",
       "        vertical-align: middle;\n",
       "    }\n",
       "\n",
       "    .dataframe tbody tr th {\n",
       "        vertical-align: top;\n",
       "    }\n",
       "\n",
       "    .dataframe thead th {\n",
       "        text-align: right;\n",
       "    }\n",
       "</style>\n",
       "<table border=\"1\" class=\"dataframe\">\n",
       "  <thead>\n",
       "    <tr style=\"text-align: right;\">\n",
       "      <th></th>\n",
       "      <th>SUBJECTAREA</th>\n",
       "    </tr>\n",
       "  </thead>\n",
       "  <tbody>\n",
       "    <tr>\n",
       "      <th>64</th>\n",
       "      <td>5355</td>\n",
       "    </tr>\n",
       "    <tr>\n",
       "      <th>222</th>\n",
       "      <td>3851</td>\n",
       "    </tr>\n",
       "    <tr>\n",
       "      <th>340</th>\n",
       "      <td>1904</td>\n",
       "    </tr>\n",
       "    <tr>\n",
       "      <th>34</th>\n",
       "      <td>1773</td>\n",
       "    </tr>\n",
       "    <tr>\n",
       "      <th>345</th>\n",
       "      <td>1254</td>\n",
       "    </tr>\n",
       "    <tr>\n",
       "      <th>314</th>\n",
       "      <td>1216</td>\n",
       "    </tr>\n",
       "    <tr>\n",
       "      <th>421</th>\n",
       "      <td>1040</td>\n",
       "    </tr>\n",
       "    <tr>\n",
       "      <th>721</th>\n",
       "      <td>941</td>\n",
       "    </tr>\n",
       "    <tr>\n",
       "      <th>214</th>\n",
       "      <td>863</td>\n",
       "    </tr>\n",
       "    <tr>\n",
       "      <th>52</th>\n",
       "      <td>857</td>\n",
       "    </tr>\n",
       "  </tbody>\n",
       "</table>\n",
       "</div>"
      ],
      "text/plain": [
       "     SUBJECTAREA\n",
       "64          5355\n",
       "222         3851\n",
       "340         1904\n",
       "34          1773\n",
       "345         1254\n",
       "314         1216\n",
       "421         1040\n",
       "721          941\n",
       "214          863\n",
       "52           857"
      ]
     },
     "execution_count": 2063,
     "metadata": {},
     "output_type": "execute_result"
    }
   ],
   "source": [
    "# Top 10 subject area\n",
    "\n",
    "top_10=subject_area[:10]\n",
    "top_10"
   ]
  },
  {
   "cell_type": "code",
   "execution_count": 2064,
   "id": "3b846b3a",
   "metadata": {},
   "outputs": [
    {
     "data": {
      "text/html": [
       "<div>\n",
       "<style scoped>\n",
       "    .dataframe tbody tr th:only-of-type {\n",
       "        vertical-align: middle;\n",
       "    }\n",
       "\n",
       "    .dataframe tbody tr th {\n",
       "        vertical-align: top;\n",
       "    }\n",
       "\n",
       "    .dataframe thead th {\n",
       "        text-align: right;\n",
       "    }\n",
       "</style>\n",
       "<table border=\"1\" class=\"dataframe\">\n",
       "  <thead>\n",
       "    <tr style=\"text-align: right;\">\n",
       "      <th></th>\n",
       "      <th>Subject area</th>\n",
       "      <th>Number of student</th>\n",
       "    </tr>\n",
       "  </thead>\n",
       "  <tbody>\n",
       "    <tr>\n",
       "      <th>0</th>\n",
       "      <td>Veterinary</td>\n",
       "      <td>5355</td>\n",
       "    </tr>\n",
       "    <tr>\n",
       "      <th>1</th>\n",
       "      <td>Foreign languages</td>\n",
       "      <td>3851</td>\n",
       "    </tr>\n",
       "    <tr>\n",
       "      <th>2</th>\n",
       "      <td>Business and administration (broad)</td>\n",
       "      <td>1904</td>\n",
       "    </tr>\n",
       "    <tr>\n",
       "      <th>3</th>\n",
       "      <td>Business and administration</td>\n",
       "      <td>1773</td>\n",
       "    </tr>\n",
       "    <tr>\n",
       "      <th>4</th>\n",
       "      <td>Management and administration</td>\n",
       "      <td>1254</td>\n",
       "    </tr>\n",
       "    <tr>\n",
       "      <th>5</th>\n",
       "      <td>Economics</td>\n",
       "      <td>1216</td>\n",
       "    </tr>\n",
       "    <tr>\n",
       "      <th>6</th>\n",
       "      <td>Biology and biochemistry</td>\n",
       "      <td>1040</td>\n",
       "    </tr>\n",
       "    <tr>\n",
       "      <th>7</th>\n",
       "      <td>Medicine</td>\n",
       "      <td>941</td>\n",
       "    </tr>\n",
       "    <tr>\n",
       "      <th>8</th>\n",
       "      <td>Design</td>\n",
       "      <td>863</td>\n",
       "    </tr>\n",
       "    <tr>\n",
       "      <th>9</th>\n",
       "      <td>Engineering and engineering trades</td>\n",
       "      <td>857</td>\n",
       "    </tr>\n",
       "  </tbody>\n",
       "</table>\n",
       "</div>"
      ],
      "text/plain": [
       "                          Subject area  Number of student\n",
       "0                           Veterinary               5355\n",
       "1                    Foreign languages               3851\n",
       "2  Business and administration (broad)               1904\n",
       "3          Business and administration               1773\n",
       "4        Management and administration               1254\n",
       "5                            Economics               1216\n",
       "6             Biology and biochemistry               1040\n",
       "7                             Medicine                941\n",
       "8                               Design                863\n",
       "9   Engineering and engineering trades                857"
      ]
     },
     "execution_count": 2064,
     "metadata": {},
     "output_type": "execute_result"
    }
   ],
   "source": [
    "# create a dictionary of top 10 subject\n",
    "\n",
    "dict_={64:\"Veterinary\",222:\"Foreign languages\",340:\"Business and administration (broad)\",\n",
    "                34:\"Business and administration\",345:\"Management and administration\",\n",
    "                314:\"Economics\",421:\"Biology and biochemistry\",721:\"Medicine\",\n",
    "                214:\"Design\",52:\"Engineering and engineering trades\"}\n",
    "\n",
    "# map the dictionary of subject and data\n",
    "\n",
    "s = top_10.index.to_series()\n",
    "top_10.index = np.array(s.map(dict_).fillna(s),ndmin =1)\n",
    "top_10.reset_index(inplace=True)\n",
    "top_10.rename(columns={\"index\": \"Subject area\", \"SUBJECTAREA\": \"Number of student\"},inplace=True)\n",
    "top_10"
   ]
  },
  {
   "cell_type": "code",
   "execution_count": 2065,
   "id": "7a9a4313",
   "metadata": {},
   "outputs": [
    {
     "data": {
      "image/png": "[encoded data removed]",
      "text/plain": [
       "<Figure size 1080x720 with 1 Axes>"
      ]
     },
     "metadata": {
      "needs_background": "light"
     },
     "output_type": "display_data"
    }
   ],
   "source": [
    "# Plotting top 10 subject\n",
    "%matplotlib inline\n",
    "\n",
    "plt.figure(figsize=(15,10))\n",
    "plt.rcParams['font.size'] = '12'\n",
    "sns.barplot(y=top_10['Subject area'],x=top_10['Number of student'])\n",
    "plt.show()"
   ]
  },
  {
   "cell_type": "markdown",
   "id": "23421ec2",
   "metadata": {},
   "source": [
    "#### Conclusion: in the top 10 subject, a large percentage of students joined the program with veterinary background, followed by those from foreign languges and business. Those with social and business backgrounds are more engaging in Eramus exchange than those from science and technology background."
   ]
  },
  {
   "cell_type": "code",
   "execution_count": null,
   "id": "9b9cb5b3",
   "metadata": {},
   "outputs": [],
   "source": []
  },
  {
   "cell_type": "markdown",
   "id": "5a163a5a",
   "metadata": {},
   "source": [
    "## 3.7 Analysing the connection between Enterprise size and Placement grant\n",
    " "
   ]
  },
  {
   "cell_type": "markdown",
   "id": "bf29f6df",
   "metadata": {},
   "source": [
    "### Enterprise size\n",
    "\n",
    "- 'M':'Medium (51-250 staff)'\n",
    "- 'S':'Small (<=50 staff)'\n",
    "- 'L':'Large  (>250 staff)"
   ]
  },
  {
   "cell_type": "code",
   "execution_count": 2066,
   "id": "ff5d9038",
   "metadata": {},
   "outputs": [
    {
     "data": {
      "text/plain": [
       "Small     0.418775\n",
       "Medium    0.333946\n",
       "Large     0.247279\n",
       "Name: enterprise_size, dtype: float64"
      ]
     },
     "execution_count": 2066,
     "metadata": {},
     "output_type": "execute_result"
    }
   ],
   "source": [
    "# Filter the data of enterprise size, replace the name and show the value counts\n",
    "\n",
    "df.ENTERPRISESIZE\n",
    "df['enterprise_size']=df.ENTERPRISESIZE.replace({'M':'Medium', 'S':'Small', 'L':'Large'})\n",
    "df.enterprise_size.value_counts(normalize=True)"
   ]
  },
  {
   "cell_type": "code",
   "execution_count": 2067,
   "id": "5af65188",
   "metadata": {
    "scrolled": true
   },
   "outputs": [
    {
     "data": {
      "text/html": [
       "<div>\n",
       "<style scoped>\n",
       "    .dataframe tbody tr th:only-of-type {\n",
       "        vertical-align: middle;\n",
       "    }\n",
       "\n",
       "    .dataframe tbody tr th {\n",
       "        vertical-align: top;\n",
       "    }\n",
       "\n",
       "    .dataframe thead th {\n",
       "        text-align: right;\n",
       "    }\n",
       "</style>\n",
       "<table border=\"1\" class=\"dataframe\">\n",
       "  <thead>\n",
       "    <tr style=\"text-align: right;\">\n",
       "      <th></th>\n",
       "      <th>PLACEMENTGRANT</th>\n",
       "    </tr>\n",
       "    <tr>\n",
       "      <th>enterprise_size</th>\n",
       "      <th></th>\n",
       "    </tr>\n",
       "  </thead>\n",
       "  <tbody>\n",
       "    <tr>\n",
       "      <th>Large</th>\n",
       "      <td>1712.560646</td>\n",
       "    </tr>\n",
       "    <tr>\n",
       "      <th>Medium</th>\n",
       "      <td>1637.480773</td>\n",
       "    </tr>\n",
       "    <tr>\n",
       "      <th>Small</th>\n",
       "      <td>1477.657225</td>\n",
       "    </tr>\n",
       "  </tbody>\n",
       "</table>\n",
       "</div>"
      ],
      "text/plain": [
       "                 PLACEMENTGRANT\n",
       "enterprise_size                \n",
       "Large               1712.560646\n",
       "Medium              1637.480773\n",
       "Small               1477.657225"
      ]
     },
     "execution_count": 2067,
     "metadata": {},
     "output_type": "execute_result"
    }
   ],
   "source": [
    "# Aggregate the data according to size of enterprise and calculate the mean amount of placement grant\n",
    "\n",
    "df[['enterprise_size','PLACEMENTGRANT']].groupby('enterprise_size').mean()"
   ]
  },
  {
   "cell_type": "code",
   "execution_count": 2068,
   "id": "34477563",
   "metadata": {},
   "outputs": [
    {
     "data": {
      "text/html": [
       "<div>\n",
       "<style scoped>\n",
       "    .dataframe tbody tr th:only-of-type {\n",
       "        vertical-align: middle;\n",
       "    }\n",
       "\n",
       "    .dataframe tbody tr th {\n",
       "        vertical-align: top;\n",
       "    }\n",
       "\n",
       "    .dataframe thead th {\n",
       "        text-align: right;\n",
       "    }\n",
       "</style>\n",
       "<table border=\"1\" class=\"dataframe\">\n",
       "  <thead>\n",
       "    <tr style=\"text-align: right;\">\n",
       "      <th></th>\n",
       "      <th>LENGTHPLACEMENT</th>\n",
       "    </tr>\n",
       "    <tr>\n",
       "      <th>enterprise_size</th>\n",
       "      <th></th>\n",
       "    </tr>\n",
       "  </thead>\n",
       "  <tbody>\n",
       "    <tr>\n",
       "      <th>Large</th>\n",
       "      <td>4.717753</td>\n",
       "    </tr>\n",
       "    <tr>\n",
       "      <th>Medium</th>\n",
       "      <td>4.525141</td>\n",
       "    </tr>\n",
       "    <tr>\n",
       "      <th>Small</th>\n",
       "      <td>3.990630</td>\n",
       "    </tr>\n",
       "  </tbody>\n",
       "</table>\n",
       "</div>"
      ],
      "text/plain": [
       "                 LENGTHPLACEMENT\n",
       "enterprise_size                 \n",
       "Large                   4.717753\n",
       "Medium                  4.525141\n",
       "Small                   3.990630"
      ]
     },
     "execution_count": 2068,
     "metadata": {},
     "output_type": "execute_result"
    }
   ],
   "source": [
    "# Aggregate the data according to size of enterprise and calculate the mean amount of placement length\n",
    "\n",
    "df[['enterprise_size','LENGTHPLACEMENT']].groupby('enterprise_size').mean()"
   ]
  },
  {
   "cell_type": "markdown",
   "id": "03c06414",
   "metadata": {},
   "source": [
    "#### Conclusion: The bigger the size of enterprise, the higher amount of grant the students can receive"
   ]
  },
  {
   "cell_type": "code",
   "execution_count": null,
   "id": "088d99c6",
   "metadata": {},
   "outputs": [],
   "source": []
  },
  {
   "cell_type": "markdown",
   "id": "0ed788f1",
   "metadata": {},
   "source": [
    "## 3.8 Analysing the connection between  Type of work sector and Placement grant"
   ]
  },
  {
   "cell_type": "code",
   "execution_count": 2069,
   "id": "4e74546f",
   "metadata": {},
   "outputs": [
    {
     "data": {
      "text/plain": [
       "21"
      ]
     },
     "execution_count": 2069,
     "metadata": {},
     "output_type": "execute_result"
    }
   ],
   "source": [
    "# filter the data and reset the index\n",
    "\n",
    "df.TYPEWORKSECTOR.nunique()"
   ]
  },
  {
   "cell_type": "code",
   "execution_count": 2070,
   "id": "c1b58ad6",
   "metadata": {},
   "outputs": [
    {
     "data": {
      "text/html": [
       "<div>\n",
       "<style scoped>\n",
       "    .dataframe tbody tr th:only-of-type {\n",
       "        vertical-align: middle;\n",
       "    }\n",
       "\n",
       "    .dataframe tbody tr th {\n",
       "        vertical-align: top;\n",
       "    }\n",
       "\n",
       "    .dataframe thead th {\n",
       "        text-align: right;\n",
       "    }\n",
       "</style>\n",
       "<table border=\"1\" class=\"dataframe\">\n",
       "  <thead>\n",
       "    <tr style=\"text-align: right;\">\n",
       "      <th></th>\n",
       "      <th>index</th>\n",
       "      <th>TYPEWORKSECTOR</th>\n",
       "    </tr>\n",
       "  </thead>\n",
       "  <tbody>\n",
       "    <tr>\n",
       "      <th>0</th>\n",
       "      <td>P</td>\n",
       "      <td>6840</td>\n",
       "    </tr>\n",
       "    <tr>\n",
       "      <th>1</th>\n",
       "      <td>M</td>\n",
       "      <td>5583</td>\n",
       "    </tr>\n",
       "    <tr>\n",
       "      <th>2</th>\n",
       "      <td>S</td>\n",
       "      <td>3744</td>\n",
       "    </tr>\n",
       "    <tr>\n",
       "      <th>3</th>\n",
       "      <td>Q</td>\n",
       "      <td>3536</td>\n",
       "    </tr>\n",
       "    <tr>\n",
       "      <th>4</th>\n",
       "      <td>I</td>\n",
       "      <td>3087</td>\n",
       "    </tr>\n",
       "    <tr>\n",
       "      <th>5</th>\n",
       "      <td>C</td>\n",
       "      <td>2947</td>\n",
       "    </tr>\n",
       "    <tr>\n",
       "      <th>6</th>\n",
       "      <td>R</td>\n",
       "      <td>2586</td>\n",
       "    </tr>\n",
       "    <tr>\n",
       "      <th>7</th>\n",
       "      <td>J</td>\n",
       "      <td>2528</td>\n",
       "    </tr>\n",
       "    <tr>\n",
       "      <th>8</th>\n",
       "      <td>N</td>\n",
       "      <td>1866</td>\n",
       "    </tr>\n",
       "    <tr>\n",
       "      <th>9</th>\n",
       "      <td>F</td>\n",
       "      <td>1270</td>\n",
       "    </tr>\n",
       "  </tbody>\n",
       "</table>\n",
       "</div>"
      ],
      "text/plain": [
       "  index  TYPEWORKSECTOR\n",
       "0     P            6840\n",
       "1     M            5583\n",
       "2     S            3744\n",
       "3     Q            3536\n",
       "4     I            3087\n",
       "5     C            2947\n",
       "6     R            2586\n",
       "7     J            2528\n",
       "8     N            1866\n",
       "9     F            1270"
      ]
     },
     "execution_count": 2070,
     "metadata": {},
     "output_type": "execute_result"
    }
   ],
   "source": [
    "# Collect top 10 work sectors\n",
    "\n",
    "top_10_work_sector=pd.DataFrame(df.TYPEWORKSECTOR.value_counts()[:10])\n",
    "top_10_work_sector.reset_index()"
   ]
  },
  {
   "cell_type": "code",
   "execution_count": 2071,
   "id": "806ba661",
   "metadata": {},
   "outputs": [
    {
     "data": {
      "text/html": [
       "<div>\n",
       "<style scoped>\n",
       "    .dataframe tbody tr th:only-of-type {\n",
       "        vertical-align: middle;\n",
       "    }\n",
       "\n",
       "    .dataframe tbody tr th {\n",
       "        vertical-align: top;\n",
       "    }\n",
       "\n",
       "    .dataframe thead th {\n",
       "        text-align: right;\n",
       "    }\n",
       "</style>\n",
       "<table border=\"1\" class=\"dataframe\">\n",
       "  <thead>\n",
       "    <tr style=\"text-align: right;\">\n",
       "      <th></th>\n",
       "      <th>index</th>\n",
       "      <th>TYPEWORKSECTOR</th>\n",
       "    </tr>\n",
       "  </thead>\n",
       "  <tbody>\n",
       "    <tr>\n",
       "      <th>0</th>\n",
       "      <td>Education</td>\n",
       "      <td>6840</td>\n",
       "    </tr>\n",
       "    <tr>\n",
       "      <th>1</th>\n",
       "      <td>Technical activities</td>\n",
       "      <td>5583</td>\n",
       "    </tr>\n",
       "    <tr>\n",
       "      <th>2</th>\n",
       "      <td>Other services</td>\n",
       "      <td>3744</td>\n",
       "    </tr>\n",
       "    <tr>\n",
       "      <th>3</th>\n",
       "      <td>Human and social work</td>\n",
       "      <td>3536</td>\n",
       "    </tr>\n",
       "    <tr>\n",
       "      <th>4</th>\n",
       "      <td>Accommodation and food service</td>\n",
       "      <td>3087</td>\n",
       "    </tr>\n",
       "    <tr>\n",
       "      <th>5</th>\n",
       "      <td>Manufacture of metal product</td>\n",
       "      <td>2947</td>\n",
       "    </tr>\n",
       "    <tr>\n",
       "      <th>6</th>\n",
       "      <td>Arts</td>\n",
       "      <td>2586</td>\n",
       "    </tr>\n",
       "    <tr>\n",
       "      <th>7</th>\n",
       "      <td>Information and communication</td>\n",
       "      <td>2528</td>\n",
       "    </tr>\n",
       "    <tr>\n",
       "      <th>8</th>\n",
       "      <td>Administrative and support service</td>\n",
       "      <td>1866</td>\n",
       "    </tr>\n",
       "    <tr>\n",
       "      <th>9</th>\n",
       "      <td>Construction</td>\n",
       "      <td>1270</td>\n",
       "    </tr>\n",
       "  </tbody>\n",
       "</table>\n",
       "</div>"
      ],
      "text/plain": [
       "                                index  TYPEWORKSECTOR\n",
       "0                           Education            6840\n",
       "1               Technical activities             5583\n",
       "2                      Other services            3744\n",
       "3               Human and social work            3536\n",
       "4      Accommodation and food service            3087\n",
       "5        Manufacture of metal product            2947\n",
       "6                                Arts            2586\n",
       "7      Information and communication             2528\n",
       "8  Administrative and support service            1866\n",
       "9                        Construction            1270"
      ]
     },
     "execution_count": 2071,
     "metadata": {},
     "output_type": "execute_result"
    }
   ],
   "source": [
    "# Create a dictionary of work sector\n",
    "\n",
    "dict1=({\"P\":\"Education\",\"M\":\"Technical activities \",\n",
    "                                             \"S\":\"Other services\",\"Q\":\"Human and social work\",\n",
    "                                             \"I\":\"Accommodation and food service\",\"C\":\"Manufacture of metal product\",\n",
    "                                             \"R\":\"Arts\",\"J\":\"Information and communication \",\n",
    "                                             \"N\":\"Administrative and support service\",\n",
    "                                             \"F\":\"Construction\"})\n",
    "\n",
    "# Top 10 sectors that most students attended in their work placement\n",
    "\n",
    "r = top_10_work_sector.index.to_series()\n",
    "top_10_work_sector.index = np.array(r.map(dict1).fillna(r),ndmin =1)\n",
    "top_10_work_sector=top_10_work_sector.reset_index()\n",
    "top_10_work_sector"
   ]
  },
  {
   "cell_type": "code",
   "execution_count": 2072,
   "id": "1525402e",
   "metadata": {},
   "outputs": [
    {
     "data": {
      "image/png": "[encoded data removed]",
      "text/plain": [
       "<Figure size 1080x720 with 1 Axes>"
      ]
     },
     "metadata": {
      "needs_background": "light"
     },
     "output_type": "display_data"
    }
   ],
   "source": [
    "# Plotting the data of top 10 sector\n",
    "\n",
    "plt.figure(figsize=(15,10))\n",
    "plt.rcParams['font.size'] = '10'\n",
    "top_10_work_sector.rename(columns={\"index\": \"Work sector\", \"TYPEWORKSECTOR\": \"Number of student\"},inplace=True)\n",
    "sns.barplot(y=top_10_work_sector[\"Work sector\"],x=top_10_work_sector[\"Number of student\"])\n",
    "plt.show()"
   ]
  },
  {
   "cell_type": "markdown",
   "id": "cb38ddba",
   "metadata": {},
   "source": [
    "#### Conclution: In top 10, a larger proportion of students joined the work place in education work sector, followed by those working in technical activities. Social activities sectors had more participants than those from technical activities sectors."
   ]
  },
  {
   "cell_type": "code",
   "execution_count": null,
   "id": "ca38f444",
   "metadata": {},
   "outputs": [],
   "source": []
  },
  {
   "cell_type": "markdown",
   "id": "00b241d9",
   "metadata": {},
   "source": [
    "## 3.9 Analysing the connection between Enterprise size, Work sector and Placement grant"
   ]
  },
  {
   "cell_type": "code",
   "execution_count": 2073,
   "id": "8d2290eb",
   "metadata": {},
   "outputs": [
    {
     "data": {
      "text/html": [
       "<div>\n",
       "<style scoped>\n",
       "    .dataframe tbody tr th:only-of-type {\n",
       "        vertical-align: middle;\n",
       "    }\n",
       "\n",
       "    .dataframe tbody tr th {\n",
       "        vertical-align: top;\n",
       "    }\n",
       "\n",
       "    .dataframe thead th {\n",
       "        text-align: right;\n",
       "    }\n",
       "</style>\n",
       "<table border=\"1\" class=\"dataframe\">\n",
       "  <thead>\n",
       "    <tr style=\"text-align: right;\">\n",
       "      <th></th>\n",
       "      <th></th>\n",
       "      <th>PLACEMENTGRANT</th>\n",
       "    </tr>\n",
       "    <tr>\n",
       "      <th>enterprise_size</th>\n",
       "      <th>TYPEWORKSECTOR</th>\n",
       "      <th></th>\n",
       "    </tr>\n",
       "  </thead>\n",
       "  <tbody>\n",
       "    <tr>\n",
       "      <th rowspan=\"5\" valign=\"top\">Large</th>\n",
       "      <th>A</th>\n",
       "      <td>1534.451197</td>\n",
       "    </tr>\n",
       "    <tr>\n",
       "      <th>B</th>\n",
       "      <td>1753.158696</td>\n",
       "    </tr>\n",
       "    <tr>\n",
       "      <th>C</th>\n",
       "      <td>1818.062289</td>\n",
       "    </tr>\n",
       "    <tr>\n",
       "      <th>D</th>\n",
       "      <td>1903.158958</td>\n",
       "    </tr>\n",
       "    <tr>\n",
       "      <th>E</th>\n",
       "      <td>1377.842800</td>\n",
       "    </tr>\n",
       "    <tr>\n",
       "      <th>...</th>\n",
       "      <th>...</th>\n",
       "      <td>...</td>\n",
       "    </tr>\n",
       "    <tr>\n",
       "      <th rowspan=\"5\" valign=\"top\">Small</th>\n",
       "      <th>Q</th>\n",
       "      <td>1416.419359</td>\n",
       "    </tr>\n",
       "    <tr>\n",
       "      <th>R</th>\n",
       "      <td>1446.948076</td>\n",
       "    </tr>\n",
       "    <tr>\n",
       "      <th>S</th>\n",
       "      <td>1429.112970</td>\n",
       "    </tr>\n",
       "    <tr>\n",
       "      <th>T</th>\n",
       "      <td>1148.362632</td>\n",
       "    </tr>\n",
       "    <tr>\n",
       "      <th>U</th>\n",
       "      <td>1562.208327</td>\n",
       "    </tr>\n",
       "  </tbody>\n",
       "</table>\n",
       "<p>63 rows × 1 columns</p>\n",
       "</div>"
      ],
      "text/plain": [
       "                                PLACEMENTGRANT\n",
       "enterprise_size TYPEWORKSECTOR                \n",
       "Large           A                  1534.451197\n",
       "                B                  1753.158696\n",
       "                C                  1818.062289\n",
       "                D                  1903.158958\n",
       "                E                  1377.842800\n",
       "...                                        ...\n",
       "Small           Q                  1416.419359\n",
       "                R                  1446.948076\n",
       "                S                  1429.112970\n",
       "                T                  1148.362632\n",
       "                U                  1562.208327\n",
       "\n",
       "[63 rows x 1 columns]"
      ]
     },
     "execution_count": 2073,
     "metadata": {},
     "output_type": "execute_result"
    }
   ],
   "source": [
    "# Aggregate data, based on the size, work sector and calculate placement grant\n",
    "\n",
    "grouped=df[['enterprise_size','TYPEWORKSECTOR','PLACEMENTGRANT']].groupby(['enterprise_size','TYPEWORKSECTOR']).mean()\n",
    "grouped"
   ]
  },
  {
   "cell_type": "code",
   "execution_count": 2074,
   "id": "2ac8da97",
   "metadata": {},
   "outputs": [
    {
     "data": {
      "text/html": [
       "<div>\n",
       "<style scoped>\n",
       "    .dataframe tbody tr th:only-of-type {\n",
       "        vertical-align: middle;\n",
       "    }\n",
       "\n",
       "    .dataframe tbody tr th {\n",
       "        vertical-align: top;\n",
       "    }\n",
       "\n",
       "    .dataframe thead tr th {\n",
       "        text-align: left;\n",
       "    }\n",
       "\n",
       "    .dataframe thead tr:last-of-type th {\n",
       "        text-align: right;\n",
       "    }\n",
       "</style>\n",
       "<table border=\"1\" class=\"dataframe\">\n",
       "  <thead>\n",
       "    <tr>\n",
       "      <th></th>\n",
       "      <th colspan=\"3\" halign=\"left\">PLACEMENTGRANT</th>\n",
       "    </tr>\n",
       "    <tr>\n",
       "      <th>enterprise_size</th>\n",
       "      <th>Large</th>\n",
       "      <th>Medium</th>\n",
       "      <th>Small</th>\n",
       "    </tr>\n",
       "    <tr>\n",
       "      <th>TYPEWORKSECTOR</th>\n",
       "      <th></th>\n",
       "      <th></th>\n",
       "      <th></th>\n",
       "    </tr>\n",
       "  </thead>\n",
       "  <tbody>\n",
       "    <tr>\n",
       "      <th>A</th>\n",
       "      <td>1534.451197</td>\n",
       "      <td>1403.312798</td>\n",
       "      <td>1300.524709</td>\n",
       "    </tr>\n",
       "    <tr>\n",
       "      <th>B</th>\n",
       "      <td>1753.158696</td>\n",
       "      <td>1331.852941</td>\n",
       "      <td>1386.477273</td>\n",
       "    </tr>\n",
       "    <tr>\n",
       "      <th>C</th>\n",
       "      <td>1818.062289</td>\n",
       "      <td>1425.936452</td>\n",
       "      <td>1322.546159</td>\n",
       "    </tr>\n",
       "    <tr>\n",
       "      <th>D</th>\n",
       "      <td>1903.158958</td>\n",
       "      <td>1505.919404</td>\n",
       "      <td>1335.659051</td>\n",
       "    </tr>\n",
       "    <tr>\n",
       "      <th>E</th>\n",
       "      <td>1377.842800</td>\n",
       "      <td>1797.110816</td>\n",
       "      <td>1483.733265</td>\n",
       "    </tr>\n",
       "    <tr>\n",
       "      <th>F</th>\n",
       "      <td>1738.044331</td>\n",
       "      <td>1478.165660</td>\n",
       "      <td>1538.656340</td>\n",
       "    </tr>\n",
       "    <tr>\n",
       "      <th>G</th>\n",
       "      <td>1963.210389</td>\n",
       "      <td>1428.304850</td>\n",
       "      <td>1235.850970</td>\n",
       "    </tr>\n",
       "    <tr>\n",
       "      <th>H</th>\n",
       "      <td>1855.487758</td>\n",
       "      <td>1788.245625</td>\n",
       "      <td>1338.686080</td>\n",
       "    </tr>\n",
       "    <tr>\n",
       "      <th>I</th>\n",
       "      <td>1510.197446</td>\n",
       "      <td>1439.762300</td>\n",
       "      <td>1270.707854</td>\n",
       "    </tr>\n",
       "    <tr>\n",
       "      <th>J</th>\n",
       "      <td>2118.051338</td>\n",
       "      <td>1535.878561</td>\n",
       "      <td>1432.904399</td>\n",
       "    </tr>\n",
       "    <tr>\n",
       "      <th>K</th>\n",
       "      <td>2024.015405</td>\n",
       "      <td>1672.047712</td>\n",
       "      <td>1572.003833</td>\n",
       "    </tr>\n",
       "    <tr>\n",
       "      <th>L</th>\n",
       "      <td>1685.232143</td>\n",
       "      <td>1693.033750</td>\n",
       "      <td>1338.674833</td>\n",
       "    </tr>\n",
       "    <tr>\n",
       "      <th>M</th>\n",
       "      <td>1845.069530</td>\n",
       "      <td>1640.383445</td>\n",
       "      <td>1575.081071</td>\n",
       "    </tr>\n",
       "    <tr>\n",
       "      <th>N</th>\n",
       "      <td>1700.388145</td>\n",
       "      <td>1552.055275</td>\n",
       "      <td>1492.714240</td>\n",
       "    </tr>\n",
       "    <tr>\n",
       "      <th>O</th>\n",
       "      <td>1588.818487</td>\n",
       "      <td>1433.535405</td>\n",
       "      <td>1532.984395</td>\n",
       "    </tr>\n",
       "    <tr>\n",
       "      <th>P</th>\n",
       "      <td>1687.596509</td>\n",
       "      <td>2102.091550</td>\n",
       "      <td>1808.520607</td>\n",
       "    </tr>\n",
       "    <tr>\n",
       "      <th>Q</th>\n",
       "      <td>1379.826399</td>\n",
       "      <td>1345.454448</td>\n",
       "      <td>1416.419359</td>\n",
       "    </tr>\n",
       "    <tr>\n",
       "      <th>R</th>\n",
       "      <td>1693.280000</td>\n",
       "      <td>1532.277126</td>\n",
       "      <td>1446.948076</td>\n",
       "    </tr>\n",
       "    <tr>\n",
       "      <th>S</th>\n",
       "      <td>1692.059201</td>\n",
       "      <td>1570.693549</td>\n",
       "      <td>1429.112970</td>\n",
       "    </tr>\n",
       "    <tr>\n",
       "      <th>T</th>\n",
       "      <td>1180.000000</td>\n",
       "      <td>635.966875</td>\n",
       "      <td>1148.362632</td>\n",
       "    </tr>\n",
       "    <tr>\n",
       "      <th>U</th>\n",
       "      <td>1737.556136</td>\n",
       "      <td>1554.948679</td>\n",
       "      <td>1562.208327</td>\n",
       "    </tr>\n",
       "  </tbody>\n",
       "</table>\n",
       "</div>"
      ],
      "text/plain": [
       "                PLACEMENTGRANT                          \n",
       "enterprise_size          Large       Medium        Small\n",
       "TYPEWORKSECTOR                                          \n",
       "A                  1534.451197  1403.312798  1300.524709\n",
       "B                  1753.158696  1331.852941  1386.477273\n",
       "C                  1818.062289  1425.936452  1322.546159\n",
       "D                  1903.158958  1505.919404  1335.659051\n",
       "E                  1377.842800  1797.110816  1483.733265\n",
       "F                  1738.044331  1478.165660  1538.656340\n",
       "G                  1963.210389  1428.304850  1235.850970\n",
       "H                  1855.487758  1788.245625  1338.686080\n",
       "I                  1510.197446  1439.762300  1270.707854\n",
       "J                  2118.051338  1535.878561  1432.904399\n",
       "K                  2024.015405  1672.047712  1572.003833\n",
       "L                  1685.232143  1693.033750  1338.674833\n",
       "M                  1845.069530  1640.383445  1575.081071\n",
       "N                  1700.388145  1552.055275  1492.714240\n",
       "O                  1588.818487  1433.535405  1532.984395\n",
       "P                  1687.596509  2102.091550  1808.520607\n",
       "Q                  1379.826399  1345.454448  1416.419359\n",
       "R                  1693.280000  1532.277126  1446.948076\n",
       "S                  1692.059201  1570.693549  1429.112970\n",
       "T                  1180.000000   635.966875  1148.362632\n",
       "U                  1737.556136  1554.948679  1562.208327"
      ]
     },
     "execution_count": 2074,
     "metadata": {},
     "output_type": "execute_result"
    }
   ],
   "source": [
    "# Unstack the aggregated data for better analysis\n",
    "\n",
    "grant_by_sector_and_size=grouped.unstack(0).fillna(0)\n",
    "grant_by_sector_and_size"
   ]
  },
  {
   "cell_type": "code",
   "execution_count": 2075,
   "id": "a785926e",
   "metadata": {},
   "outputs": [
    {
     "data": {
      "text/html": [
       "<div>\n",
       "<style scoped>\n",
       "    .dataframe tbody tr th:only-of-type {\n",
       "        vertical-align: middle;\n",
       "    }\n",
       "\n",
       "    .dataframe tbody tr th {\n",
       "        vertical-align: top;\n",
       "    }\n",
       "\n",
       "    .dataframe thead th {\n",
       "        text-align: right;\n",
       "    }\n",
       "</style>\n",
       "<table border=\"1\" class=\"dataframe\">\n",
       "  <thead>\n",
       "    <tr style=\"text-align: right;\">\n",
       "      <th></th>\n",
       "      <th>PLACEMENTGRANT</th>\n",
       "    </tr>\n",
       "    <tr>\n",
       "      <th>TYPEWORKSECTOR</th>\n",
       "      <th></th>\n",
       "    </tr>\n",
       "  </thead>\n",
       "  <tbody>\n",
       "    <tr>\n",
       "      <th>J</th>\n",
       "      <td>2118.051338</td>\n",
       "    </tr>\n",
       "    <tr>\n",
       "      <th>K</th>\n",
       "      <td>2024.015405</td>\n",
       "    </tr>\n",
       "    <tr>\n",
       "      <th>G</th>\n",
       "      <td>1963.210389</td>\n",
       "    </tr>\n",
       "    <tr>\n",
       "      <th>D</th>\n",
       "      <td>1903.158958</td>\n",
       "    </tr>\n",
       "    <tr>\n",
       "      <th>H</th>\n",
       "      <td>1855.487758</td>\n",
       "    </tr>\n",
       "  </tbody>\n",
       "</table>\n",
       "</div>"
      ],
      "text/plain": [
       "                PLACEMENTGRANT\n",
       "TYPEWORKSECTOR                \n",
       "J                  2118.051338\n",
       "K                  2024.015405\n",
       "G                  1963.210389\n",
       "D                  1903.158958\n",
       "H                  1855.487758"
      ]
     },
     "execution_count": 2075,
     "metadata": {},
     "output_type": "execute_result"
    }
   ],
   "source": [
    "# Analyzing this relationship in large enterprise sector with the top 5 sector that large enterprise offered work placement\n",
    "\n",
    "large=pd.DataFrame(grouped.loc['Large'])\n",
    "top_5_large_enterprise=large.sort_values(by='PLACEMENTGRANT',ascending=False)[:5]\n",
    "top_5_large_enterprise"
   ]
  },
  {
   "cell_type": "code",
   "execution_count": 2076,
   "id": "5baceb6d",
   "metadata": {},
   "outputs": [
    {
     "data": {
      "text/html": [
       "<div>\n",
       "<style scoped>\n",
       "    .dataframe tbody tr th:only-of-type {\n",
       "        vertical-align: middle;\n",
       "    }\n",
       "\n",
       "    .dataframe tbody tr th {\n",
       "        vertical-align: top;\n",
       "    }\n",
       "\n",
       "    .dataframe thead th {\n",
       "        text-align: right;\n",
       "    }\n",
       "</style>\n",
       "<table border=\"1\" class=\"dataframe\">\n",
       "  <thead>\n",
       "    <tr style=\"text-align: right;\">\n",
       "      <th></th>\n",
       "      <th>Work sector</th>\n",
       "      <th>Amount of placement grant</th>\n",
       "    </tr>\n",
       "  </thead>\n",
       "  <tbody>\n",
       "    <tr>\n",
       "      <th>0</th>\n",
       "      <td>Information and communication</td>\n",
       "      <td>2118.051338</td>\n",
       "    </tr>\n",
       "    <tr>\n",
       "      <th>1</th>\n",
       "      <td>Financial and insurance activities</td>\n",
       "      <td>2024.015405</td>\n",
       "    </tr>\n",
       "    <tr>\n",
       "      <th>2</th>\n",
       "      <td>Wholesale and retail trade</td>\n",
       "      <td>1963.210389</td>\n",
       "    </tr>\n",
       "    <tr>\n",
       "      <th>3</th>\n",
       "      <td>Electricity supply</td>\n",
       "      <td>1903.158958</td>\n",
       "    </tr>\n",
       "    <tr>\n",
       "      <th>4</th>\n",
       "      <td>Transporting and storage</td>\n",
       "      <td>1855.487758</td>\n",
       "    </tr>\n",
       "  </tbody>\n",
       "</table>\n",
       "</div>"
      ],
      "text/plain": [
       "                          Work sector  Amount of placement grant\n",
       "0       Information and communication                2118.051338\n",
       "1  Financial and insurance activities                2024.015405\n",
       "2          Wholesale and retail trade                1963.210389\n",
       "3                  Electricity supply                1903.158958\n",
       "4            Transporting and storage                1855.487758"
      ]
     },
     "execution_count": 2076,
     "metadata": {},
     "output_type": "execute_result"
    }
   ],
   "source": [
    "# create a dictionary of top 5 work sector:\n",
    "\n",
    "dict_={\"J\":\"Information and communication\",\"K\":\"Financial and insurance activities\",\n",
    "                              \"G\":\"Wholesale and retail trade\",\n",
    "                               \"D\":\"Electricity supply\",\"H\":\"Transporting and storage\"}\n",
    "\n",
    "# map the dictionary and the data\n",
    "\n",
    "s = top_5_large_enterprise.index.to_series()\n",
    "top_5_large_enterprise.index = np.array(s.map(dict_).fillna(s))\n",
    "top_5_large_enterprise.reset_index(inplace=True)\n",
    "top_5_large_enterprise.rename(columns={\"index\": \"Work sector\", \"PLACEMENTGRANT\": \"Amount of placement grant\"},inplace=True)\n",
    "top_5_large_enterprise"
   ]
  },
  {
   "cell_type": "markdown",
   "id": "b0e10103",
   "metadata": {},
   "source": [
    "#### Conclusion: Large-sized companies who worked in information and communication sector and financial sector offered higher placement grant to students, compared to other sectors."
   ]
  },
  {
   "cell_type": "code",
   "execution_count": null,
   "id": "26f4dd94",
   "metadata": {},
   "outputs": [],
   "source": []
  },
  {
   "cell_type": "markdown",
   "id": "48f8e993",
   "metadata": {},
   "source": [
    "## 3.10 Analysing Number of ECTS credits for Placement "
   ]
  },
  {
   "cell_type": "markdown",
   "id": "250ae138",
   "metadata": {},
   "source": [
    "### Number of ECTS credits for Placement anticipated \n",
    "\n",
    "- C29.1 Must be positive number\n",
    "- C29.2 Between 0 and 90\n",
    "- C29.3 Warning if >60\n",
    "- C29.4 if \" MobilityType \" is not P, “Number of ECTS Credits Placement” = 0\n"
   ]
  },
  {
   "cell_type": "code",
   "execution_count": 2077,
   "id": "94fa257d",
   "metadata": {},
   "outputs": [
    {
     "data": {
      "text/html": [
       "<div>\n",
       "<style scoped>\n",
       "    .dataframe tbody tr th:only-of-type {\n",
       "        vertical-align: middle;\n",
       "    }\n",
       "\n",
       "    .dataframe tbody tr th {\n",
       "        vertical-align: top;\n",
       "    }\n",
       "\n",
       "    .dataframe thead th {\n",
       "        text-align: right;\n",
       "    }\n",
       "</style>\n",
       "<table border=\"1\" class=\"dataframe\">\n",
       "  <thead>\n",
       "    <tr style=\"text-align: right;\">\n",
       "      <th></th>\n",
       "      <th>Number of credits</th>\n",
       "      <th>Number of student</th>\n",
       "    </tr>\n",
       "  </thead>\n",
       "  <tbody>\n",
       "    <tr>\n",
       "      <th>0</th>\n",
       "      <td>0</td>\n",
       "      <td>13726</td>\n",
       "    </tr>\n",
       "    <tr>\n",
       "      <th>1</th>\n",
       "      <td>30</td>\n",
       "      <td>6633</td>\n",
       "    </tr>\n",
       "    <tr>\n",
       "      <th>2</th>\n",
       "      <td>15</td>\n",
       "      <td>2646</td>\n",
       "    </tr>\n",
       "    <tr>\n",
       "      <th>3</th>\n",
       "      <td>60</td>\n",
       "      <td>1893</td>\n",
       "    </tr>\n",
       "    <tr>\n",
       "      <th>4</th>\n",
       "      <td>20</td>\n",
       "      <td>1628</td>\n",
       "    </tr>\n",
       "    <tr>\n",
       "      <th>5</th>\n",
       "      <td>10</td>\n",
       "      <td>1372</td>\n",
       "    </tr>\n",
       "    <tr>\n",
       "      <th>6</th>\n",
       "      <td>18</td>\n",
       "      <td>1312</td>\n",
       "    </tr>\n",
       "    <tr>\n",
       "      <th>7</th>\n",
       "      <td>12</td>\n",
       "      <td>993</td>\n",
       "    </tr>\n",
       "    <tr>\n",
       "      <th>8</th>\n",
       "      <td>6</td>\n",
       "      <td>971</td>\n",
       "    </tr>\n",
       "    <tr>\n",
       "      <th>9</th>\n",
       "      <td>5</td>\n",
       "      <td>876</td>\n",
       "    </tr>\n",
       "  </tbody>\n",
       "</table>\n",
       "</div>"
      ],
      "text/plain": [
       "   Number of credits  Number of student\n",
       "0                  0              13726\n",
       "1                 30               6633\n",
       "2                 15               2646\n",
       "3                 60               1893\n",
       "4                 20               1628\n",
       "5                 10               1372\n",
       "6                 18               1312\n",
       "7                 12                993\n",
       "8                  6                971\n",
       "9                  5                876"
      ]
     },
     "execution_count": 2077,
     "metadata": {},
     "output_type": "execute_result"
    }
   ],
   "source": [
    "# Filter the data and create a data frame\n",
    "\n",
    "credit_work=df.ECTSCREDITSWORK.value_counts().sort_values(ascending=False).nlargest(10)\n",
    "credit_work_df=pd.DataFrame({\"Number of credits\":credit_work.index,\n",
    "                            \"Number of student\":credit_work.values})\n",
    "credit_work_df"
   ]
  },
  {
   "cell_type": "code",
   "execution_count": 2078,
   "id": "b469c3ed",
   "metadata": {},
   "outputs": [
    {
     "data": {
      "image/png": "[encoded data removed]",
      "text/plain": [
       "<Figure size 1080x720 with 1 Axes>"
      ]
     },
     "metadata": {
      "needs_background": "light"
     },
     "output_type": "display_data"
    }
   ],
   "source": [
    "# Plotting the data of credits earned\n",
    "\n",
    "plt.figure(figsize=(15,10))\n",
    "plt.rcParams['font.size'] = '12'\n",
    "sns.barplot(x=credit_work_df[\"Number of credits\"],y=credit_work_df[\"Number of student\"])\n",
    "plt.show()"
   ]
  },
  {
   "cell_type": "markdown",
   "id": "ed52d49e",
   "metadata": {},
   "source": [
    "#### Conclusion: Because of the nature of work placement exchange, most of the students attended received no credits for their internship."
   ]
  },
  {
   "cell_type": "code",
   "execution_count": null,
   "id": "12617b11",
   "metadata": {},
   "outputs": [],
   "source": []
  },
  {
   "cell_type": "markdown",
   "id": "71cbaa63",
   "metadata": {},
   "source": [
    "## 3.10 Analysing of workplacement language"
   ]
  },
  {
   "cell_type": "markdown",
   "id": "84b9cf33",
   "metadata": {},
   "source": [
    "### Learning carried out in the national language of Host country\n",
    "##### Db: TaughtHostLang\n",
    "- Whether the student has carried out the training in the language of the Host Country"
   ]
  },
  {
   "cell_type": "code",
   "execution_count": 2079,
   "id": "ae5350b5",
   "metadata": {
    "scrolled": true
   },
   "outputs": [
    {
     "data": {
      "text/html": [
       "<div>\n",
       "<style scoped>\n",
       "    .dataframe tbody tr th:only-of-type {\n",
       "        vertical-align: middle;\n",
       "    }\n",
       "\n",
       "    .dataframe tbody tr th {\n",
       "        vertical-align: top;\n",
       "    }\n",
       "\n",
       "    .dataframe thead th {\n",
       "        text-align: right;\n",
       "    }\n",
       "</style>\n",
       "<table border=\"1\" class=\"dataframe\">\n",
       "  <thead>\n",
       "    <tr style=\"text-align: right;\">\n",
       "      <th></th>\n",
       "      <th>TAUGHTHOSTLANG</th>\n",
       "    </tr>\n",
       "  </thead>\n",
       "  <tbody>\n",
       "    <tr>\n",
       "      <th>Y</th>\n",
       "      <td>0.549053</td>\n",
       "    </tr>\n",
       "    <tr>\n",
       "      <th>N</th>\n",
       "      <td>0.450947</td>\n",
       "    </tr>\n",
       "  </tbody>\n",
       "</table>\n",
       "</div>"
      ],
      "text/plain": [
       "   TAUGHTHOSTLANG\n",
       "Y        0.549053\n",
       "N        0.450947"
      ]
     },
     "execution_count": 2079,
     "metadata": {},
     "output_type": "execute_result"
    }
   ],
   "source": [
    "# Filter the data\n",
    "\n",
    "taught_host_lang=pd.DataFrame(df.TAUGHTHOSTLANG.value_counts(normalize=True))\n",
    "taught_host_lang"
   ]
  },
  {
   "cell_type": "code",
   "execution_count": 2080,
   "id": "5166e169",
   "metadata": {},
   "outputs": [
    {
     "data": {
      "image/png": "[encoded data removed]",
      "text/plain": [
       "<Figure size 720x720 with 1 Axes>"
      ]
     },
     "metadata": {},
     "output_type": "display_data"
    }
   ],
   "source": [
    "# Plotting\n",
    "\n",
    "taught_host_lang.rename(columns={\"index\": \"Yes/No\", \"TAUGHTHOSTLANG\": \"Number of student\"},inplace=True)\n",
    "plot = taught_host_lang.plot.pie(y='Number of student', figsize=(10, 10)).legend([\"Yes\",\"No\"])\n",
    "plt.rcParams['font.size'] = '12'\n",
    "plt.show()"
   ]
  },
  {
   "cell_type": "code",
   "execution_count": null,
   "id": "f91f9206",
   "metadata": {},
   "outputs": [],
   "source": []
  },
  {
   "cell_type": "markdown",
   "id": "005604dd",
   "metadata": {},
   "source": [
    "## 3.11 Analysing of Training Language"
   ]
  },
  {
   "cell_type": "markdown",
   "id": "31bbbeb9",
   "metadata": {},
   "source": [
    "##### Db: LanguageTaught\n",
    "- The language in which the student has  undergone the training"
   ]
  },
  {
   "cell_type": "code",
   "execution_count": 2081,
   "id": "8c5fe719",
   "metadata": {},
   "outputs": [
    {
     "data": {
      "text/plain": [
       "EN    20918\n",
       "ES     4887\n",
       "FR     4724\n",
       "DE     4556\n",
       "IT     1693\n",
       "NL      565\n",
       "PT      397\n",
       "TR      274\n",
       "PL      215\n",
       "SV      193\n",
       "Name: LANGUAGETAUGHT, dtype: int64"
      ]
     },
     "execution_count": 2081,
     "metadata": {},
     "output_type": "execute_result"
    }
   ],
   "source": [
    "# Filter the data\n",
    "\n",
    "language_taught=df.LANGUAGETAUGHT.value_counts().nlargest(10)\n",
    "language_taught"
   ]
  },
  {
   "cell_type": "code",
   "execution_count": 2082,
   "id": "73a24a8a",
   "metadata": {},
   "outputs": [
    {
     "data": {
      "text/plain": [
       "EN    8253\n",
       "ES    3366\n",
       "DE    3312\n",
       "FR    3207\n",
       "IT    1234\n",
       "NL     474\n",
       "PT     320\n",
       "TR     236\n",
       "SV     177\n",
       "CS     175\n",
       "Name: LANGUAGETAUGHT, dtype: int64"
      ]
     },
     "execution_count": 2082,
     "metadata": {},
     "output_type": "execute_result"
    }
   ],
   "source": [
    "# Top 10 languages that student has carried out in the same language of the Host Country\n",
    "\n",
    "undergone_host_lang=df[new_data.TAUGHTHOSTLANG=='Y']\n",
    "top_10_lang_training=undergone_host_lang['LANGUAGETAUGHT'].value_counts()[:10]\n",
    "top_10_lang_training"
   ]
  },
  {
   "cell_type": "code",
   "execution_count": 2083,
   "id": "e614edd7",
   "metadata": {},
   "outputs": [
    {
     "data": {
      "image/png": "[encoded data removed]",
      "text/plain": [
       "<Figure size 1080x720 with 1 Axes>"
      ]
     },
     "metadata": {
      "needs_background": "light"
     },
     "output_type": "display_data"
    }
   ],
   "source": [
    "# create a data frame and plot\n",
    "\n",
    "plt.figure(figsize=(15,10))\n",
    "plt.rcParams['font.size'] = '12'\n",
    "top_10_lang_training_df=pd.DataFrame({\"Language\":top_10_lang_training.index,\n",
    "                            \"Number of students\":top_10_lang_training.values})\n",
    "sns.barplot(y=top_10_lang_training_df[\"Language\"],x=top_10_lang_training_df[\"Number of students\"])\n",
    "plt.show()"
   ]
  },
  {
   "cell_type": "code",
   "execution_count": null,
   "id": "2191072e",
   "metadata": {},
   "outputs": [],
   "source": []
  },
  {
   "cell_type": "markdown",
   "id": "6b38d2e6",
   "metadata": {},
   "source": [
    "## 3.12 Analysing of  Language Preparation\n",
    "##### Db: LingPreparation\n",
    "- Reports whether a student has attended a language course including EILC \n",
    "course in the Host country or other courses in the Home or Host country\n",
    "- String of 2 characters in the set (EC, HS, HM, NN)\n",
    " + EC = EILC \n",
    " + HS = Host\n",
    " + HM = Home\n",
    " + NN = None\n"
   ]
  },
  {
   "cell_type": "code",
   "execution_count": 2084,
   "id": "cec1d7ec",
   "metadata": {},
   "outputs": [
    {
     "data": {
      "text/plain": [
       "EN    20918\n",
       "ES     4887\n",
       "FR     4724\n",
       "DE     4556\n",
       "IT     1693\n",
       "NL      565\n",
       "PT      397\n",
       "TR      274\n",
       "PL      215\n",
       "SV      193\n",
       "Name: LANGUAGETAUGHT, dtype: int64"
      ]
     },
     "execution_count": 2084,
     "metadata": {},
     "output_type": "execute_result"
    }
   ],
   "source": [
    "# Filter the data and select top 10 lanaguage preparation\n",
    "ling_preparation=df.LINGPREPARATION\n",
    "ling_preparation.value_counts()\n",
    "ling_preparation=df[df.LANGUAGETAUGHT!='NN']\n",
    "top_10_ling_preparation=ling_preparation['LANGUAGETAUGHT'].value_counts()[:10]\n",
    "top_10_ling_preparation"
   ]
  },
  {
   "cell_type": "code",
   "execution_count": 2085,
   "id": "d3e5ba9e",
   "metadata": {},
   "outputs": [
    {
     "data": {
      "image/png": "[encoded data removed]",
      "text/plain": [
       "<Figure size 1080x720 with 1 Axes>"
      ]
     },
     "metadata": {
      "needs_background": "light"
     },
     "output_type": "display_data"
    }
   ],
   "source": [
    "# create a data frame and plotting\n",
    "\n",
    "top_10_ling_preparation_df=pd.DataFrame({\"Language\":top_10_ling_preparation.index,\n",
    "                            \"Number of students attending\":top_10_ling_preparation.values})\n",
    "\n",
    "plt.figure(figsize=(15,10))\n",
    "plt.rcParams['font.size'] = '12'\n",
    "sns.barplot(y=top_10_ling_preparation_df[\"Language\"],x=top_10_ling_preparation_df[\"Number of students attending\"])\n",
    "plt.show()"
   ]
  },
  {
   "cell_type": "markdown",
   "id": "ac516ef1",
   "metadata": {},
   "source": [
    "#### Conclusion:Students who attended the workplacement with the language of English, Spanish, French and German usually have to attend language training courses before the workplacement."
   ]
  },
  {
   "cell_type": "code",
   "execution_count": null,
   "id": "1ac860fa",
   "metadata": {},
   "outputs": [],
   "source": []
  },
  {
   "cell_type": "markdown",
   "id": "13dbf1c1",
   "metadata": {},
   "source": [
    "## 3.13 Analysing of  Previous participation in the ERASMUS programme\n",
    "###### Db: PreviousParticipation\n",
    "- The field indicates whether the student has received an ERASMUS grant prior to this one and for which type of mobility. \n",
    "    + N = No\n",
    "    + S = Study\n",
    "    + P = Placement\n",
    "    + M = Erasmus Mundus\n"
   ]
  },
  {
   "cell_type": "code",
   "execution_count": 2086,
   "id": "b18e05c2",
   "metadata": {},
   "outputs": [
    {
     "data": {
      "text/plain": [
       "N    0.858158\n",
       "S    0.140986\n",
       "M    0.000428\n",
       "P    0.000428\n",
       "Name: PREVIOUSPARTICIPATION, dtype: float64"
      ]
     },
     "execution_count": 2086,
     "metadata": {},
     "output_type": "execute_result"
    }
   ],
   "source": [
    "# Calculate value counts of previous participation in Erasmus\n",
    "\n",
    "df.PREVIOUSPARTICIPATION.value_counts(normalize = True)"
   ]
  },
  {
   "cell_type": "code",
   "execution_count": 2087,
   "id": "de23d41c",
   "metadata": {},
   "outputs": [
    {
     "data": {
      "text/html": [
       "<div>\n",
       "<style scoped>\n",
       "    .dataframe tbody tr th:only-of-type {\n",
       "        vertical-align: middle;\n",
       "    }\n",
       "\n",
       "    .dataframe tbody tr th {\n",
       "        vertical-align: top;\n",
       "    }\n",
       "\n",
       "    .dataframe thead th {\n",
       "        text-align: right;\n",
       "    }\n",
       "</style>\n",
       "<table border=\"1\" class=\"dataframe\">\n",
       "  <thead>\n",
       "    <tr style=\"text-align: right;\">\n",
       "      <th></th>\n",
       "      <th>PLACEMENTGRANT</th>\n",
       "    </tr>\n",
       "    <tr>\n",
       "      <th>PREVIOUSPARTICIPATION</th>\n",
       "      <th></th>\n",
       "    </tr>\n",
       "  </thead>\n",
       "  <tbody>\n",
       "    <tr>\n",
       "      <th>M</th>\n",
       "      <td>1893.955882</td>\n",
       "    </tr>\n",
       "    <tr>\n",
       "      <th>N</th>\n",
       "      <td>1585.701253</td>\n",
       "    </tr>\n",
       "    <tr>\n",
       "      <th>P</th>\n",
       "      <td>1679.039412</td>\n",
       "    </tr>\n",
       "    <tr>\n",
       "      <th>S</th>\n",
       "      <td>1608.704752</td>\n",
       "    </tr>\n",
       "  </tbody>\n",
       "</table>\n",
       "</div>"
      ],
      "text/plain": [
       "                       PLACEMENTGRANT\n",
       "PREVIOUSPARTICIPATION                \n",
       "M                         1893.955882\n",
       "N                         1585.701253\n",
       "P                         1679.039412\n",
       "S                         1608.704752"
      ]
     },
     "execution_count": 2087,
     "metadata": {},
     "output_type": "execute_result"
    }
   ],
   "source": [
    "# Aggregate the data based on previous participation and calculate placement grant\n",
    "\n",
    "part_grant_agg = df[[\"PREVIOUSPARTICIPATION\",\"PLACEMENTGRANT\"]].groupby(\"PREVIOUSPARTICIPATION\").mean()\n",
    "part_grant_agg"
   ]
  },
  {
   "cell_type": "markdown",
   "id": "811dc2e0",
   "metadata": {},
   "source": [
    "#### Conclusion: Erasmus Mundus students received higher grant that other students. If the students did not join Erasmus exchange before, they are less likely to receive placement grant."
   ]
  },
  {
   "cell_type": "code",
   "execution_count": null,
   "id": "7e7ff4d1",
   "metadata": {},
   "outputs": [],
   "source": []
  },
  {
   "cell_type": "markdown",
   "id": "6e697af8",
   "metadata": {},
   "source": [
    "## 3.14 Analysing of Qualification received at the Host Country"
   ]
  },
  {
   "cell_type": "markdown",
   "id": "5c68cc4f",
   "metadata": {},
   "source": [
    "### Qualification received at the Host Country\n",
    "##### Db: QualificationAtHost\n",
    "- The field will hold information on whether the student will get a double, joint degree or any other qualification at the Host Institution/ Placement or no.\n",
    "    + D = Double\n",
    "    + J  = Joint\n",
    "    + O = Other\n",
    "    + N = None (Europass etc.)\n"
   ]
  },
  {
   "cell_type": "code",
   "execution_count": 2088,
   "id": "836958c1",
   "metadata": {
    "scrolled": true
   },
   "outputs": [
    {
     "data": {
      "text/html": [
       "<div>\n",
       "<style scoped>\n",
       "    .dataframe tbody tr th:only-of-type {\n",
       "        vertical-align: middle;\n",
       "    }\n",
       "\n",
       "    .dataframe tbody tr th {\n",
       "        vertical-align: top;\n",
       "    }\n",
       "\n",
       "    .dataframe thead th {\n",
       "        text-align: right;\n",
       "    }\n",
       "</style>\n",
       "<table border=\"1\" class=\"dataframe\">\n",
       "  <thead>\n",
       "    <tr style=\"text-align: right;\">\n",
       "      <th></th>\n",
       "      <th>index</th>\n",
       "      <th>QUALIFICATIONATHOST</th>\n",
       "    </tr>\n",
       "  </thead>\n",
       "  <tbody>\n",
       "    <tr>\n",
       "      <th>0</th>\n",
       "      <td>N</td>\n",
       "      <td>38566</td>\n",
       "    </tr>\n",
       "    <tr>\n",
       "      <th>1</th>\n",
       "      <td>O</td>\n",
       "      <td>868</td>\n",
       "    </tr>\n",
       "    <tr>\n",
       "      <th>2</th>\n",
       "      <td>J</td>\n",
       "      <td>202</td>\n",
       "    </tr>\n",
       "    <tr>\n",
       "      <th>3</th>\n",
       "      <td>D</td>\n",
       "      <td>56</td>\n",
       "    </tr>\n",
       "  </tbody>\n",
       "</table>\n",
       "</div>"
      ],
      "text/plain": [
       "  index  QUALIFICATIONATHOST\n",
       "0     N                38566\n",
       "1     O                  868\n",
       "2     J                  202\n",
       "3     D                   56"
      ]
     },
     "execution_count": 2088,
     "metadata": {},
     "output_type": "execute_result"
    }
   ],
   "source": [
    "# Filter the data and create a data frame\n",
    "\n",
    "qualification_at_host=pd.DataFrame(df.QUALIFICATIONATHOST.value_counts())\n",
    "qualification_at_host.reset_index(inplace=True)\n",
    "qualification_at_host"
   ]
  },
  {
   "cell_type": "code",
   "execution_count": 2089,
   "id": "412f1253",
   "metadata": {},
   "outputs": [
    {
     "data": {
      "image/png": "[encoded data removed]",
      "text/plain": [
       "<Figure size 576x576 with 1 Axes>"
      ]
     },
     "metadata": {},
     "output_type": "display_data"
    }
   ],
   "source": [
    "# Plotting\n",
    "\n",
    "qualification_at_host.reset_index()\n",
    "qualification_at_host.rename(columns={\"index\": \"Qualification\", \"QUALIFICATIONATHOST\": \"Number of student\"},inplace=True)\n",
    "\n",
    "plt.rcParams['font.size'] = '12'\n",
    "labels = [\"None\",\"Other\",\"Joint\",\"Double\"]\n",
    "qualification_at_host.plot.pie(y=\"Number of student\", figsize=(8, 8)).legend([\"None\",\"Other\",\"Joint\",\"Double\"])\n",
    "plt.show()"
   ]
  },
  {
   "cell_type": "markdown",
   "id": "113fdbd2",
   "metadata": {},
   "source": [
    "#### Conclusion: The majority of students received no qualifications. Only a small proportion of them got Double, Joint or Other qualifications"
   ]
  },
  {
   "cell_type": "code",
   "execution_count": null,
   "id": "844833ab",
   "metadata": {},
   "outputs": [],
   "source": []
  },
  {
   "cell_type": "markdown",
   "id": "340b057c",
   "metadata": {},
   "source": [
    "## Conclusion for the dataset of exchange student with work placement:\n",
    "### Quantitative data:\n",
    "#### •\tPlacement grant has a strong positive correlation with the length of work placement and a weak positive correlation with ECTS credit earned from work placement.\n",
    "#### •\tECTS Credits earned from work placement have a weak correlation with length of placement.\n",
    "#### •\tYears of HE studey prior to Erasmus placement have a weak positive correlation with age\n",
    "\n",
    "###  Qualitative data:\n",
    "#### • Gender: Female students were more likely to engage in work placement exchange, but they received a bit less than male counterparts.\n",
    "#### • Nationality: people from the west of European were more likely to join work placement exchange (e.g: France, Germany, Spain, UK, Italy). However, they were not the ones that received higher workplacement grants. People from Mediterranean sea and North sea area like Cyprus, Greece UK, Ireland, Iceland were among those who received the higher grants.\n",
    "#### • Subject: Those with social and business backgrounds are more engaging in work placement exchange than those from science and technology background.\n",
    "#### • Work placement grants: Large-sized businesses tend to pay more in work placement than medium- and small-sized businesses. And those in sectors of information, communication, and financial sectors offered higher placement grant to students, compared to other sectors.\n",
    "#### • Credit received and qualifications: The majority of students received no credits from their work placement and this is compatible with the fact that most of the exchange students received no qualification from this exchange.\n",
    "#### • Language usage and language preparation: even though the majority of students did not have to undergo language preparation course prior the exchange, they used the same language with that of the host countries.\n"
   ]
  },
  {
   "cell_type": "code",
   "execution_count": null,
   "id": "25450378",
   "metadata": {},
   "outputs": [],
   "source": []
  },
  {
   "cell_type": "code",
   "execution_count": null,
   "id": "916f8f0a",
   "metadata": {},
   "outputs": [],
   "source": []
  },
  {
   "cell_type": "markdown",
   "id": "4df0e4f8",
   "metadata": {},
   "source": [
    "## Machine Learning "
   ]
  },
  {
   "cell_type": "code",
   "execution_count": null,
   "id": "0d75268a",
   "metadata": {},
   "outputs": [],
   "source": []
  },
  {
   "cell_type": "markdown",
   "id": "9e60a4e5",
   "metadata": {},
   "source": [
    "### Prediction with one feature"
   ]
  },
  {
   "cell_type": "code",
   "execution_count": 2090,
   "id": "24cecd8c",
   "metadata": {},
   "outputs": [
    {
     "data": {
      "image/png": "[encoded data removed]",
      "text/plain": [
       "<Figure size 432x288 with 1 Axes>"
      ]
     },
     "metadata": {
      "needs_background": "light"
     },
     "output_type": "display_data"
    }
   ],
   "source": [
    "plt.scatter(df['LENGTHPLACEMENT'], df['PLACEMENTGRANT'])\n",
    "plt.show()"
   ]
  },
  {
   "cell_type": "code",
   "execution_count": 2091,
   "id": "99ac4e99",
   "metadata": {},
   "outputs": [
    {
     "data": {
      "text/plain": [
       "((31753, 1), (7939, 1), (31753,), (7939,))"
      ]
     },
     "execution_count": 2091,
     "metadata": {},
     "output_type": "execute_result"
    }
   ],
   "source": [
    "X = df[['LENGTHPLACEMENT']]\n",
    "y = df['PLACEMENTGRANT']\n",
    "\n",
    "X_train, X_test, y_train, y_test = train_test_split(X, y, test_size=0.2, random_state=21)\n",
    "X_train.shape, X_test.shape, y_train.shape, y_test.shape"
   ]
  },
  {
   "cell_type": "code",
   "execution_count": 2092,
   "id": "eb8e4c95",
   "metadata": {},
   "outputs": [
    {
     "data": {
      "text/plain": [
       "0.6392665324525135"
      ]
     },
     "execution_count": 2092,
     "metadata": {},
     "output_type": "execute_result"
    }
   ],
   "source": [
    "lr = LinearRegression()\n",
    "lr.fit(X_train , y_train)\n",
    "train_score = lr.score(X_train , y_train)\n",
    "train_score"
   ]
  },
  {
   "cell_type": "code",
   "execution_count": 2093,
   "id": "2ccd8b2e",
   "metadata": {},
   "outputs": [
    {
     "name": "stdout",
     "output_type": "stream",
     "text": [
      "[332.00792158]\n",
      "145.05303821386656\n"
     ]
    }
   ],
   "source": [
    "print(lr.coef_)\n",
    "print(lr.intercept_)"
   ]
  },
  {
   "cell_type": "code",
   "execution_count": 2094,
   "id": "9408d469",
   "metadata": {},
   "outputs": [],
   "source": [
    "y_pred = lr.predict(X_test)"
   ]
  },
  {
   "cell_type": "code",
   "execution_count": 2095,
   "id": "41521ab0",
   "metadata": {},
   "outputs": [
    {
     "data": {
      "text/plain": [
       "0.6493759705970441"
      ]
     },
     "execution_count": 2095,
     "metadata": {},
     "output_type": "execute_result"
    }
   ],
   "source": [
    "# mean_squared_error(y_test , y_pred , squared=True)\n",
    "test_score = r2_score(y_test , y_pred)\n",
    "test_score"
   ]
  },
  {
   "cell_type": "code",
   "execution_count": 2096,
   "id": "c0c81cd2",
   "metadata": {},
   "outputs": [
    {
     "data": {
      "image/png": "[encoded data removed]",
      "text/plain": [
       "<Figure size 432x288 with 1 Axes>"
      ]
     },
     "metadata": {
      "needs_background": "light"
     },
     "output_type": "display_data"
    }
   ],
   "source": [
    "plt.scatter(df['LENGTHPLACEMENT'], df['PLACEMENTGRANT'])\n",
    "plt.plot(X_test, y_pred, color=\"red\", linewidth=1)\n",
    "plt.show()"
   ]
  },
  {
   "cell_type": "markdown",
   "id": "f6d70757",
   "metadata": {},
   "source": [
    "### Prediction with all features"
   ]
  },
  {
   "cell_type": "code",
   "execution_count": 2097,
   "id": "f5fcab80",
   "metadata": {},
   "outputs": [],
   "source": [
    "binary_cols  = ['GENDER', 'MOBILITYTYPE', 'TAUGHTHOSTLANG']\n",
    "ordinal_cols = ['ENTERPRISESIZE']\n",
    "nominal_cols = ['PREVIOUSPARTICIPATION', 'QUALIFICATIONATHOST', 'SUBJECTAREA', 'NATIONALITY', 'LEVELSTUDY', \n",
    "                'COUNTRYOFWORKPLACEMENT', 'TYPEWORKSECTOR', 'LINGPREPARATION', 'LANGUAGETAUGHT']\n",
    "numeric_cols = ['AGE', 'YEARSPRIOR', 'LENGTHPLACEMENT', 'ECTSCREDITSWORK']"
   ]
  },
  {
   "cell_type": "markdown",
   "id": "d188d505",
   "metadata": {},
   "source": [
    "### Binary features"
   ]
  },
  {
   "cell_type": "code",
   "execution_count": 2098,
   "id": "d266b2c9",
   "metadata": {},
   "outputs": [
    {
     "data": {
      "text/plain": [
       "F    24396\n",
       "M    15296\n",
       "Name: GENDER, dtype: int64"
      ]
     },
     "execution_count": 2098,
     "metadata": {},
     "output_type": "execute_result"
    }
   ],
   "source": [
    "df['GENDER'].value_counts()"
   ]
  },
  {
   "cell_type": "code",
   "execution_count": 2099,
   "id": "4bfbb314",
   "metadata": {},
   "outputs": [],
   "source": [
    "df['GENDER'] = df['GENDER'].map({'F':0, 'M':1})"
   ]
  },
  {
   "cell_type": "code",
   "execution_count": 2100,
   "id": "c3160e51",
   "metadata": {},
   "outputs": [
    {
     "data": {
      "text/plain": [
       "0       39665\n",
       "100         3\n",
       "966         2\n",
       "200         2\n",
       "3520        1\n",
       "3616        1\n",
       "861         1\n",
       "1500        1\n",
       "1368        1\n",
       "756         1\n",
       "913         1\n",
       "400         1\n",
       "879         1\n",
       "1902        1\n",
       "492         1\n",
       "1960        1\n",
       "448         1\n",
       "8708        1\n",
       "550         1\n",
       "4004        1\n",
       "1188        1\n",
       "97          1\n",
       "1059        1\n",
       "702         1\n",
       "Name: SEVSUPPLEMENT, dtype: int64"
      ]
     },
     "execution_count": 2100,
     "metadata": {},
     "output_type": "execute_result"
    }
   ],
   "source": [
    "df['SEVSUPPLEMENT'].value_counts()"
   ]
  },
  {
   "cell_type": "code",
   "execution_count": 2101,
   "id": "bc4796ff",
   "metadata": {},
   "outputs": [
    {
     "data": {
      "text/plain": [
       "P    39642\n",
       "C       50\n",
       "Name: MOBILITYTYPE, dtype: int64"
      ]
     },
     "execution_count": 2101,
     "metadata": {},
     "output_type": "execute_result"
    }
   ],
   "source": [
    "df['MOBILITYTYPE'].value_counts()"
   ]
  },
  {
   "cell_type": "code",
   "execution_count": 2102,
   "id": "1acb8f7d",
   "metadata": {},
   "outputs": [],
   "source": [
    "df['MOBILITYTYPE'] = student_with_workplacement['MOBILITYTYPE'].map({'P':0, 'C':1})"
   ]
  },
  {
   "cell_type": "code",
   "execution_count": 2103,
   "id": "ac756699",
   "metadata": {},
   "outputs": [
    {
     "data": {
      "text/plain": [
       "Y    21793\n",
       "N    17899\n",
       "Name: TAUGHTHOSTLANG, dtype: int64"
      ]
     },
     "execution_count": 2103,
     "metadata": {},
     "output_type": "execute_result"
    }
   ],
   "source": [
    "df['TAUGHTHOSTLANG'].value_counts()"
   ]
  },
  {
   "cell_type": "code",
   "execution_count": 2104,
   "id": "b8531a95",
   "metadata": {},
   "outputs": [],
   "source": [
    "df['TAUGHTHOSTLANG'] = df['TAUGHTHOSTLANG'].map({'Y':1, 'N':0})"
   ]
  },
  {
   "cell_type": "markdown",
   "id": "b8d589b1",
   "metadata": {},
   "source": [
    "### Ordinal features"
   ]
  },
  {
   "cell_type": "code",
   "execution_count": 2105,
   "id": "08d24798",
   "metadata": {},
   "outputs": [
    {
     "data": {
      "text/plain": [
       "S    16622\n",
       "M    13255\n",
       "L     9815\n",
       "Name: ENTERPRISESIZE, dtype: int64"
      ]
     },
     "execution_count": 2105,
     "metadata": {},
     "output_type": "execute_result"
    }
   ],
   "source": [
    "df['ENTERPRISESIZE'].value_counts()"
   ]
  },
  {
   "cell_type": "code",
   "execution_count": 2106,
   "id": "d4c2d332",
   "metadata": {},
   "outputs": [],
   "source": [
    "dic = {'S':0,'M':1,'L':2}"
   ]
  },
  {
   "cell_type": "code",
   "execution_count": 2107,
   "id": "317dac2f",
   "metadata": {},
   "outputs": [],
   "source": [
    "df['ENTERPRISESIZE'] = df['ENTERPRISESIZE'].replace(dic)"
   ]
  },
  {
   "cell_type": "markdown",
   "id": "83b96625",
   "metadata": {},
   "source": [
    "### Nominal Features\n"
   ]
  },
  {
   "cell_type": "code",
   "execution_count": 2108,
   "id": "0f2faf3b",
   "metadata": {},
   "outputs": [
    {
     "data": {
      "text/plain": [
       "N    34062\n",
       "S     5596\n",
       "M       17\n",
       "P       17\n",
       "Name: PREVIOUSPARTICIPATION, dtype: int64"
      ]
     },
     "execution_count": 2108,
     "metadata": {},
     "output_type": "execute_result"
    }
   ],
   "source": [
    "df['PREVIOUSPARTICIPATION'].value_counts()"
   ]
  },
  {
   "cell_type": "code",
   "execution_count": 2109,
   "id": "4fef9acf",
   "metadata": {},
   "outputs": [
    {
     "data": {
      "text/html": [
       "<div>\n",
       "<style scoped>\n",
       "    .dataframe tbody tr th:only-of-type {\n",
       "        vertical-align: middle;\n",
       "    }\n",
       "\n",
       "    .dataframe tbody tr th {\n",
       "        vertical-align: top;\n",
       "    }\n",
       "\n",
       "    .dataframe thead th {\n",
       "        text-align: right;\n",
       "    }\n",
       "</style>\n",
       "<table border=\"1\" class=\"dataframe\">\n",
       "  <thead>\n",
       "    <tr style=\"text-align: right;\">\n",
       "      <th></th>\n",
       "      <th>previous_paticipation_M</th>\n",
       "      <th>previous_paticipation_N</th>\n",
       "      <th>previous_paticipation_P</th>\n",
       "      <th>previous_paticipation_S</th>\n",
       "    </tr>\n",
       "  </thead>\n",
       "  <tbody>\n",
       "    <tr>\n",
       "      <th>0</th>\n",
       "      <td>0</td>\n",
       "      <td>1</td>\n",
       "      <td>0</td>\n",
       "      <td>0</td>\n",
       "    </tr>\n",
       "    <tr>\n",
       "      <th>1</th>\n",
       "      <td>0</td>\n",
       "      <td>1</td>\n",
       "      <td>0</td>\n",
       "      <td>0</td>\n",
       "    </tr>\n",
       "    <tr>\n",
       "      <th>2</th>\n",
       "      <td>0</td>\n",
       "      <td>1</td>\n",
       "      <td>0</td>\n",
       "      <td>0</td>\n",
       "    </tr>\n",
       "    <tr>\n",
       "      <th>3</th>\n",
       "      <td>0</td>\n",
       "      <td>1</td>\n",
       "      <td>0</td>\n",
       "      <td>0</td>\n",
       "    </tr>\n",
       "    <tr>\n",
       "      <th>4</th>\n",
       "      <td>0</td>\n",
       "      <td>1</td>\n",
       "      <td>0</td>\n",
       "      <td>0</td>\n",
       "    </tr>\n",
       "  </tbody>\n",
       "</table>\n",
       "</div>"
      ],
      "text/plain": [
       "   previous_paticipation_M  previous_paticipation_N  previous_paticipation_P  \\\n",
       "0                        0                        1                        0   \n",
       "1                        0                        1                        0   \n",
       "2                        0                        1                        0   \n",
       "3                        0                        1                        0   \n",
       "4                        0                        1                        0   \n",
       "\n",
       "   previous_paticipation_S  \n",
       "0                        0  \n",
       "1                        0  \n",
       "2                        0  \n",
       "3                        0  \n",
       "4                        0  "
      ]
     },
     "execution_count": 2109,
     "metadata": {},
     "output_type": "execute_result"
    }
   ],
   "source": [
    "df_PP = pd.get_dummies(df['PREVIOUSPARTICIPATION'], prefix='previous_paticipation')\n",
    "df_PP.head()"
   ]
  },
  {
   "cell_type": "code",
   "execution_count": 2110,
   "id": "ab6b331c",
   "metadata": {},
   "outputs": [
    {
     "data": {
      "text/plain": [
       "N    38566\n",
       "O      868\n",
       "J      202\n",
       "D       56\n",
       "Name: QUALIFICATIONATHOST, dtype: int64"
      ]
     },
     "execution_count": 2110,
     "metadata": {},
     "output_type": "execute_result"
    }
   ],
   "source": [
    "df['QUALIFICATIONATHOST'].value_counts()"
   ]
  },
  {
   "cell_type": "code",
   "execution_count": 2111,
   "id": "2b511392",
   "metadata": {},
   "outputs": [
    {
     "data": {
      "text/html": [
       "<div>\n",
       "<style scoped>\n",
       "    .dataframe tbody tr th:only-of-type {\n",
       "        vertical-align: middle;\n",
       "    }\n",
       "\n",
       "    .dataframe tbody tr th {\n",
       "        vertical-align: top;\n",
       "    }\n",
       "\n",
       "    .dataframe thead th {\n",
       "        text-align: right;\n",
       "    }\n",
       "</style>\n",
       "<table border=\"1\" class=\"dataframe\">\n",
       "  <thead>\n",
       "    <tr style=\"text-align: right;\">\n",
       "      <th></th>\n",
       "      <th>qualification_at_host_D</th>\n",
       "      <th>qualification_at_host_J</th>\n",
       "      <th>qualification_at_host_N</th>\n",
       "      <th>qualification_at_host_O</th>\n",
       "    </tr>\n",
       "  </thead>\n",
       "  <tbody>\n",
       "    <tr>\n",
       "      <th>0</th>\n",
       "      <td>0</td>\n",
       "      <td>0</td>\n",
       "      <td>1</td>\n",
       "      <td>0</td>\n",
       "    </tr>\n",
       "    <tr>\n",
       "      <th>1</th>\n",
       "      <td>0</td>\n",
       "      <td>0</td>\n",
       "      <td>1</td>\n",
       "      <td>0</td>\n",
       "    </tr>\n",
       "    <tr>\n",
       "      <th>2</th>\n",
       "      <td>0</td>\n",
       "      <td>0</td>\n",
       "      <td>1</td>\n",
       "      <td>0</td>\n",
       "    </tr>\n",
       "    <tr>\n",
       "      <th>3</th>\n",
       "      <td>0</td>\n",
       "      <td>0</td>\n",
       "      <td>1</td>\n",
       "      <td>0</td>\n",
       "    </tr>\n",
       "    <tr>\n",
       "      <th>4</th>\n",
       "      <td>0</td>\n",
       "      <td>0</td>\n",
       "      <td>1</td>\n",
       "      <td>0</td>\n",
       "    </tr>\n",
       "  </tbody>\n",
       "</table>\n",
       "</div>"
      ],
      "text/plain": [
       "   qualification_at_host_D  qualification_at_host_J  qualification_at_host_N  \\\n",
       "0                        0                        0                        1   \n",
       "1                        0                        0                        1   \n",
       "2                        0                        0                        1   \n",
       "3                        0                        0                        1   \n",
       "4                        0                        0                        1   \n",
       "\n",
       "   qualification_at_host_O  \n",
       "0                        0  \n",
       "1                        0  \n",
       "2                        0  \n",
       "3                        0  \n",
       "4                        0  "
      ]
     },
     "execution_count": 2111,
     "metadata": {},
     "output_type": "execute_result"
    }
   ],
   "source": [
    "df_QAH = pd.get_dummies(df['QUALIFICATIONATHOST'], prefix='qualification_at_host')\n",
    "df_QAH.head()"
   ]
  },
  {
   "cell_type": "code",
   "execution_count": 2112,
   "id": "35614378",
   "metadata": {},
   "outputs": [
    {
     "data": {
      "text/plain": [
       "64     5355\n",
       "222    3851\n",
       "340    1904\n",
       "34     1773\n",
       "345    1254\n",
       "       ... \n",
       "853       2\n",
       "814       2\n",
       "869       1\n",
       "9         1\n",
       "544       1\n",
       "Name: SUBJECTAREA, Length: 139, dtype: int64"
      ]
     },
     "execution_count": 2112,
     "metadata": {},
     "output_type": "execute_result"
    }
   ],
   "source": [
    "df['SUBJECTAREA'].value_counts()"
   ]
  },
  {
   "cell_type": "code",
   "execution_count": 2113,
   "id": "06b072a4",
   "metadata": {},
   "outputs": [
    {
     "data": {
      "text/html": [
       "<div>\n",
       "<style scoped>\n",
       "    .dataframe tbody tr th:only-of-type {\n",
       "        vertical-align: middle;\n",
       "    }\n",
       "\n",
       "    .dataframe tbody tr th {\n",
       "        vertical-align: top;\n",
       "    }\n",
       "\n",
       "    .dataframe thead th {\n",
       "        text-align: right;\n",
       "    }\n",
       "</style>\n",
       "<table border=\"1\" class=\"dataframe\">\n",
       "  <thead>\n",
       "    <tr style=\"text-align: right;\">\n",
       "      <th></th>\n",
       "      <th>subject_area_0</th>\n",
       "      <th>subject_area_1</th>\n",
       "      <th>subject_area_2</th>\n",
       "      <th>subject_area_3</th>\n",
       "      <th>subject_area_4</th>\n",
       "      <th>subject_area_5</th>\n",
       "      <th>subject_area_6</th>\n",
       "      <th>subject_area_7</th>\n",
       "      <th>subject_area_8</th>\n",
       "      <th>subject_area_9</th>\n",
       "      <th>...</th>\n",
       "      <th>subject_area_840</th>\n",
       "      <th>subject_area_850</th>\n",
       "      <th>subject_area_851</th>\n",
       "      <th>subject_area_852</th>\n",
       "      <th>subject_area_853</th>\n",
       "      <th>subject_area_859</th>\n",
       "      <th>subject_area_860</th>\n",
       "      <th>subject_area_861</th>\n",
       "      <th>subject_area_862</th>\n",
       "      <th>subject_area_869</th>\n",
       "    </tr>\n",
       "  </thead>\n",
       "  <tbody>\n",
       "    <tr>\n",
       "      <th>0</th>\n",
       "      <td>0</td>\n",
       "      <td>0</td>\n",
       "      <td>0</td>\n",
       "      <td>0</td>\n",
       "      <td>0</td>\n",
       "      <td>0</td>\n",
       "      <td>0</td>\n",
       "      <td>0</td>\n",
       "      <td>0</td>\n",
       "      <td>0</td>\n",
       "      <td>...</td>\n",
       "      <td>0</td>\n",
       "      <td>0</td>\n",
       "      <td>0</td>\n",
       "      <td>0</td>\n",
       "      <td>0</td>\n",
       "      <td>0</td>\n",
       "      <td>0</td>\n",
       "      <td>0</td>\n",
       "      <td>0</td>\n",
       "      <td>0</td>\n",
       "    </tr>\n",
       "    <tr>\n",
       "      <th>1</th>\n",
       "      <td>0</td>\n",
       "      <td>0</td>\n",
       "      <td>0</td>\n",
       "      <td>0</td>\n",
       "      <td>0</td>\n",
       "      <td>0</td>\n",
       "      <td>0</td>\n",
       "      <td>0</td>\n",
       "      <td>0</td>\n",
       "      <td>0</td>\n",
       "      <td>...</td>\n",
       "      <td>0</td>\n",
       "      <td>0</td>\n",
       "      <td>0</td>\n",
       "      <td>0</td>\n",
       "      <td>0</td>\n",
       "      <td>0</td>\n",
       "      <td>0</td>\n",
       "      <td>0</td>\n",
       "      <td>0</td>\n",
       "      <td>0</td>\n",
       "    </tr>\n",
       "    <tr>\n",
       "      <th>2</th>\n",
       "      <td>0</td>\n",
       "      <td>0</td>\n",
       "      <td>0</td>\n",
       "      <td>0</td>\n",
       "      <td>0</td>\n",
       "      <td>0</td>\n",
       "      <td>0</td>\n",
       "      <td>0</td>\n",
       "      <td>0</td>\n",
       "      <td>0</td>\n",
       "      <td>...</td>\n",
       "      <td>0</td>\n",
       "      <td>0</td>\n",
       "      <td>0</td>\n",
       "      <td>0</td>\n",
       "      <td>0</td>\n",
       "      <td>0</td>\n",
       "      <td>0</td>\n",
       "      <td>0</td>\n",
       "      <td>0</td>\n",
       "      <td>0</td>\n",
       "    </tr>\n",
       "    <tr>\n",
       "      <th>3</th>\n",
       "      <td>0</td>\n",
       "      <td>0</td>\n",
       "      <td>0</td>\n",
       "      <td>0</td>\n",
       "      <td>0</td>\n",
       "      <td>0</td>\n",
       "      <td>0</td>\n",
       "      <td>0</td>\n",
       "      <td>0</td>\n",
       "      <td>0</td>\n",
       "      <td>...</td>\n",
       "      <td>0</td>\n",
       "      <td>0</td>\n",
       "      <td>0</td>\n",
       "      <td>0</td>\n",
       "      <td>0</td>\n",
       "      <td>0</td>\n",
       "      <td>0</td>\n",
       "      <td>0</td>\n",
       "      <td>0</td>\n",
       "      <td>0</td>\n",
       "    </tr>\n",
       "    <tr>\n",
       "      <th>4</th>\n",
       "      <td>0</td>\n",
       "      <td>0</td>\n",
       "      <td>0</td>\n",
       "      <td>0</td>\n",
       "      <td>0</td>\n",
       "      <td>0</td>\n",
       "      <td>0</td>\n",
       "      <td>0</td>\n",
       "      <td>0</td>\n",
       "      <td>0</td>\n",
       "      <td>...</td>\n",
       "      <td>0</td>\n",
       "      <td>0</td>\n",
       "      <td>0</td>\n",
       "      <td>0</td>\n",
       "      <td>0</td>\n",
       "      <td>0</td>\n",
       "      <td>0</td>\n",
       "      <td>0</td>\n",
       "      <td>0</td>\n",
       "      <td>0</td>\n",
       "    </tr>\n",
       "  </tbody>\n",
       "</table>\n",
       "<p>5 rows × 139 columns</p>\n",
       "</div>"
      ],
      "text/plain": [
       "   subject_area_0  subject_area_1  subject_area_2  subject_area_3  \\\n",
       "0               0               0               0               0   \n",
       "1               0               0               0               0   \n",
       "2               0               0               0               0   \n",
       "3               0               0               0               0   \n",
       "4               0               0               0               0   \n",
       "\n",
       "   subject_area_4  subject_area_5  subject_area_6  subject_area_7  \\\n",
       "0               0               0               0               0   \n",
       "1               0               0               0               0   \n",
       "2               0               0               0               0   \n",
       "3               0               0               0               0   \n",
       "4               0               0               0               0   \n",
       "\n",
       "   subject_area_8  subject_area_9  ...  subject_area_840  subject_area_850  \\\n",
       "0               0               0  ...                 0                 0   \n",
       "1               0               0  ...                 0                 0   \n",
       "2               0               0  ...                 0                 0   \n",
       "3               0               0  ...                 0                 0   \n",
       "4               0               0  ...                 0                 0   \n",
       "\n",
       "   subject_area_851  subject_area_852  subject_area_853  subject_area_859  \\\n",
       "0                 0                 0                 0                 0   \n",
       "1                 0                 0                 0                 0   \n",
       "2                 0                 0                 0                 0   \n",
       "3                 0                 0                 0                 0   \n",
       "4                 0                 0                 0                 0   \n",
       "\n",
       "   subject_area_860  subject_area_861  subject_area_862  subject_area_869  \n",
       "0                 0                 0                 0                 0  \n",
       "1                 0                 0                 0                 0  \n",
       "2                 0                 0                 0                 0  \n",
       "3                 0                 0                 0                 0  \n",
       "4                 0                 0                 0                 0  \n",
       "\n",
       "[5 rows x 139 columns]"
      ]
     },
     "execution_count": 2113,
     "metadata": {},
     "output_type": "execute_result"
    }
   ],
   "source": [
    "df_SA = pd.get_dummies(df['SUBJECTAREA'], prefix='subject_area')\n",
    "df_SA.head()"
   ]
  },
  {
   "cell_type": "code",
   "execution_count": 2114,
   "id": "208b1f09",
   "metadata": {},
   "outputs": [
    {
     "data": {
      "text/plain": [
       "FR    5793\n",
       "DE    5396\n",
       "ES    4456\n",
       "UK    3664\n",
       "PL    2541\n",
       "IT    2267\n",
       "NL    2165\n",
       "TR    1130\n",
       "BE    1101\n",
       "RO    1080\n",
       "FI    1030\n",
       "XX     881\n",
       "PT     871\n",
       "HU     849\n",
       "LT     818\n",
       "CZ     805\n",
       "AT     799\n",
       "IE     584\n",
       "LV     550\n",
       "GR     549\n",
       "SK     475\n",
       "BG     461\n",
       "DK     434\n",
       "SE     283\n",
       "SI     267\n",
       "EE     207\n",
       "NO     129\n",
       "CY      55\n",
       "IS      29\n",
       "LU      18\n",
       "LI       5\n",
       "Name: NATIONALITY, dtype: int64"
      ]
     },
     "execution_count": 2114,
     "metadata": {},
     "output_type": "execute_result"
    }
   ],
   "source": [
    "df['NATIONALITY'].value_counts()"
   ]
  },
  {
   "cell_type": "code",
   "execution_count": 2115,
   "id": "acf90838",
   "metadata": {},
   "outputs": [
    {
     "data": {
      "text/html": [
       "<div>\n",
       "<style scoped>\n",
       "    .dataframe tbody tr th:only-of-type {\n",
       "        vertical-align: middle;\n",
       "    }\n",
       "\n",
       "    .dataframe tbody tr th {\n",
       "        vertical-align: top;\n",
       "    }\n",
       "\n",
       "    .dataframe thead th {\n",
       "        text-align: right;\n",
       "    }\n",
       "</style>\n",
       "<table border=\"1\" class=\"dataframe\">\n",
       "  <thead>\n",
       "    <tr style=\"text-align: right;\">\n",
       "      <th></th>\n",
       "      <th>nationality_AT</th>\n",
       "      <th>nationality_BE</th>\n",
       "      <th>nationality_BG</th>\n",
       "      <th>nationality_CY</th>\n",
       "      <th>nationality_CZ</th>\n",
       "      <th>nationality_DE</th>\n",
       "      <th>nationality_DK</th>\n",
       "      <th>nationality_EE</th>\n",
       "      <th>nationality_ES</th>\n",
       "      <th>nationality_FI</th>\n",
       "      <th>...</th>\n",
       "      <th>nationality_NO</th>\n",
       "      <th>nationality_PL</th>\n",
       "      <th>nationality_PT</th>\n",
       "      <th>nationality_RO</th>\n",
       "      <th>nationality_SE</th>\n",
       "      <th>nationality_SI</th>\n",
       "      <th>nationality_SK</th>\n",
       "      <th>nationality_TR</th>\n",
       "      <th>nationality_UK</th>\n",
       "      <th>nationality_XX</th>\n",
       "    </tr>\n",
       "  </thead>\n",
       "  <tbody>\n",
       "    <tr>\n",
       "      <th>0</th>\n",
       "      <td>0</td>\n",
       "      <td>0</td>\n",
       "      <td>0</td>\n",
       "      <td>0</td>\n",
       "      <td>0</td>\n",
       "      <td>0</td>\n",
       "      <td>0</td>\n",
       "      <td>0</td>\n",
       "      <td>0</td>\n",
       "      <td>0</td>\n",
       "      <td>...</td>\n",
       "      <td>0</td>\n",
       "      <td>0</td>\n",
       "      <td>0</td>\n",
       "      <td>0</td>\n",
       "      <td>0</td>\n",
       "      <td>0</td>\n",
       "      <td>0</td>\n",
       "      <td>0</td>\n",
       "      <td>0</td>\n",
       "      <td>0</td>\n",
       "    </tr>\n",
       "    <tr>\n",
       "      <th>1</th>\n",
       "      <td>0</td>\n",
       "      <td>0</td>\n",
       "      <td>0</td>\n",
       "      <td>0</td>\n",
       "      <td>0</td>\n",
       "      <td>0</td>\n",
       "      <td>0</td>\n",
       "      <td>0</td>\n",
       "      <td>0</td>\n",
       "      <td>0</td>\n",
       "      <td>...</td>\n",
       "      <td>0</td>\n",
       "      <td>0</td>\n",
       "      <td>0</td>\n",
       "      <td>0</td>\n",
       "      <td>0</td>\n",
       "      <td>0</td>\n",
       "      <td>0</td>\n",
       "      <td>0</td>\n",
       "      <td>0</td>\n",
       "      <td>0</td>\n",
       "    </tr>\n",
       "    <tr>\n",
       "      <th>2</th>\n",
       "      <td>0</td>\n",
       "      <td>0</td>\n",
       "      <td>0</td>\n",
       "      <td>0</td>\n",
       "      <td>0</td>\n",
       "      <td>0</td>\n",
       "      <td>0</td>\n",
       "      <td>0</td>\n",
       "      <td>0</td>\n",
       "      <td>0</td>\n",
       "      <td>...</td>\n",
       "      <td>0</td>\n",
       "      <td>0</td>\n",
       "      <td>0</td>\n",
       "      <td>0</td>\n",
       "      <td>0</td>\n",
       "      <td>0</td>\n",
       "      <td>0</td>\n",
       "      <td>0</td>\n",
       "      <td>0</td>\n",
       "      <td>0</td>\n",
       "    </tr>\n",
       "    <tr>\n",
       "      <th>3</th>\n",
       "      <td>0</td>\n",
       "      <td>0</td>\n",
       "      <td>0</td>\n",
       "      <td>0</td>\n",
       "      <td>0</td>\n",
       "      <td>0</td>\n",
       "      <td>0</td>\n",
       "      <td>0</td>\n",
       "      <td>0</td>\n",
       "      <td>0</td>\n",
       "      <td>...</td>\n",
       "      <td>0</td>\n",
       "      <td>0</td>\n",
       "      <td>0</td>\n",
       "      <td>0</td>\n",
       "      <td>0</td>\n",
       "      <td>0</td>\n",
       "      <td>1</td>\n",
       "      <td>0</td>\n",
       "      <td>0</td>\n",
       "      <td>0</td>\n",
       "    </tr>\n",
       "    <tr>\n",
       "      <th>4</th>\n",
       "      <td>0</td>\n",
       "      <td>0</td>\n",
       "      <td>0</td>\n",
       "      <td>0</td>\n",
       "      <td>0</td>\n",
       "      <td>0</td>\n",
       "      <td>0</td>\n",
       "      <td>0</td>\n",
       "      <td>0</td>\n",
       "      <td>0</td>\n",
       "      <td>...</td>\n",
       "      <td>0</td>\n",
       "      <td>0</td>\n",
       "      <td>0</td>\n",
       "      <td>0</td>\n",
       "      <td>0</td>\n",
       "      <td>0</td>\n",
       "      <td>0</td>\n",
       "      <td>0</td>\n",
       "      <td>0</td>\n",
       "      <td>0</td>\n",
       "    </tr>\n",
       "  </tbody>\n",
       "</table>\n",
       "<p>5 rows × 31 columns</p>\n",
       "</div>"
      ],
      "text/plain": [
       "   nationality_AT  nationality_BE  nationality_BG  nationality_CY  \\\n",
       "0               0               0               0               0   \n",
       "1               0               0               0               0   \n",
       "2               0               0               0               0   \n",
       "3               0               0               0               0   \n",
       "4               0               0               0               0   \n",
       "\n",
       "   nationality_CZ  nationality_DE  nationality_DK  nationality_EE  \\\n",
       "0               0               0               0               0   \n",
       "1               0               0               0               0   \n",
       "2               0               0               0               0   \n",
       "3               0               0               0               0   \n",
       "4               0               0               0               0   \n",
       "\n",
       "   nationality_ES  nationality_FI  ...  nationality_NO  nationality_PL  \\\n",
       "0               0               0  ...               0               0   \n",
       "1               0               0  ...               0               0   \n",
       "2               0               0  ...               0               0   \n",
       "3               0               0  ...               0               0   \n",
       "4               0               0  ...               0               0   \n",
       "\n",
       "   nationality_PT  nationality_RO  nationality_SE  nationality_SI  \\\n",
       "0               0               0               0               0   \n",
       "1               0               0               0               0   \n",
       "2               0               0               0               0   \n",
       "3               0               0               0               0   \n",
       "4               0               0               0               0   \n",
       "\n",
       "   nationality_SK  nationality_TR  nationality_UK  nationality_XX  \n",
       "0               0               0               0               0  \n",
       "1               0               0               0               0  \n",
       "2               0               0               0               0  \n",
       "3               1               0               0               0  \n",
       "4               0               0               0               0  \n",
       "\n",
       "[5 rows x 31 columns]"
      ]
     },
     "execution_count": 2115,
     "metadata": {},
     "output_type": "execute_result"
    }
   ],
   "source": [
    "df_NA = pd.get_dummies(df['NATIONALITY'], prefix='nationality')\n",
    "df_NA.head()"
   ]
  },
  {
   "cell_type": "code",
   "execution_count": 2116,
   "id": "68b9222b",
   "metadata": {},
   "outputs": [
    {
     "data": {
      "text/plain": [
       "1    16611\n",
       "S     7760\n",
       "2     6920\n",
       "1     5548\n",
       "2     1894\n",
       "3      606\n",
       "3      353\n",
       "Name: LEVELSTUDY, dtype: int64"
      ]
     },
     "execution_count": 2116,
     "metadata": {},
     "output_type": "execute_result"
    }
   ],
   "source": [
    "df['LEVELSTUDY'].value_counts()"
   ]
  },
  {
   "cell_type": "code",
   "execution_count": 2117,
   "id": "a6cb12f1",
   "metadata": {},
   "outputs": [
    {
     "data": {
      "text/html": [
       "<div>\n",
       "<style scoped>\n",
       "    .dataframe tbody tr th:only-of-type {\n",
       "        vertical-align: middle;\n",
       "    }\n",
       "\n",
       "    .dataframe tbody tr th {\n",
       "        vertical-align: top;\n",
       "    }\n",
       "\n",
       "    .dataframe thead th {\n",
       "        text-align: right;\n",
       "    }\n",
       "</style>\n",
       "<table border=\"1\" class=\"dataframe\">\n",
       "  <thead>\n",
       "    <tr style=\"text-align: right;\">\n",
       "      <th></th>\n",
       "      <th>level_study_1</th>\n",
       "      <th>level_study_2</th>\n",
       "      <th>level_study_3</th>\n",
       "      <th>level_study_1</th>\n",
       "      <th>level_study_2</th>\n",
       "      <th>level_study_3</th>\n",
       "      <th>level_study_S</th>\n",
       "    </tr>\n",
       "  </thead>\n",
       "  <tbody>\n",
       "    <tr>\n",
       "      <th>0</th>\n",
       "      <td>0</td>\n",
       "      <td>0</td>\n",
       "      <td>0</td>\n",
       "      <td>0</td>\n",
       "      <td>0</td>\n",
       "      <td>1</td>\n",
       "      <td>0</td>\n",
       "    </tr>\n",
       "    <tr>\n",
       "      <th>1</th>\n",
       "      <td>0</td>\n",
       "      <td>0</td>\n",
       "      <td>0</td>\n",
       "      <td>0</td>\n",
       "      <td>0</td>\n",
       "      <td>1</td>\n",
       "      <td>0</td>\n",
       "    </tr>\n",
       "    <tr>\n",
       "      <th>2</th>\n",
       "      <td>0</td>\n",
       "      <td>0</td>\n",
       "      <td>0</td>\n",
       "      <td>0</td>\n",
       "      <td>1</td>\n",
       "      <td>0</td>\n",
       "      <td>0</td>\n",
       "    </tr>\n",
       "    <tr>\n",
       "      <th>3</th>\n",
       "      <td>0</td>\n",
       "      <td>0</td>\n",
       "      <td>0</td>\n",
       "      <td>0</td>\n",
       "      <td>1</td>\n",
       "      <td>0</td>\n",
       "      <td>0</td>\n",
       "    </tr>\n",
       "    <tr>\n",
       "      <th>4</th>\n",
       "      <td>0</td>\n",
       "      <td>0</td>\n",
       "      <td>0</td>\n",
       "      <td>0</td>\n",
       "      <td>1</td>\n",
       "      <td>0</td>\n",
       "      <td>0</td>\n",
       "    </tr>\n",
       "  </tbody>\n",
       "</table>\n",
       "</div>"
      ],
      "text/plain": [
       "   level_study_1  level_study_2  level_study_3  level_study_1  level_study_2  \\\n",
       "0              0              0              0              0              0   \n",
       "1              0              0              0              0              0   \n",
       "2              0              0              0              0              1   \n",
       "3              0              0              0              0              1   \n",
       "4              0              0              0              0              1   \n",
       "\n",
       "   level_study_3  level_study_S  \n",
       "0              1              0  \n",
       "1              1              0  \n",
       "2              0              0  \n",
       "3              0              0  \n",
       "4              0              0  "
      ]
     },
     "execution_count": 2117,
     "metadata": {},
     "output_type": "execute_result"
    }
   ],
   "source": [
    "df_LS = pd.get_dummies(df['LEVELSTUDY'], prefix='level_study')\n",
    "df_LS.head()"
   ]
  },
  {
   "cell_type": "code",
   "execution_count": 2118,
   "id": "3c508a0a",
   "metadata": {},
   "outputs": [
    {
     "data": {
      "text/plain": [
       "UK      6823\n",
       "ES      6564\n",
       "DE      5488\n",
       "FR      4426\n",
       "IT      2364\n",
       "BE      1858\n",
       "NL      1538\n",
       "IE      1250\n",
       "PT       917\n",
       "AT       903\n",
       "SE       824\n",
       "GR       768\n",
       "PL       631\n",
       "CZ       570\n",
       "DK       501\n",
       "MT       499\n",
       "NO       489\n",
       "TR       489\n",
       "FI       486\n",
       "HU       361\n",
       "LU       315\n",
       "RO       309\n",
       "BG       274\n",
       "LT       207\n",
       "CY       187\n",
       "SK       178\n",
       "SI       146\n",
       "EE       115\n",
       "LV       105\n",
       "IS        79\n",
       "LI        20\n",
       "CH         5\n",
       "HR         2\n",
       "BENL       1\n",
       "Name: COUNTRYOFWORKPLACEMENT, dtype: int64"
      ]
     },
     "execution_count": 2118,
     "metadata": {},
     "output_type": "execute_result"
    }
   ],
   "source": [
    "df['COUNTRYOFWORKPLACEMENT'].value_counts()"
   ]
  },
  {
   "cell_type": "code",
   "execution_count": 2119,
   "id": "85b6bd47",
   "metadata": {},
   "outputs": [
    {
     "data": {
      "text/html": [
       "<div>\n",
       "<style scoped>\n",
       "    .dataframe tbody tr th:only-of-type {\n",
       "        vertical-align: middle;\n",
       "    }\n",
       "\n",
       "    .dataframe tbody tr th {\n",
       "        vertical-align: top;\n",
       "    }\n",
       "\n",
       "    .dataframe thead th {\n",
       "        text-align: right;\n",
       "    }\n",
       "</style>\n",
       "<table border=\"1\" class=\"dataframe\">\n",
       "  <thead>\n",
       "    <tr style=\"text-align: right;\">\n",
       "      <th></th>\n",
       "      <th>country_of_workplacement_AT</th>\n",
       "      <th>country_of_workplacement_BE</th>\n",
       "      <th>country_of_workplacement_BENL</th>\n",
       "      <th>country_of_workplacement_BG</th>\n",
       "      <th>country_of_workplacement_CH</th>\n",
       "      <th>country_of_workplacement_CY</th>\n",
       "      <th>country_of_workplacement_CZ</th>\n",
       "      <th>country_of_workplacement_DE</th>\n",
       "      <th>country_of_workplacement_DK</th>\n",
       "      <th>country_of_workplacement_EE</th>\n",
       "      <th>...</th>\n",
       "      <th>country_of_workplacement_NL</th>\n",
       "      <th>country_of_workplacement_NO</th>\n",
       "      <th>country_of_workplacement_PL</th>\n",
       "      <th>country_of_workplacement_PT</th>\n",
       "      <th>country_of_workplacement_RO</th>\n",
       "      <th>country_of_workplacement_SE</th>\n",
       "      <th>country_of_workplacement_SI</th>\n",
       "      <th>country_of_workplacement_SK</th>\n",
       "      <th>country_of_workplacement_TR</th>\n",
       "      <th>country_of_workplacement_UK</th>\n",
       "    </tr>\n",
       "  </thead>\n",
       "  <tbody>\n",
       "    <tr>\n",
       "      <th>0</th>\n",
       "      <td>0</td>\n",
       "      <td>0</td>\n",
       "      <td>0</td>\n",
       "      <td>0</td>\n",
       "      <td>0</td>\n",
       "      <td>0</td>\n",
       "      <td>0</td>\n",
       "      <td>1</td>\n",
       "      <td>0</td>\n",
       "      <td>0</td>\n",
       "      <td>...</td>\n",
       "      <td>0</td>\n",
       "      <td>0</td>\n",
       "      <td>0</td>\n",
       "      <td>0</td>\n",
       "      <td>0</td>\n",
       "      <td>0</td>\n",
       "      <td>0</td>\n",
       "      <td>0</td>\n",
       "      <td>0</td>\n",
       "      <td>0</td>\n",
       "    </tr>\n",
       "    <tr>\n",
       "      <th>1</th>\n",
       "      <td>1</td>\n",
       "      <td>0</td>\n",
       "      <td>0</td>\n",
       "      <td>0</td>\n",
       "      <td>0</td>\n",
       "      <td>0</td>\n",
       "      <td>0</td>\n",
       "      <td>0</td>\n",
       "      <td>0</td>\n",
       "      <td>0</td>\n",
       "      <td>...</td>\n",
       "      <td>0</td>\n",
       "      <td>0</td>\n",
       "      <td>0</td>\n",
       "      <td>0</td>\n",
       "      <td>0</td>\n",
       "      <td>0</td>\n",
       "      <td>0</td>\n",
       "      <td>0</td>\n",
       "      <td>0</td>\n",
       "      <td>0</td>\n",
       "    </tr>\n",
       "    <tr>\n",
       "      <th>2</th>\n",
       "      <td>0</td>\n",
       "      <td>0</td>\n",
       "      <td>0</td>\n",
       "      <td>0</td>\n",
       "      <td>0</td>\n",
       "      <td>0</td>\n",
       "      <td>0</td>\n",
       "      <td>0</td>\n",
       "      <td>0</td>\n",
       "      <td>0</td>\n",
       "      <td>...</td>\n",
       "      <td>0</td>\n",
       "      <td>0</td>\n",
       "      <td>0</td>\n",
       "      <td>0</td>\n",
       "      <td>1</td>\n",
       "      <td>0</td>\n",
       "      <td>0</td>\n",
       "      <td>0</td>\n",
       "      <td>0</td>\n",
       "      <td>0</td>\n",
       "    </tr>\n",
       "    <tr>\n",
       "      <th>3</th>\n",
       "      <td>0</td>\n",
       "      <td>0</td>\n",
       "      <td>0</td>\n",
       "      <td>0</td>\n",
       "      <td>0</td>\n",
       "      <td>0</td>\n",
       "      <td>0</td>\n",
       "      <td>1</td>\n",
       "      <td>0</td>\n",
       "      <td>0</td>\n",
       "      <td>...</td>\n",
       "      <td>0</td>\n",
       "      <td>0</td>\n",
       "      <td>0</td>\n",
       "      <td>0</td>\n",
       "      <td>0</td>\n",
       "      <td>0</td>\n",
       "      <td>0</td>\n",
       "      <td>0</td>\n",
       "      <td>0</td>\n",
       "      <td>0</td>\n",
       "    </tr>\n",
       "    <tr>\n",
       "      <th>4</th>\n",
       "      <td>0</td>\n",
       "      <td>0</td>\n",
       "      <td>0</td>\n",
       "      <td>0</td>\n",
       "      <td>0</td>\n",
       "      <td>0</td>\n",
       "      <td>0</td>\n",
       "      <td>1</td>\n",
       "      <td>0</td>\n",
       "      <td>0</td>\n",
       "      <td>...</td>\n",
       "      <td>0</td>\n",
       "      <td>0</td>\n",
       "      <td>0</td>\n",
       "      <td>0</td>\n",
       "      <td>0</td>\n",
       "      <td>0</td>\n",
       "      <td>0</td>\n",
       "      <td>0</td>\n",
       "      <td>0</td>\n",
       "      <td>0</td>\n",
       "    </tr>\n",
       "  </tbody>\n",
       "</table>\n",
       "<p>5 rows × 34 columns</p>\n",
       "</div>"
      ],
      "text/plain": [
       "   country_of_workplacement_AT  country_of_workplacement_BE  \\\n",
       "0                            0                            0   \n",
       "1                            1                            0   \n",
       "2                            0                            0   \n",
       "3                            0                            0   \n",
       "4                            0                            0   \n",
       "\n",
       "   country_of_workplacement_BENL  country_of_workplacement_BG  \\\n",
       "0                              0                            0   \n",
       "1                              0                            0   \n",
       "2                              0                            0   \n",
       "3                              0                            0   \n",
       "4                              0                            0   \n",
       "\n",
       "   country_of_workplacement_CH  country_of_workplacement_CY  \\\n",
       "0                            0                            0   \n",
       "1                            0                            0   \n",
       "2                            0                            0   \n",
       "3                            0                            0   \n",
       "4                            0                            0   \n",
       "\n",
       "   country_of_workplacement_CZ  country_of_workplacement_DE  \\\n",
       "0                            0                            1   \n",
       "1                            0                            0   \n",
       "2                            0                            0   \n",
       "3                            0                            1   \n",
       "4                            0                            1   \n",
       "\n",
       "   country_of_workplacement_DK  country_of_workplacement_EE  ...  \\\n",
       "0                            0                            0  ...   \n",
       "1                            0                            0  ...   \n",
       "2                            0                            0  ...   \n",
       "3                            0                            0  ...   \n",
       "4                            0                            0  ...   \n",
       "\n",
       "   country_of_workplacement_NL  country_of_workplacement_NO  \\\n",
       "0                            0                            0   \n",
       "1                            0                            0   \n",
       "2                            0                            0   \n",
       "3                            0                            0   \n",
       "4                            0                            0   \n",
       "\n",
       "   country_of_workplacement_PL  country_of_workplacement_PT  \\\n",
       "0                            0                            0   \n",
       "1                            0                            0   \n",
       "2                            0                            0   \n",
       "3                            0                            0   \n",
       "4                            0                            0   \n",
       "\n",
       "   country_of_workplacement_RO  country_of_workplacement_SE  \\\n",
       "0                            0                            0   \n",
       "1                            0                            0   \n",
       "2                            1                            0   \n",
       "3                            0                            0   \n",
       "4                            0                            0   \n",
       "\n",
       "   country_of_workplacement_SI  country_of_workplacement_SK  \\\n",
       "0                            0                            0   \n",
       "1                            0                            0   \n",
       "2                            0                            0   \n",
       "3                            0                            0   \n",
       "4                            0                            0   \n",
       "\n",
       "   country_of_workplacement_TR  country_of_workplacement_UK  \n",
       "0                            0                            0  \n",
       "1                            0                            0  \n",
       "2                            0                            0  \n",
       "3                            0                            0  \n",
       "4                            0                            0  \n",
       "\n",
       "[5 rows x 34 columns]"
      ]
     },
     "execution_count": 2119,
     "metadata": {},
     "output_type": "execute_result"
    }
   ],
   "source": [
    "df_COW = pd.get_dummies(df['COUNTRYOFWORKPLACEMENT'], prefix='country_of_workplacement')\n",
    "df_COW.head()"
   ]
  },
  {
   "cell_type": "code",
   "execution_count": 2120,
   "id": "9683f7b8",
   "metadata": {},
   "outputs": [
    {
     "data": {
      "text/plain": [
       "P    6840\n",
       "M    5583\n",
       "S    3744\n",
       "Q    3536\n",
       "I    3087\n",
       "C    2947\n",
       "R    2586\n",
       "J    2528\n",
       "N    1866\n",
       "F    1270\n",
       "A    1052\n",
       "K    1012\n",
       "G     949\n",
       "H     783\n",
       "O     552\n",
       "D     432\n",
       "U     348\n",
       "L     277\n",
       "E     123\n",
       "T      98\n",
       "B      79\n",
       "Name: TYPEWORKSECTOR, dtype: int64"
      ]
     },
     "execution_count": 2120,
     "metadata": {},
     "output_type": "execute_result"
    }
   ],
   "source": [
    "df['TYPEWORKSECTOR'].value_counts()"
   ]
  },
  {
   "cell_type": "code",
   "execution_count": 2121,
   "id": "93b422d2",
   "metadata": {},
   "outputs": [
    {
     "data": {
      "text/html": [
       "<div>\n",
       "<style scoped>\n",
       "    .dataframe tbody tr th:only-of-type {\n",
       "        vertical-align: middle;\n",
       "    }\n",
       "\n",
       "    .dataframe tbody tr th {\n",
       "        vertical-align: top;\n",
       "    }\n",
       "\n",
       "    .dataframe thead th {\n",
       "        text-align: right;\n",
       "    }\n",
       "</style>\n",
       "<table border=\"1\" class=\"dataframe\">\n",
       "  <thead>\n",
       "    <tr style=\"text-align: right;\">\n",
       "      <th></th>\n",
       "      <th>type_work_sector_A</th>\n",
       "      <th>type_work_sector_B</th>\n",
       "      <th>type_work_sector_C</th>\n",
       "      <th>type_work_sector_D</th>\n",
       "      <th>type_work_sector_E</th>\n",
       "      <th>type_work_sector_F</th>\n",
       "      <th>type_work_sector_G</th>\n",
       "      <th>type_work_sector_H</th>\n",
       "      <th>type_work_sector_I</th>\n",
       "      <th>type_work_sector_J</th>\n",
       "      <th>...</th>\n",
       "      <th>type_work_sector_L</th>\n",
       "      <th>type_work_sector_M</th>\n",
       "      <th>type_work_sector_N</th>\n",
       "      <th>type_work_sector_O</th>\n",
       "      <th>type_work_sector_P</th>\n",
       "      <th>type_work_sector_Q</th>\n",
       "      <th>type_work_sector_R</th>\n",
       "      <th>type_work_sector_S</th>\n",
       "      <th>type_work_sector_T</th>\n",
       "      <th>type_work_sector_U</th>\n",
       "    </tr>\n",
       "  </thead>\n",
       "  <tbody>\n",
       "    <tr>\n",
       "      <th>0</th>\n",
       "      <td>0</td>\n",
       "      <td>0</td>\n",
       "      <td>0</td>\n",
       "      <td>0</td>\n",
       "      <td>0</td>\n",
       "      <td>0</td>\n",
       "      <td>0</td>\n",
       "      <td>0</td>\n",
       "      <td>0</td>\n",
       "      <td>0</td>\n",
       "      <td>...</td>\n",
       "      <td>0</td>\n",
       "      <td>0</td>\n",
       "      <td>0</td>\n",
       "      <td>0</td>\n",
       "      <td>1</td>\n",
       "      <td>0</td>\n",
       "      <td>0</td>\n",
       "      <td>0</td>\n",
       "      <td>0</td>\n",
       "      <td>0</td>\n",
       "    </tr>\n",
       "    <tr>\n",
       "      <th>1</th>\n",
       "      <td>0</td>\n",
       "      <td>0</td>\n",
       "      <td>0</td>\n",
       "      <td>0</td>\n",
       "      <td>0</td>\n",
       "      <td>0</td>\n",
       "      <td>0</td>\n",
       "      <td>0</td>\n",
       "      <td>0</td>\n",
       "      <td>0</td>\n",
       "      <td>...</td>\n",
       "      <td>0</td>\n",
       "      <td>1</td>\n",
       "      <td>0</td>\n",
       "      <td>0</td>\n",
       "      <td>0</td>\n",
       "      <td>0</td>\n",
       "      <td>0</td>\n",
       "      <td>0</td>\n",
       "      <td>0</td>\n",
       "      <td>0</td>\n",
       "    </tr>\n",
       "    <tr>\n",
       "      <th>2</th>\n",
       "      <td>0</td>\n",
       "      <td>0</td>\n",
       "      <td>0</td>\n",
       "      <td>0</td>\n",
       "      <td>0</td>\n",
       "      <td>1</td>\n",
       "      <td>0</td>\n",
       "      <td>0</td>\n",
       "      <td>0</td>\n",
       "      <td>0</td>\n",
       "      <td>...</td>\n",
       "      <td>0</td>\n",
       "      <td>0</td>\n",
       "      <td>0</td>\n",
       "      <td>0</td>\n",
       "      <td>0</td>\n",
       "      <td>0</td>\n",
       "      <td>0</td>\n",
       "      <td>0</td>\n",
       "      <td>0</td>\n",
       "      <td>0</td>\n",
       "    </tr>\n",
       "    <tr>\n",
       "      <th>3</th>\n",
       "      <td>0</td>\n",
       "      <td>0</td>\n",
       "      <td>0</td>\n",
       "      <td>0</td>\n",
       "      <td>0</td>\n",
       "      <td>0</td>\n",
       "      <td>0</td>\n",
       "      <td>0</td>\n",
       "      <td>0</td>\n",
       "      <td>0</td>\n",
       "      <td>...</td>\n",
       "      <td>0</td>\n",
       "      <td>0</td>\n",
       "      <td>0</td>\n",
       "      <td>0</td>\n",
       "      <td>1</td>\n",
       "      <td>0</td>\n",
       "      <td>0</td>\n",
       "      <td>0</td>\n",
       "      <td>0</td>\n",
       "      <td>0</td>\n",
       "    </tr>\n",
       "    <tr>\n",
       "      <th>4</th>\n",
       "      <td>0</td>\n",
       "      <td>0</td>\n",
       "      <td>0</td>\n",
       "      <td>0</td>\n",
       "      <td>0</td>\n",
       "      <td>1</td>\n",
       "      <td>0</td>\n",
       "      <td>0</td>\n",
       "      <td>0</td>\n",
       "      <td>0</td>\n",
       "      <td>...</td>\n",
       "      <td>0</td>\n",
       "      <td>0</td>\n",
       "      <td>0</td>\n",
       "      <td>0</td>\n",
       "      <td>0</td>\n",
       "      <td>0</td>\n",
       "      <td>0</td>\n",
       "      <td>0</td>\n",
       "      <td>0</td>\n",
       "      <td>0</td>\n",
       "    </tr>\n",
       "  </tbody>\n",
       "</table>\n",
       "<p>5 rows × 21 columns</p>\n",
       "</div>"
      ],
      "text/plain": [
       "   type_work_sector_A  type_work_sector_B  type_work_sector_C  \\\n",
       "0                   0                   0                   0   \n",
       "1                   0                   0                   0   \n",
       "2                   0                   0                   0   \n",
       "3                   0                   0                   0   \n",
       "4                   0                   0                   0   \n",
       "\n",
       "   type_work_sector_D  type_work_sector_E  type_work_sector_F  \\\n",
       "0                   0                   0                   0   \n",
       "1                   0                   0                   0   \n",
       "2                   0                   0                   1   \n",
       "3                   0                   0                   0   \n",
       "4                   0                   0                   1   \n",
       "\n",
       "   type_work_sector_G  type_work_sector_H  type_work_sector_I  \\\n",
       "0                   0                   0                   0   \n",
       "1                   0                   0                   0   \n",
       "2                   0                   0                   0   \n",
       "3                   0                   0                   0   \n",
       "4                   0                   0                   0   \n",
       "\n",
       "   type_work_sector_J  ...  type_work_sector_L  type_work_sector_M  \\\n",
       "0                   0  ...                   0                   0   \n",
       "1                   0  ...                   0                   1   \n",
       "2                   0  ...                   0                   0   \n",
       "3                   0  ...                   0                   0   \n",
       "4                   0  ...                   0                   0   \n",
       "\n",
       "   type_work_sector_N  type_work_sector_O  type_work_sector_P  \\\n",
       "0                   0                   0                   1   \n",
       "1                   0                   0                   0   \n",
       "2                   0                   0                   0   \n",
       "3                   0                   0                   1   \n",
       "4                   0                   0                   0   \n",
       "\n",
       "   type_work_sector_Q  type_work_sector_R  type_work_sector_S  \\\n",
       "0                   0                   0                   0   \n",
       "1                   0                   0                   0   \n",
       "2                   0                   0                   0   \n",
       "3                   0                   0                   0   \n",
       "4                   0                   0                   0   \n",
       "\n",
       "   type_work_sector_T  type_work_sector_U  \n",
       "0                   0                   0  \n",
       "1                   0                   0  \n",
       "2                   0                   0  \n",
       "3                   0                   0  \n",
       "4                   0                   0  \n",
       "\n",
       "[5 rows x 21 columns]"
      ]
     },
     "execution_count": 2121,
     "metadata": {},
     "output_type": "execute_result"
    }
   ],
   "source": [
    "df_TWS = pd.get_dummies(df['TYPEWORKSECTOR'], prefix='type_work_sector')\n",
    "df_TWS.head()"
   ]
  },
  {
   "cell_type": "code",
   "execution_count": 2122,
   "id": "fabd5697",
   "metadata": {},
   "outputs": [
    {
     "data": {
      "text/plain": [
       "NN    29171\n",
       "HM     8664\n",
       "HS     1776\n",
       "EC       81\n",
       "Name: LINGPREPARATION, dtype: int64"
      ]
     },
     "execution_count": 2122,
     "metadata": {},
     "output_type": "execute_result"
    }
   ],
   "source": [
    "df['LINGPREPARATION'].value_counts()"
   ]
  },
  {
   "cell_type": "code",
   "execution_count": 2123,
   "id": "6292753d",
   "metadata": {},
   "outputs": [
    {
     "data": {
      "text/html": [
       "<div>\n",
       "<style scoped>\n",
       "    .dataframe tbody tr th:only-of-type {\n",
       "        vertical-align: middle;\n",
       "    }\n",
       "\n",
       "    .dataframe tbody tr th {\n",
       "        vertical-align: top;\n",
       "    }\n",
       "\n",
       "    .dataframe thead th {\n",
       "        text-align: right;\n",
       "    }\n",
       "</style>\n",
       "<table border=\"1\" class=\"dataframe\">\n",
       "  <thead>\n",
       "    <tr style=\"text-align: right;\">\n",
       "      <th></th>\n",
       "      <th>ling_preparation_EC</th>\n",
       "      <th>ling_preparation_HM</th>\n",
       "      <th>ling_preparation_HS</th>\n",
       "      <th>ling_preparation_NN</th>\n",
       "    </tr>\n",
       "  </thead>\n",
       "  <tbody>\n",
       "    <tr>\n",
       "      <th>0</th>\n",
       "      <td>0</td>\n",
       "      <td>0</td>\n",
       "      <td>0</td>\n",
       "      <td>1</td>\n",
       "    </tr>\n",
       "    <tr>\n",
       "      <th>1</th>\n",
       "      <td>0</td>\n",
       "      <td>0</td>\n",
       "      <td>0</td>\n",
       "      <td>1</td>\n",
       "    </tr>\n",
       "    <tr>\n",
       "      <th>2</th>\n",
       "      <td>0</td>\n",
       "      <td>0</td>\n",
       "      <td>0</td>\n",
       "      <td>1</td>\n",
       "    </tr>\n",
       "    <tr>\n",
       "      <th>3</th>\n",
       "      <td>0</td>\n",
       "      <td>0</td>\n",
       "      <td>0</td>\n",
       "      <td>1</td>\n",
       "    </tr>\n",
       "    <tr>\n",
       "      <th>4</th>\n",
       "      <td>0</td>\n",
       "      <td>0</td>\n",
       "      <td>0</td>\n",
       "      <td>1</td>\n",
       "    </tr>\n",
       "  </tbody>\n",
       "</table>\n",
       "</div>"
      ],
      "text/plain": [
       "   ling_preparation_EC  ling_preparation_HM  ling_preparation_HS  \\\n",
       "0                    0                    0                    0   \n",
       "1                    0                    0                    0   \n",
       "2                    0                    0                    0   \n",
       "3                    0                    0                    0   \n",
       "4                    0                    0                    0   \n",
       "\n",
       "   ling_preparation_NN  \n",
       "0                    1  \n",
       "1                    1  \n",
       "2                    1  \n",
       "3                    1  \n",
       "4                    1  "
      ]
     },
     "execution_count": 2123,
     "metadata": {},
     "output_type": "execute_result"
    }
   ],
   "source": [
    "df_LP = pd.get_dummies(df['LINGPREPARATION'], prefix='ling_preparation')\n",
    "df_LP.head()"
   ]
  },
  {
   "cell_type": "code",
   "execution_count": 2124,
   "id": "6a12f434",
   "metadata": {},
   "outputs": [
    {
     "data": {
      "text/plain": [
       "EN    20918\n",
       "ES     4887\n",
       "FR     4724\n",
       "DE     4556\n",
       "IT     1693\n",
       "NL      565\n",
       "PT      397\n",
       "TR      274\n",
       "PL      215\n",
       "SV      193\n",
       "CS      186\n",
       "NO      156\n",
       "EL      130\n",
       "HU      127\n",
       "BG      102\n",
       "DA       98\n",
       "SK       94\n",
       "FI       89\n",
       "RO       78\n",
       "XX       54\n",
       "LT       48\n",
       "LV       30\n",
       "SL       26\n",
       "ET       17\n",
       "IS       16\n",
       "MT       10\n",
       "GA        9\n",
       "Name: LANGUAGETAUGHT, dtype: int64"
      ]
     },
     "execution_count": 2124,
     "metadata": {},
     "output_type": "execute_result"
    }
   ],
   "source": [
    "df['LANGUAGETAUGHT'].value_counts()"
   ]
  },
  {
   "cell_type": "code",
   "execution_count": 2125,
   "id": "a7a5d10b",
   "metadata": {},
   "outputs": [
    {
     "data": {
      "text/html": [
       "<div>\n",
       "<style scoped>\n",
       "    .dataframe tbody tr th:only-of-type {\n",
       "        vertical-align: middle;\n",
       "    }\n",
       "\n",
       "    .dataframe tbody tr th {\n",
       "        vertical-align: top;\n",
       "    }\n",
       "\n",
       "    .dataframe thead th {\n",
       "        text-align: right;\n",
       "    }\n",
       "</style>\n",
       "<table border=\"1\" class=\"dataframe\">\n",
       "  <thead>\n",
       "    <tr style=\"text-align: right;\">\n",
       "      <th></th>\n",
       "      <th>language_taught_BG</th>\n",
       "      <th>language_taught_CS</th>\n",
       "      <th>language_taught_DA</th>\n",
       "      <th>language_taught_DE</th>\n",
       "      <th>language_taught_EL</th>\n",
       "      <th>language_taught_EN</th>\n",
       "      <th>language_taught_ES</th>\n",
       "      <th>language_taught_ET</th>\n",
       "      <th>language_taught_FI</th>\n",
       "      <th>language_taught_FR</th>\n",
       "      <th>...</th>\n",
       "      <th>language_taught_NL</th>\n",
       "      <th>language_taught_NO</th>\n",
       "      <th>language_taught_PL</th>\n",
       "      <th>language_taught_PT</th>\n",
       "      <th>language_taught_RO</th>\n",
       "      <th>language_taught_SK</th>\n",
       "      <th>language_taught_SL</th>\n",
       "      <th>language_taught_SV</th>\n",
       "      <th>language_taught_TR</th>\n",
       "      <th>language_taught_XX</th>\n",
       "    </tr>\n",
       "  </thead>\n",
       "  <tbody>\n",
       "    <tr>\n",
       "      <th>0</th>\n",
       "      <td>0</td>\n",
       "      <td>0</td>\n",
       "      <td>0</td>\n",
       "      <td>1</td>\n",
       "      <td>0</td>\n",
       "      <td>0</td>\n",
       "      <td>0</td>\n",
       "      <td>0</td>\n",
       "      <td>0</td>\n",
       "      <td>0</td>\n",
       "      <td>...</td>\n",
       "      <td>0</td>\n",
       "      <td>0</td>\n",
       "      <td>0</td>\n",
       "      <td>0</td>\n",
       "      <td>0</td>\n",
       "      <td>0</td>\n",
       "      <td>0</td>\n",
       "      <td>0</td>\n",
       "      <td>0</td>\n",
       "      <td>0</td>\n",
       "    </tr>\n",
       "    <tr>\n",
       "      <th>1</th>\n",
       "      <td>0</td>\n",
       "      <td>0</td>\n",
       "      <td>0</td>\n",
       "      <td>1</td>\n",
       "      <td>0</td>\n",
       "      <td>0</td>\n",
       "      <td>0</td>\n",
       "      <td>0</td>\n",
       "      <td>0</td>\n",
       "      <td>0</td>\n",
       "      <td>...</td>\n",
       "      <td>0</td>\n",
       "      <td>0</td>\n",
       "      <td>0</td>\n",
       "      <td>0</td>\n",
       "      <td>0</td>\n",
       "      <td>0</td>\n",
       "      <td>0</td>\n",
       "      <td>0</td>\n",
       "      <td>0</td>\n",
       "      <td>0</td>\n",
       "    </tr>\n",
       "    <tr>\n",
       "      <th>2</th>\n",
       "      <td>0</td>\n",
       "      <td>0</td>\n",
       "      <td>0</td>\n",
       "      <td>0</td>\n",
       "      <td>0</td>\n",
       "      <td>1</td>\n",
       "      <td>0</td>\n",
       "      <td>0</td>\n",
       "      <td>0</td>\n",
       "      <td>0</td>\n",
       "      <td>...</td>\n",
       "      <td>0</td>\n",
       "      <td>0</td>\n",
       "      <td>0</td>\n",
       "      <td>0</td>\n",
       "      <td>0</td>\n",
       "      <td>0</td>\n",
       "      <td>0</td>\n",
       "      <td>0</td>\n",
       "      <td>0</td>\n",
       "      <td>0</td>\n",
       "    </tr>\n",
       "    <tr>\n",
       "      <th>3</th>\n",
       "      <td>0</td>\n",
       "      <td>0</td>\n",
       "      <td>0</td>\n",
       "      <td>1</td>\n",
       "      <td>0</td>\n",
       "      <td>0</td>\n",
       "      <td>0</td>\n",
       "      <td>0</td>\n",
       "      <td>0</td>\n",
       "      <td>0</td>\n",
       "      <td>...</td>\n",
       "      <td>0</td>\n",
       "      <td>0</td>\n",
       "      <td>0</td>\n",
       "      <td>0</td>\n",
       "      <td>0</td>\n",
       "      <td>0</td>\n",
       "      <td>0</td>\n",
       "      <td>0</td>\n",
       "      <td>0</td>\n",
       "      <td>0</td>\n",
       "    </tr>\n",
       "    <tr>\n",
       "      <th>4</th>\n",
       "      <td>0</td>\n",
       "      <td>0</td>\n",
       "      <td>0</td>\n",
       "      <td>1</td>\n",
       "      <td>0</td>\n",
       "      <td>0</td>\n",
       "      <td>0</td>\n",
       "      <td>0</td>\n",
       "      <td>0</td>\n",
       "      <td>0</td>\n",
       "      <td>...</td>\n",
       "      <td>0</td>\n",
       "      <td>0</td>\n",
       "      <td>0</td>\n",
       "      <td>0</td>\n",
       "      <td>0</td>\n",
       "      <td>0</td>\n",
       "      <td>0</td>\n",
       "      <td>0</td>\n",
       "      <td>0</td>\n",
       "      <td>0</td>\n",
       "    </tr>\n",
       "  </tbody>\n",
       "</table>\n",
       "<p>5 rows × 27 columns</p>\n",
       "</div>"
      ],
      "text/plain": [
       "   language_taught_BG  language_taught_CS  language_taught_DA  \\\n",
       "0                   0                   0                   0   \n",
       "1                   0                   0                   0   \n",
       "2                   0                   0                   0   \n",
       "3                   0                   0                   0   \n",
       "4                   0                   0                   0   \n",
       "\n",
       "   language_taught_DE  language_taught_EL  language_taught_EN  \\\n",
       "0                   1                   0                   0   \n",
       "1                   1                   0                   0   \n",
       "2                   0                   0                   1   \n",
       "3                   1                   0                   0   \n",
       "4                   1                   0                   0   \n",
       "\n",
       "   language_taught_ES  language_taught_ET  language_taught_FI  \\\n",
       "0                   0                   0                   0   \n",
       "1                   0                   0                   0   \n",
       "2                   0                   0                   0   \n",
       "3                   0                   0                   0   \n",
       "4                   0                   0                   0   \n",
       "\n",
       "   language_taught_FR  ...  language_taught_NL  language_taught_NO  \\\n",
       "0                   0  ...                   0                   0   \n",
       "1                   0  ...                   0                   0   \n",
       "2                   0  ...                   0                   0   \n",
       "3                   0  ...                   0                   0   \n",
       "4                   0  ...                   0                   0   \n",
       "\n",
       "   language_taught_PL  language_taught_PT  language_taught_RO  \\\n",
       "0                   0                   0                   0   \n",
       "1                   0                   0                   0   \n",
       "2                   0                   0                   0   \n",
       "3                   0                   0                   0   \n",
       "4                   0                   0                   0   \n",
       "\n",
       "   language_taught_SK  language_taught_SL  language_taught_SV  \\\n",
       "0                   0                   0                   0   \n",
       "1                   0                   0                   0   \n",
       "2                   0                   0                   0   \n",
       "3                   0                   0                   0   \n",
       "4                   0                   0                   0   \n",
       "\n",
       "   language_taught_TR  language_taught_XX  \n",
       "0                   0                   0  \n",
       "1                   0                   0  \n",
       "2                   0                   0  \n",
       "3                   0                   0  \n",
       "4                   0                   0  \n",
       "\n",
       "[5 rows x 27 columns]"
      ]
     },
     "execution_count": 2125,
     "metadata": {},
     "output_type": "execute_result"
    }
   ],
   "source": [
    "df_LT = pd.get_dummies(df['LANGUAGETAUGHT'], prefix='language_taught')\n",
    "df_LT.head()"
   ]
  },
  {
   "cell_type": "code",
   "execution_count": 2126,
   "id": "b9d736fa",
   "metadata": {},
   "outputs": [],
   "source": [
    "df2 = pd.concat([df, df_PP, df_QAH, df_SA, df_NA, df_LS, df_COW, df_TWS, df_LP, df_LT], axis=1)"
   ]
  },
  {
   "cell_type": "code",
   "execution_count": 2127,
   "id": "8220f035",
   "metadata": {},
   "outputs": [
    {
     "data": {
      "text/plain": [
       "Index(['HOMEINSTITUTION', 'COUNTRYCODEOFHOMEINSTITUTION', 'AGE', 'GENDER',\n",
       "       'NATIONALITY', 'SUBJECTAREA', 'LEVELSTUDY', 'YEARSPRIOR',\n",
       "       'MOBILITYTYPE', 'HOSTINSTITUTION',\n",
       "       ...\n",
       "       'language_taught_NL', 'language_taught_NO', 'language_taught_PL',\n",
       "       'language_taught_PT', 'language_taught_RO', 'language_taught_SK',\n",
       "       'language_taught_SL', 'language_taught_SV', 'language_taught_TR',\n",
       "       'language_taught_XX'],\n",
       "      dtype='object', length=300)"
      ]
     },
     "execution_count": 2127,
     "metadata": {},
     "output_type": "execute_result"
    }
   ],
   "source": [
    "df2.columns"
   ]
  },
  {
   "cell_type": "code",
   "execution_count": 2128,
   "id": "3d420d66",
   "metadata": {},
   "outputs": [],
   "source": [
    "# Drop\n",
    "\n",
    "df2 = df2.drop(['HOMEINSTITUTION', 'HOSTINSTITUTION', 'COUNTRYCODEOFHOMEINSTITUTION', \n",
    "       'NATIONALITY', 'LEVELSTUDY', 'COUNTRYOFWORKPLACEMENT',\n",
    "       'TYPEWORKSECTOR', 'SHORTDURATION',\n",
    "       'PLACEMENTSTARTDATE', 'CONSORTIUMAGREEMENTNUMBER',\n",
    "       'TOTALECTSCREDITS', 'LANGUAGETAUGHT',\n",
    "       'LINGPREPARATION', 'WORKPLACEMENT', 'SEVSUPPLEMENT', 'PREVIOUSPARTICIPATION', 'QUALIFICATIONATHOST',\n",
    "        'enterprise_size'], axis = 1)"
   ]
  },
  {
   "cell_type": "code",
   "execution_count": 2129,
   "id": "5181a974",
   "metadata": {},
   "outputs": [],
   "source": [
    "y = df2['PLACEMENTGRANT']\n",
    "X = df2.drop('PLACEMENTGRANT', axis=1)\n"
   ]
  },
  {
   "cell_type": "code",
   "execution_count": 2130,
   "id": "0bf692cd",
   "metadata": {},
   "outputs": [
    {
     "data": {
      "text/plain": [
       "((31753, 281), (7939, 281), (31753,), (7939,))"
      ]
     },
     "execution_count": 2130,
     "metadata": {},
     "output_type": "execute_result"
    }
   ],
   "source": [
    "X_train, X_test, y_train, y_test = train_test_split(X, y, test_size=0.2, random_state=21)\n",
    "X_train.shape, X_test.shape, y_train.shape, y_test.shape"
   ]
  },
  {
   "cell_type": "code",
   "execution_count": 2131,
   "id": "8ffa4249",
   "metadata": {},
   "outputs": [
    {
     "data": {
      "text/plain": [
       "0.7912191048440662"
      ]
     },
     "execution_count": 2131,
     "metadata": {},
     "output_type": "execute_result"
    }
   ],
   "source": [
    "lr = LinearRegression()\n",
    "lr.fit(X_train , y_train)\n",
    "train_score = lr.score(X_train , y_train)\n",
    "train_score"
   ]
  },
  {
   "cell_type": "code",
   "execution_count": null,
   "id": "691309c6",
   "metadata": {},
   "outputs": [],
   "source": []
  },
  {
   "cell_type": "code",
   "execution_count": 2132,
   "id": "f7893422",
   "metadata": {},
   "outputs": [
    {
     "name": "stdout",
     "output_type": "stream",
     "text": [
      "[-5.20278395e-02 -7.87311179e+00  3.12055463e-02 -1.44831020e+01\n",
      " -6.03003818e+02 -2.41845630e+01  3.40811808e+02 -1.62851378e+00\n",
      "  4.90853644e+00  7.45349661e-02 -1.44687017e+01 -2.75557796e+01\n",
      "  6.91588755e+01 -2.71343942e+01  1.69358272e+02 -1.00664923e+02\n",
      " -7.16101332e+00 -6.15323354e+01  4.81508217e+01 -8.08298504e+00\n",
      "  4.99184651e+01 -5.59604921e+00 -8.33645432e+01  6.51353778e+01\n",
      "  2.33657040e+01  1.50127900e+02 -2.21281842e+02 -8.61842219e+02\n",
      "  5.03992008e+00  4.05392936e+01  3.79046747e+01  1.26929960e+01\n",
      " -5.01805314e+01  1.23901366e+02  2.46420653e+00  6.64167102e+01\n",
      " -1.59227099e+00  4.15337695e+00 -2.08452164e+01  1.76999511e+02\n",
      " -1.05786558e+02  1.13067387e+02  2.43450684e+01  5.81246737e+01\n",
      "  5.47196266e+01  9.89829580e+01 -3.53979748e+01  1.11116350e+01\n",
      " -7.21289294e+01 -1.18542435e+02 -2.75886861e+02  3.09600278e+01\n",
      " -1.91336327e+02 -2.96939562e+01  9.32560421e+01 -3.04275440e+01\n",
      "  4.21532108e+01  3.65077417e+00 -1.07635290e+02 -2.68675888e+01\n",
      "  2.05065193e+01  9.02679818e+01  4.43798386e+01  6.22232846e+01\n",
      "  4.44654074e+00  5.74666910e+01 -3.99447293e+01 -2.11696151e+01\n",
      "  1.40290638e+02 -2.13132311e+01  1.37088469e+01  3.04540377e+01\n",
      "  1.35604587e+02  1.72666229e+01  8.66510983e+01 -2.35701137e+01\n",
      "  4.15861502e+01  5.03014416e+01 -4.87940479e+01  3.84674259e+01\n",
      "  4.54394744e+01  2.20945997e+02  2.62228308e+02 -1.66334555e+01\n",
      " -3.42370967e+01 -6.81541432e+01  2.65367829e+01 -4.52854388e+01\n",
      " -7.82659850e+01  7.27337382e+01  5.80707406e+01 -5.42674667e+01\n",
      "  2.44710646e+01  4.13029288e+01 -6.99777756e+00  1.16063023e+01\n",
      " -2.32455871e+00 -2.26036974e+01  9.01568967e+01  7.72075079e+01\n",
      " -6.35242043e+01 -9.49041067e+01 -1.09966483e+01  7.61527437e+01\n",
      "  1.83729494e+01 -1.04154401e+02 -1.05225742e+02 -7.59508575e+01\n",
      " -6.77285958e+01 -8.69784237e+01  2.55947025e+01 -2.14069598e+01\n",
      "  8.22862240e+00  2.43125737e+01  2.27299317e+01  4.38713896e+01\n",
      "  1.24307000e+01  1.85926519e+02  1.28709252e+02  5.94086976e+01\n",
      " -7.57483076e+01 -6.20642308e+01 -4.97420434e+01  5.28563583e+01\n",
      "  1.27998813e+02  1.99525454e+00  2.84351123e+01  1.12197733e+02\n",
      "  2.08867505e+02 -6.16948373e+01  4.13258254e+01  2.74897464e+01\n",
      " -3.83453824e+01 -7.49429945e+00 -1.06036184e+02 -3.69291236e+01\n",
      "  3.03029379e+01 -2.93331688e+01 -3.24160705e+01  4.93425372e+01\n",
      " -1.30709859e+01  1.24666324e+01  1.86211924e+01  9.40288188e+00\n",
      " -1.39370214e+02 -6.07313275e+00 -2.92160997e+01 -2.96671376e+01\n",
      "  1.04506039e+02 -2.36937360e+01 -2.68534579e+01 -9.19713320e+01\n",
      " -4.83424141e+01 -1.11016450e+02 -5.80973184e+01 -2.58538058e+01\n",
      " -6.90996722e+01 -3.90774449e+02 -4.80988514e+02  2.59701731e+02\n",
      "  5.97376066e+02 -3.27855360e+02 -2.74774714e+02 -3.23464034e+02\n",
      "  9.28672174e+01 -2.89160154e+02 -1.91113728e+02 -2.03998983e+02\n",
      "  7.68017715e+02 -4.37738396e+01  5.39898453e+01  3.78178015e+02\n",
      "  2.50381464e+02 -3.81493296e+02 -4.41232315e+01 -2.98365823e+02\n",
      " -2.36421274e+02 -6.12058777e+02 -3.57629244e+01  4.71856966e+01\n",
      " -1.63702598e+02  5.61017223e+02  1.27499094e+02  2.40059977e+02\n",
      "  2.38238318e+02  6.81147412e+02  9.58999104e+01 -9.37279829e+01\n",
      " -3.22584453e+01 -9.92025690e+01 -1.64418572e+02  4.17688315e+01\n",
      "  1.05849288e+02  1.60064705e+02 -1.18032381e+01  1.19958950e+01\n",
      "  1.75672578e+01  4.50759698e+02 -9.71066959e+01 -7.17510245e+01\n",
      " -7.44707600e+01  2.86518048e+01  3.01393557e+00  1.58499257e+02\n",
      " -3.65626129e+01  5.42398320e+01  8.32386900e+01  7.32477221e+01\n",
      " -3.87491491e+01  1.81407641e+01 -8.72212343e+01  1.05129411e+02\n",
      "  2.99309233e-01  6.64263163e+01 -2.84692922e+02 -9.46933644e+01\n",
      " -1.20469269e+02 -2.11126438e+02  3.10281037e+01  2.48346844e+01\n",
      " -1.15298268e+01 -7.97853844e+00  3.25612716e+01 -7.78362361e+01\n",
      "  8.34542109e+01 -3.06227474e+01 -5.57527452e+00 -8.55093868e+01\n",
      "  9.28073173e+01  6.06875945e+00 -4.21909439e+01 -4.34791239e+01\n",
      " -7.07657030e+00  5.24874350e+01 -3.03706026e+01  1.81954226e+01\n",
      "  7.61142322e+01 -6.67533658e+01 -1.47312198e+01  2.83205493e+01\n",
      " -3.43341161e+01  1.66428290e+00  2.52325746e+01  5.26463849e+01\n",
      "  2.49641562e+01  9.40681085e+00 -7.45938805e-01  8.88061686e+00\n",
      " -8.76079706e+01  2.33086269e+01  3.46482182e+00  1.09162743e+00\n",
      "  2.25885015e+01 -2.71449507e+01 -1.85750065e+02 -4.18652165e+01\n",
      "  1.31170178e+02  6.47786323e+01  5.21645087e+01  5.41147770e+01\n",
      "  3.26286445e+01  2.07734266e+01  3.33400992e+00  2.45047640e+01\n",
      " -5.56373274e+01  1.15873960e+02 -4.26985323e+02  2.76962254e+01\n",
      "  3.87837341e+00  3.64052275e+02  1.13274275e+02  7.59844688e+00\n",
      "  7.11060353e+01  3.58322385e+01  3.29888822e+01 -2.05383643e+02\n",
      " -4.87568609e+01 -2.73506419e+02  3.31918816e+01  4.29843273e+01\n",
      "  5.93899318e+00]\n",
      "217.0714965445295\n"
     ]
    }
   ],
   "source": [
    "print(lr.coef_)\n",
    "print(lr.intercept_)"
   ]
  },
  {
   "cell_type": "code",
   "execution_count": 2133,
   "id": "60074d50",
   "metadata": {},
   "outputs": [
    {
     "data": {
      "text/plain": [
       "0.7930385884923736"
      ]
     },
     "execution_count": 2133,
     "metadata": {},
     "output_type": "execute_result"
    }
   ],
   "source": [
    "y_pred = lr.predict(X_test)\n",
    "test_score = r2_score(y_test , y_pred)\n",
    "test_score"
   ]
  },
  {
   "cell_type": "code",
   "execution_count": null,
   "id": "d263f8a7",
   "metadata": {},
   "outputs": [],
   "source": []
  }
 ],
 "metadata": {
  "kernelspec": {
   "display_name": "Python 3",
   "language": "python",
   "name": "python3"
  },
  "language_info": {
   "codemirror_mode": {
    "name": "ipython",
    "version": 3
   },
   "file_extension": ".py",
   "mimetype": "text/x-python",
   "name": "python",
   "nbconvert_exporter": "python",
   "pygments_lexer": "ipython3",
   "version": "3.8.8"
  }
 },
 "nbformat": 4,
 "nbformat_minor": 5
}
